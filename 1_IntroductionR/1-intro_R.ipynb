{
 "cells": [
  {
   "cell_type": "markdown",
   "metadata": {},
   "source": [
    "# INFO-F-422 -  Statistical Foundations of Machine Learning \n",
    "\n",
    "### Jacopo De Stefani - __[Jacopo.De.Stefani@ulb.ac.be](mailto:Jacopo.De.Stefani@ulb.ac.be)__\n",
    "### Théo Verhelst - __[Theo.Verhelst@ulb.ac.be](mailto:Theo.Verhelst@ulb.ac.be)__\n",
    "\n",
    "## TP 1 - Introduction to R\n",
    "\n",
    "####  February 09, 2021\n",
    "\n",
    "#### Materials originally developed by *Yann-Aël Le Borgne, Fabrizio Carcillo and Gianluca Bontempi*\n"
   ]
  },
  {
   "cell_type": "markdown",
   "metadata": {
    "collapsed": true
   },
   "source": [
    "## Preliminaries\n",
    "\n",
    "## Course organization - Practical part\n",
    "\n",
    "\n",
    "|    **Date**    |                                            **TP**                                            |             **Format**             |\n",
    "|:----------:|:----------------------------------------------------------------------------------------:|:------------------------------:|\n",
    "| 09/02/2021 |                             TP1 - Introduction to R                             |              Live              |\n",
    "| 09/03/2021 |                               TP2 -Linear models                               |      Publish material TP2      |\n",
    "| 16/03/2021 |                                              -                                            |          Q/A TP2 (1h)         |\n",
    "| 23/03/2021 | TP3 - Classification: Tree-based methods   |      Publish material TP3      |\n",
    "| 30/03/2021 |                      TP4 - Classification: Neural Networks                      | Publish material TP4 + Q/R TP3 |\n",
    "| 06/04/2021 |                                             -                                            |                                |\n",
    "| 13/04/2021 |                                             -                                            |                                |\n",
    "| 20/04/2021 |                          TP5 - Ensembles and feature selection                            | Publish material TP5 + Q/A TP4 |\n",
    "| 27/04/2021 |                         TP6 - Project introduction                         |        Q/A TP5 + Live        |\n",
    "\n",
    "### Non-live sessions\n",
    " 1. We will publish the assignment for the corresponding practical on Tuesday of the given week, as well as a video containing the theoretical reminders for the corresponding practical\n",
    " 2. During the week, we will publish videos containing the detailed solutions for the exercises of the practical\n",
    " 3. If required, the following Tuesday we will organize a live Q/A session to clarify some points.\n",
    " \n",
    " **N.B** For practical reasons, we will be collecting all the questions during the week and answering them **at once** the following week.\n",
    " \n",
    "### Project \n",
    "To be developed in R, using Jupyter Notebooks, in groups of maximum 3 people.\n",
    "More information will follow.\n",
    "\n",
    "### How to install\n",
    "\n",
    "1. **R** -  See https://cran.r-project.org for installation instructions in your OS\n",
    "2. **RStudio** - A user-friendly IDE for R, which can be downloaded for free at https://www.rstudio.com/products/rstudio/#Desktop\n",
    "3. **Python 3.7** - https://www.python.org/downloads/ - A programming language required to install and run Jupyter Notebook. **N.B.** - Check the box asking for adding Python to PATH in the installer (if required). \n",
    "4. **Jupyter Notebook** - https://jupyter.org/install - A web environment allowing to merge code, plots and Markdown in a single document\n",
    "5. **IRkernel** - https://irkernel.github.io/installation/ - A R package required to connect R with Jupyter\n",
    "\n",
    "\n",
    "## Basics\n",
    "\n",
    "### How to start and end - R\n",
    "\n",
    "*  Start R: type `R`in a terminal (CMD/PowerShell on Windows).\n",
    "*  Type `q()` for ending your session.\n",
    "\n",
    "### How to start and end - Jupyter Notebook\n",
    "\n",
    "*  Start Jupyter Notebook: type `jupyter notebook` in a terminal (CMD/PowerShell on Windows).\n",
    "*  Press `CTRL+C` twice in the terminal for shutting down the server\n",
    "\n",
    "\n",
    "### Use R as calculator\n"
   ]
  },
  {
   "cell_type": "code",
   "execution_count": 1,
   "metadata": {},
   "outputs": [
    {
     "data": {
      "text/html": [
       "4"
      ],
      "text/latex": [
       "4"
      ],
      "text/markdown": [
       "4"
      ],
      "text/plain": [
       "[1] 4"
      ]
     },
     "metadata": {},
     "output_type": "display_data"
    }
   ],
   "source": [
    "2+2"
   ]
  },
  {
   "cell_type": "code",
   "execution_count": 4,
   "metadata": {},
   "outputs": [
    {
     "name": "stdout",
     "output_type": "stream",
     "text": [
      "[1] 0.1353353\n",
      "[1] 0.1353353\n"
     ]
    }
   ],
   "source": [
    "a <- exp(-2)\n",
    "b <- 1 / (exp(1) * exp(1))\n",
    "print(a)\n",
    "print(b)"
   ]
  },
  {
   "cell_type": "code",
   "execution_count": 5,
   "metadata": {},
   "outputs": [
    {
     "data": {
      "text/html": [
       "<style>\n",
       ".list-inline {list-style: none; margin:0; padding: 0}\n",
       ".list-inline>li {display: inline-block}\n",
       ".list-inline>li:not(:last-child)::after {content: \"\\00b7\"; padding: 0 .5ex}\n",
       "</style>\n",
       "<ol class=list-inline><li>-1.05294525298077</li><li>-2.27347141913899</li><li>1.06929334427372</li><li>0.957759016597138</li><li>-1.05201604408888</li><li>0.81044685492428</li><li>-0.347790494657084</li><li>-0.631239363984341</li><li>-0.563253432959011</li><li>-1.82809332694864</li><li>-0.483983302849691</li><li>-1.00647135832775</li><li>-1.16589872416964</li><li>1.23296227115087</li><li>0.799632285150827</li></ol>\n"
      ],
      "text/latex": [
       "\\begin{enumerate*}\n",
       "\\item -1.05294525298077\n",
       "\\item -2.27347141913899\n",
       "\\item 1.06929334427372\n",
       "\\item 0.957759016597138\n",
       "\\item -1.05201604408888\n",
       "\\item 0.81044685492428\n",
       "\\item -0.347790494657084\n",
       "\\item -0.631239363984341\n",
       "\\item -0.563253432959011\n",
       "\\item -1.82809332694864\n",
       "\\item -0.483983302849691\n",
       "\\item -1.00647135832775\n",
       "\\item -1.16589872416964\n",
       "\\item 1.23296227115087\n",
       "\\item 0.799632285150827\n",
       "\\end{enumerate*}\n"
      ],
      "text/markdown": [
       "1. -1.05294525298077\n",
       "2. -2.27347141913899\n",
       "3. 1.06929334427372\n",
       "4. 0.957759016597138\n",
       "5. -1.05201604408888\n",
       "6. 0.81044685492428\n",
       "7. -0.347790494657084\n",
       "8. -0.631239363984341\n",
       "9. -0.563253432959011\n",
       "10. -1.82809332694864\n",
       "11. -0.483983302849691\n",
       "12. -1.00647135832775\n",
       "13. -1.16589872416964\n",
       "14. 1.23296227115087\n",
       "15. 0.799632285150827\n",
       "\n",
       "\n"
      ],
      "text/plain": [
       " [1] -1.0529453 -2.2734714  1.0692933  0.9577590 -1.0520160  0.8104469\n",
       " [7] -0.3477905 -0.6312394 -0.5632534 -1.8280933 -0.4839833 -1.0064714\n",
       "[13] -1.1658987  1.2329623  0.7996323"
      ]
     },
     "metadata": {},
     "output_type": "display_data"
    }
   ],
   "source": [
    "rnorm(15)  # to generate random numbers"
   ]
  },
  {
   "cell_type": "markdown",
   "metadata": {},
   "source": [
    "### Assign values to variables"
   ]
  },
  {
   "cell_type": "code",
   "execution_count": 6,
   "metadata": {},
   "outputs": [
    {
     "data": {
      "text/html": [
       "2"
      ],
      "text/latex": [
       "2"
      ],
      "text/markdown": [
       "2"
      ],
      "text/plain": [
       "[1] 2"
      ]
     },
     "metadata": {},
     "output_type": "display_data"
    }
   ],
   "source": [
    "x<-2\n",
    "x"
   ]
  },
  {
   "cell_type": "code",
   "execution_count": 7,
   "metadata": {},
   "outputs": [
    {
     "data": {
      "text/html": [
       "4"
      ],
      "text/latex": [
       "4"
      ],
      "text/markdown": [
       "4"
      ],
      "text/plain": [
       "[1] 4"
      ]
     },
     "metadata": {},
     "output_type": "display_data"
    }
   ],
   "source": [
    "y<-x+x\n",
    "y"
   ]
  },
  {
   "cell_type": "markdown",
   "metadata": {},
   "source": [
    "### Installing and loading libraries"
   ]
  },
  {
   "cell_type": "code",
   "execution_count": 8,
   "metadata": {},
   "outputs": [
    {
     "name": "stderr",
     "output_type": "stream",
     "text": [
      "Installing package into ‘/usr/local/lib/R/4.0/site-library’\n",
      "(as ‘lib’ is unspecified)\n",
      "\n"
     ]
    }
   ],
   "source": [
    "# install.packages(\"ISwR\")\n",
    "# uncomment previous line to install package\n",
    "library(ISwR)"
   ]
  },
  {
   "cell_type": "markdown",
   "metadata": {},
   "source": [
    "### Naming conventions\n",
    "\n",
    "*  The variables are case-sensitive, can contain a dot (.) and numbers (but cannot start with a number or with a dot followed by a number).\n",
    "*  The names `c,q,t,C,D,F,I,T,diff,df,pt` in particular, are already used by the system and should therefore be avoided.\n",
    "\n",
    "## Vectors and matrices\n",
    "\n",
    "### Defining a vector\n",
    "\n",
    "Vectors can be of any type: integer, double, character, logical, resulting from relational expressions:"
   ]
  },
  {
   "cell_type": "code",
   "execution_count": 9,
   "metadata": {},
   "outputs": [
    {
     "data": {
      "text/html": [
       "<style>\n",
       ".list-inline {list-style: none; margin:0; padding: 0}\n",
       ".list-inline>li {display: inline-block}\n",
       ".list-inline>li:not(:last-child)::after {content: \"\\00b7\"; padding: 0 .5ex}\n",
       "</style>\n",
       "<ol class=list-inline><li>FALSE</li><li>FALSE</li><li>FALSE</li><li>TRUE</li></ol>\n"
      ],
      "text/latex": [
       "\\begin{enumerate*}\n",
       "\\item FALSE\n",
       "\\item FALSE\n",
       "\\item FALSE\n",
       "\\item TRUE\n",
       "\\end{enumerate*}\n"
      ],
      "text/markdown": [
       "1. FALSE\n",
       "2. FALSE\n",
       "3. FALSE\n",
       "4. TRUE\n",
       "\n",
       "\n"
      ],
      "text/plain": [
       "[1] FALSE FALSE FALSE  TRUE"
      ]
     },
     "metadata": {},
     "output_type": "display_data"
    }
   ],
   "source": [
    "w<-c(1,2,3,4)\n",
    "x<-c(1.5,2.5,3.5,3.5)\n",
    "y<-c(\"Huey\",\"Dewey\",\"Loui\")\n",
    "z<-c(T,F,F,T)\n",
    "wx<- w>x\n",
    "wx"
   ]
  },
  {
   "cell_type": "markdown",
   "metadata": {},
   "source": [
    "There exists different functions to define a vector: element wise `c(val_1,...,val_n)`, as a sequence between two values `seq(val_1,val_2)` and as $n$ repetitions of the same element `rep(val,n)`."
   ]
  },
  {
   "cell_type": "code",
   "execution_count": 10,
   "metadata": {},
   "outputs": [
    {
     "data": {
      "text/html": [
       "<style>\n",
       ".list-inline {list-style: none; margin:0; padding: 0}\n",
       ".list-inline>li {display: inline-block}\n",
       ".list-inline>li:not(:last-child)::after {content: \"\\00b7\"; padding: 0 .5ex}\n",
       "</style>\n",
       "<ol class=list-inline><li>1</li><li>2</li><li>3</li><li>4</li></ol>\n"
      ],
      "text/latex": [
       "\\begin{enumerate*}\n",
       "\\item 1\n",
       "\\item 2\n",
       "\\item 3\n",
       "\\item 4\n",
       "\\end{enumerate*}\n"
      ],
      "text/markdown": [
       "1. 1\n",
       "2. 2\n",
       "3. 3\n",
       "4. 4\n",
       "\n",
       "\n"
      ],
      "text/plain": [
       "[1] 1 2 3 4"
      ]
     },
     "metadata": {},
     "output_type": "display_data"
    }
   ],
   "source": [
    "w<-c(1,2,3,4)\n",
    "w"
   ]
  },
  {
   "cell_type": "code",
   "execution_count": 12,
   "metadata": {},
   "outputs": [
    {
     "data": {
      "text/html": [
       "<style>\n",
       ".list-inline {list-style: none; margin:0; padding: 0}\n",
       ".list-inline>li {display: inline-block}\n",
       ".list-inline>li:not(:last-child)::after {content: \"\\00b7\"; padding: 0 .5ex}\n",
       "</style>\n",
       "<ol class=list-inline><li>1</li><li>1.5</li><li>2</li><li>2.5</li><li>3</li><li>3.5</li><li>4</li></ol>\n"
      ],
      "text/latex": [
       "\\begin{enumerate*}\n",
       "\\item 1\n",
       "\\item 1.5\n",
       "\\item 2\n",
       "\\item 2.5\n",
       "\\item 3\n",
       "\\item 3.5\n",
       "\\item 4\n",
       "\\end{enumerate*}\n"
      ],
      "text/markdown": [
       "1. 1\n",
       "2. 1.5\n",
       "3. 2\n",
       "4. 2.5\n",
       "5. 3\n",
       "6. 3.5\n",
       "7. 4\n",
       "\n",
       "\n"
      ],
      "text/plain": [
       "[1] 1.0 1.5 2.0 2.5 3.0 3.5 4.0"
      ]
     },
     "metadata": {},
     "output_type": "display_data"
    }
   ],
   "source": [
    "x<-seq(1,4, 0.5)\n",
    "x"
   ]
  },
  {
   "cell_type": "code",
   "execution_count": 17,
   "metadata": {},
   "outputs": [
    {
     "data": {
      "text/html": [
       "<style>\n",
       ".list-inline {list-style: none; margin:0; padding: 0}\n",
       ".list-inline>li {display: inline-block}\n",
       ".list-inline>li:not(:last-child)::after {content: \"\\00b7\"; padding: 0 .5ex}\n",
       "</style>\n",
       "<ol class=list-inline><li>1</li><li>1</li><li>1</li><li>1</li></ol>\n"
      ],
      "text/latex": [
       "\\begin{enumerate*}\n",
       "\\item 1\n",
       "\\item 1\n",
       "\\item 1\n",
       "\\item 1\n",
       "\\end{enumerate*}\n"
      ],
      "text/markdown": [
       "1. 1\n",
       "2. 1\n",
       "3. 1\n",
       "4. 1\n",
       "\n",
       "\n"
      ],
      "text/plain": [
       "[1] 1 1 1 1"
      ]
     },
     "metadata": {},
     "output_type": "display_data"
    }
   ],
   "source": [
    "y<-rep(1,4)\n",
    "y"
   ]
  },
  {
   "cell_type": "markdown",
   "metadata": {},
   "source": [
    "### Exercises\n",
    "\n",
    "Generate the following vectors \n",
    "\n",
    "* 1 3 5\n",
    "* 1 2 2 2 3 3 3 3 3\n",
    "\n",
    "using only the functions `rep` and `seq` (no  `c(..)`), check the help by typing `?rep` and `?seq` for all parameter options.\n",
    "\n"
   ]
  },
  {
   "cell_type": "code",
   "execution_count": 22,
   "metadata": {},
   "outputs": [
    {
     "name": "stdout",
     "output_type": "stream",
     "text": [
      "[1] 1 2 2 2 3 3 3 3\n"
     ]
    }
   ],
   "source": [
    "vec <- seq(1, 5, 2)\n",
    "vec_2 <- rep(c(1, 2, 3), c(1, 3, 4))\n",
    "\n",
    "print(vec_2)"
   ]
  },
  {
   "cell_type": "markdown",
   "metadata": {},
   "source": [
    "### Vector arithmetics"
   ]
  },
  {
   "cell_type": "code",
   "execution_count": 23,
   "metadata": {},
   "outputs": [
    {
     "data": {
      "text/html": [
       "<style>\n",
       ".list-inline {list-style: none; margin:0; padding: 0}\n",
       ".list-inline>li {display: inline-block}\n",
       ".list-inline>li:not(:last-child)::after {content: \"\\00b7\"; padding: 0 .5ex}\n",
       "</style>\n",
       "<ol class=list-inline><li>19.5918367346939</li><li>22.2222222222222</li><li>20.9366391184573</li><li>24.9307479224377</li><li>31.3779891663364</li><li>19.7363010882377</li><li>21.0076677987465</li></ol>\n"
      ],
      "text/latex": [
       "\\begin{enumerate*}\n",
       "\\item 19.5918367346939\n",
       "\\item 22.2222222222222\n",
       "\\item 20.9366391184573\n",
       "\\item 24.9307479224377\n",
       "\\item 31.3779891663364\n",
       "\\item 19.7363010882377\n",
       "\\item 21.0076677987465\n",
       "\\end{enumerate*}\n"
      ],
      "text/markdown": [
       "1. 19.5918367346939\n",
       "2. 22.2222222222222\n",
       "3. 20.9366391184573\n",
       "4. 24.9307479224377\n",
       "5. 31.3779891663364\n",
       "6. 19.7363010882377\n",
       "7. 21.0076677987465\n",
       "\n",
       "\n"
      ],
      "text/plain": [
       "[1] 19.59184 22.22222 20.93664 24.93075 31.37799 19.73630 21.00767"
      ]
     },
     "metadata": {},
     "output_type": "display_data"
    }
   ],
   "source": [
    "weight <- c(60, 72, 57, 90, 95, 72,60)\n",
    "height <- c(1.75, 1.80, 1.65, 1.90, 1.74, 1.91,1.69)\n",
    "bmi <- weight/height^2\n",
    "bmi"
   ]
  },
  {
   "cell_type": "markdown",
   "metadata": {},
   "source": [
    "### Exercises\n",
    "\n",
    "*  Compute the adjusted BMI using the formula $\\frac{weight}{height^{2.5}/1.3}$ and store it in a variable  `bmi2` \n",
    "\n",
    "\n"
   ]
  },
  {
   "cell_type": "code",
   "execution_count": 25,
   "metadata": {},
   "outputs": [
    {
     "data": {
      "text/html": [
       "<style>\n",
       ".list-inline {list-style: none; margin:0; padding: 0}\n",
       ".list-inline>li {display: inline-block}\n",
       ".list-inline>li:not(:last-child)::after {content: \"\\00b7\"; padding: 0 .5ex}\n",
       "</style>\n",
       "<ol class=list-inline><li>19.2530474414496</li><li>21.532506449998</li><li>21.1888968824128</li><li>23.5126651697705</li><li>30.9238698579715</li><li>18.5648921508102</li><li>21.0076677987465</li></ol>\n"
      ],
      "text/latex": [
       "\\begin{enumerate*}\n",
       "\\item 19.2530474414496\n",
       "\\item 21.532506449998\n",
       "\\item 21.1888968824128\n",
       "\\item 23.5126651697705\n",
       "\\item 30.9238698579715\n",
       "\\item 18.5648921508102\n",
       "\\item 21.0076677987465\n",
       "\\end{enumerate*}\n"
      ],
      "text/markdown": [
       "1. 19.2530474414496\n",
       "2. 21.532506449998\n",
       "3. 21.1888968824128\n",
       "4. 23.5126651697705\n",
       "5. 30.9238698579715\n",
       "6. 18.5648921508102\n",
       "7. 21.0076677987465\n",
       "\n",
       "\n"
      ],
      "text/plain": [
       "[1] 19.25305 21.53251 21.18890 23.51267 30.92387 18.56489 21.00767"
      ]
     },
     "metadata": {},
     "output_type": "display_data"
    }
   ],
   "source": [
    "bmi2 = weight / (height^2.5 / 1.3)\n",
    "bmi2"
   ]
  },
  {
   "cell_type": "markdown",
   "metadata": {},
   "source": [
    "### Functions for vectors\n",
    "\n",
    "There exists a lot of predefined functions for a vector `v`, these include the following"
   ]
  },
  {
   "cell_type": "code",
   "execution_count": 31,
   "metadata": {},
   "outputs": [
    {
     "data": {
      "text/html": [
       "15"
      ],
      "text/latex": [
       "15"
      ],
      "text/markdown": [
       "15"
      ],
      "text/plain": [
       "[1] 15"
      ]
     },
     "metadata": {},
     "output_type": "display_data"
    }
   ],
   "source": [
    "v<-seq(5,1)\n",
    "sum(v)"
   ]
  },
  {
   "cell_type": "code",
   "execution_count": 32,
   "metadata": {},
   "outputs": [
    {
     "data": {
      "text/html": [
       "5"
      ],
      "text/latex": [
       "5"
      ],
      "text/markdown": [
       "5"
      ],
      "text/plain": [
       "[1] 5"
      ]
     },
     "metadata": {},
     "output_type": "display_data"
    }
   ],
   "source": [
    "length(v)"
   ]
  },
  {
   "cell_type": "code",
   "execution_count": 33,
   "metadata": {},
   "outputs": [
    {
     "data": {
      "text/html": [
       "<style>\n",
       ".list-inline {list-style: none; margin:0; padding: 0}\n",
       ".list-inline>li {display: inline-block}\n",
       ".list-inline>li:not(:last-child)::after {content: \"\\00b7\"; padding: 0 .5ex}\n",
       "</style>\n",
       "<ol class=list-inline><li>1</li><li>2</li><li>3</li><li>4</li><li>5</li></ol>\n"
      ],
      "text/latex": [
       "\\begin{enumerate*}\n",
       "\\item 1\n",
       "\\item 2\n",
       "\\item 3\n",
       "\\item 4\n",
       "\\item 5\n",
       "\\end{enumerate*}\n"
      ],
      "text/markdown": [
       "1. 1\n",
       "2. 2\n",
       "3. 3\n",
       "4. 4\n",
       "5. 5\n",
       "\n",
       "\n"
      ],
      "text/plain": [
       "[1] 1 2 3 4 5"
      ]
     },
     "metadata": {},
     "output_type": "display_data"
    }
   ],
   "source": [
    "sort(v)"
   ]
  },
  {
   "cell_type": "code",
   "execution_count": 37,
   "metadata": {},
   "outputs": [
    {
     "data": {
      "text/html": [
       "<style>\n",
       ".list-inline {list-style: none; margin:0; padding: 0}\n",
       ".list-inline>li {display: inline-block}\n",
       ".list-inline>li:not(:last-child)::after {content: \"\\00b7\"; padding: 0 .5ex}\n",
       "</style>\n",
       "<ol class=list-inline><li>1</li><li>2</li><li>3</li><li>4</li><li>5</li></ol>\n"
      ],
      "text/latex": [
       "\\begin{enumerate*}\n",
       "\\item 1\n",
       "\\item 2\n",
       "\\item 3\n",
       "\\item 4\n",
       "\\item 5\n",
       "\\end{enumerate*}\n"
      ],
      "text/markdown": [
       "1. 1\n",
       "2. 2\n",
       "3. 3\n",
       "4. 4\n",
       "5. 5\n",
       "\n",
       "\n"
      ],
      "text/plain": [
       "[1] 1 2 3 4 5"
      ]
     },
     "metadata": {},
     "output_type": "display_data"
    }
   ],
   "source": [
    "order(v, decreasing=TRUE)"
   ]
  },
  {
   "cell_type": "code",
   "execution_count": 38,
   "metadata": {},
   "outputs": [
    {
     "data": {
      "text/html": [
       "120"
      ],
      "text/latex": [
       "120"
      ],
      "text/markdown": [
       "120"
      ],
      "text/plain": [
       "[1] 120"
      ]
     },
     "metadata": {},
     "output_type": "display_data"
    }
   ],
   "source": [
    "prod(v)"
   ]
  },
  {
   "cell_type": "code",
   "execution_count": 39,
   "metadata": {},
   "outputs": [
    {
     "data": {
      "text/html": [
       "3"
      ],
      "text/latex": [
       "3"
      ],
      "text/markdown": [
       "3"
      ],
      "text/plain": [
       "[1] 3"
      ]
     },
     "metadata": {},
     "output_type": "display_data"
    }
   ],
   "source": [
    "mean(v)"
   ]
  },
  {
   "cell_type": "code",
   "execution_count": 44,
   "metadata": {},
   "outputs": [
    {
     "data": {
      "text/html": [
       "1.58113883008419"
      ],
      "text/latex": [
       "1.58113883008419"
      ],
      "text/markdown": [
       "1.58113883008419"
      ],
      "text/plain": [
       "[1] 1.581139"
      ]
     },
     "metadata": {},
     "output_type": "display_data"
    }
   ],
   "source": [
    "sd(v) "
   ]
  },
  {
   "cell_type": "markdown",
   "metadata": {},
   "source": [
    "###  Defining matrices\n",
    "\n",
    "*  In R, matrices (2 dimensions) and arrays (more than 2 dimensions) can contain elements of any type (characters, etc.)\n",
    "*  The `dim` assignment function sets or changes the *dimension attribute* of a vector `x`, causing R to treat the vector as a matrix.\n"
   ]
  },
  {
   "cell_type": "code",
   "execution_count": 47,
   "metadata": {},
   "outputs": [
    {
     "data": {
      "text/html": [
       "<style>\n",
       ".list-inline {list-style: none; margin:0; padding: 0}\n",
       ".list-inline>li {display: inline-block}\n",
       ".list-inline>li:not(:last-child)::after {content: \"\\00b7\"; padding: 0 .5ex}\n",
       "</style>\n",
       "<ol class=list-inline><li>1</li><li>2</li><li>3</li><li>4</li><li>5</li><li>6</li><li>7</li><li>8</li><li>9</li><li>10</li><li>11</li><li>12</li></ol>\n"
      ],
      "text/latex": [
       "\\begin{enumerate*}\n",
       "\\item 1\n",
       "\\item 2\n",
       "\\item 3\n",
       "\\item 4\n",
       "\\item 5\n",
       "\\item 6\n",
       "\\item 7\n",
       "\\item 8\n",
       "\\item 9\n",
       "\\item 10\n",
       "\\item 11\n",
       "\\item 12\n",
       "\\end{enumerate*}\n"
      ],
      "text/markdown": [
       "1. 1\n",
       "2. 2\n",
       "3. 3\n",
       "4. 4\n",
       "5. 5\n",
       "6. 6\n",
       "7. 7\n",
       "8. 8\n",
       "9. 9\n",
       "10. 10\n",
       "11. 11\n",
       "12. 12\n",
       "\n",
       "\n"
      ],
      "text/plain": [
       ", , 1\n",
       "\n",
       "     [,1] [,2]\n",
       "[1,]    1    4\n",
       "[2,]    2    5\n",
       "[3,]    3    6\n",
       "\n",
       ", , 2\n",
       "\n",
       "     [,1] [,2]\n",
       "[1,]    7   10\n",
       "[2,]    8   11\n",
       "[3,]    9   12\n"
      ]
     },
     "metadata": {},
     "output_type": "display_data"
    }
   ],
   "source": [
    "x <- 1:12\n",
    "dim(x) <- c(3,2,2)\n",
    "x"
   ]
  },
  {
   "cell_type": "markdown",
   "metadata": {},
   "source": [
    "*  Other possibilities to create matrices using the `matrix(...)` command:"
   ]
  },
  {
   "cell_type": "code",
   "execution_count": 54,
   "metadata": {},
   "outputs": [
    {
     "data": {
      "text/html": [
       "<table class=\"dataframe\">\n",
       "<caption>A matrix: 3 × 4 of type dbl</caption>\n",
       "<tbody>\n",
       "\t<tr><td> 2</td><td> 4</td><td> 6</td><td> 8</td></tr>\n",
       "\t<tr><td>10</td><td>12</td><td>14</td><td>16</td></tr>\n",
       "\t<tr><td>18</td><td>20</td><td>22</td><td>24</td></tr>\n",
       "</tbody>\n",
       "</table>\n"
      ],
      "text/latex": [
       "A matrix: 3 × 4 of type dbl\n",
       "\\begin{tabular}{llll}\n",
       "\t  2 &  4 &  6 &  8\\\\\n",
       "\t 10 & 12 & 14 & 16\\\\\n",
       "\t 18 & 20 & 22 & 24\\\\\n",
       "\\end{tabular}\n"
      ],
      "text/markdown": [
       "\n",
       "A matrix: 3 × 4 of type dbl\n",
       "\n",
       "|  2 |  4 |  6 |  8 |\n",
       "| 10 | 12 | 14 | 16 |\n",
       "| 18 | 20 | 22 | 24 |\n",
       "\n"
      ],
      "text/plain": [
       "     [,1] [,2] [,3] [,4]\n",
       "[1,]  2    4    6    8  \n",
       "[2,] 10   12   14   16  \n",
       "[3,] 18   20   22   24  "
      ]
     },
     "metadata": {},
     "output_type": "display_data"
    }
   ],
   "source": [
    "matrix(seq(2, 24, 2), nr=3, byrow=T)"
   ]
  },
  {
   "cell_type": "code",
   "execution_count": 55,
   "metadata": {},
   "outputs": [
    {
     "data": {
      "text/html": [
       "<table class=\"dataframe\">\n",
       "<caption>A matrix: 6 × 7 of type dbl</caption>\n",
       "<tbody>\n",
       "\t<tr><td>1</td><td>1</td><td>1</td><td>1</td><td>1</td><td>1</td><td>1</td></tr>\n",
       "\t<tr><td>1</td><td>1</td><td>1</td><td>1</td><td>1</td><td>1</td><td>1</td></tr>\n",
       "\t<tr><td>1</td><td>1</td><td>1</td><td>1</td><td>1</td><td>1</td><td>1</td></tr>\n",
       "\t<tr><td>1</td><td>1</td><td>1</td><td>1</td><td>1</td><td>1</td><td>1</td></tr>\n",
       "\t<tr><td>1</td><td>1</td><td>1</td><td>1</td><td>1</td><td>1</td><td>1</td></tr>\n",
       "\t<tr><td>1</td><td>1</td><td>1</td><td>1</td><td>1</td><td>1</td><td>1</td></tr>\n",
       "</tbody>\n",
       "</table>\n"
      ],
      "text/latex": [
       "A matrix: 6 × 7 of type dbl\n",
       "\\begin{tabular}{lllllll}\n",
       "\t 1 & 1 & 1 & 1 & 1 & 1 & 1\\\\\n",
       "\t 1 & 1 & 1 & 1 & 1 & 1 & 1\\\\\n",
       "\t 1 & 1 & 1 & 1 & 1 & 1 & 1\\\\\n",
       "\t 1 & 1 & 1 & 1 & 1 & 1 & 1\\\\\n",
       "\t 1 & 1 & 1 & 1 & 1 & 1 & 1\\\\\n",
       "\t 1 & 1 & 1 & 1 & 1 & 1 & 1\\\\\n",
       "\\end{tabular}\n"
      ],
      "text/markdown": [
       "\n",
       "A matrix: 6 × 7 of type dbl\n",
       "\n",
       "| 1 | 1 | 1 | 1 | 1 | 1 | 1 |\n",
       "| 1 | 1 | 1 | 1 | 1 | 1 | 1 |\n",
       "| 1 | 1 | 1 | 1 | 1 | 1 | 1 |\n",
       "| 1 | 1 | 1 | 1 | 1 | 1 | 1 |\n",
       "| 1 | 1 | 1 | 1 | 1 | 1 | 1 |\n",
       "| 1 | 1 | 1 | 1 | 1 | 1 | 1 |\n",
       "\n"
      ],
      "text/plain": [
       "     [,1] [,2] [,3] [,4] [,5] [,6] [,7]\n",
       "[1,] 1    1    1    1    1    1    1   \n",
       "[2,] 1    1    1    1    1    1    1   \n",
       "[3,] 1    1    1    1    1    1    1   \n",
       "[4,] 1    1    1    1    1    1    1   \n",
       "[5,] 1    1    1    1    1    1    1   \n",
       "[6,] 1    1    1    1    1    1    1   "
      ]
     },
     "metadata": {},
     "output_type": "display_data"
    }
   ],
   "source": [
    "matrix(1,6,7)"
   ]
  },
  {
   "cell_type": "markdown",
   "metadata": {},
   "source": [
    "*  Using the `array` command:"
   ]
  },
  {
   "cell_type": "code",
   "execution_count": 59,
   "metadata": {},
   "outputs": [
    {
     "data": {
      "text/html": [
       "<table class=\"dataframe\">\n",
       "<caption>A matrix: 3 × 4 of type int</caption>\n",
       "<thead>\n",
       "\t<tr><th></th><th scope=col>Hello</th><th scope=col>darkness</th><th scope=col>my</th><th scope=col>friend</th></tr>\n",
       "</thead>\n",
       "<tbody>\n",
       "\t<tr><th scope=row>a</th><td>1</td><td>4</td><td>7</td><td>10</td></tr>\n",
       "\t<tr><th scope=row>b</th><td>2</td><td>5</td><td>8</td><td>11</td></tr>\n",
       "\t<tr><th scope=row>c</th><td>3</td><td>6</td><td>9</td><td>12</td></tr>\n",
       "</tbody>\n",
       "</table>\n"
      ],
      "text/latex": [
       "A matrix: 3 × 4 of type int\n",
       "\\begin{tabular}{r|llll}\n",
       "  & Hello & darkness & my & friend\\\\\n",
       "\\hline\n",
       "\ta & 1 & 4 & 7 & 10\\\\\n",
       "\tb & 2 & 5 & 8 & 11\\\\\n",
       "\tc & 3 & 6 & 9 & 12\\\\\n",
       "\\end{tabular}\n"
      ],
      "text/markdown": [
       "\n",
       "A matrix: 3 × 4 of type int\n",
       "\n",
       "| <!--/--> | Hello | darkness | my | friend |\n",
       "|---|---|---|---|---|\n",
       "| a | 1 | 4 | 7 | 10 |\n",
       "| b | 2 | 5 | 8 | 11 |\n",
       "| c | 3 | 6 | 9 | 12 |\n",
       "\n"
      ],
      "text/plain": [
       "  Hello darkness my friend\n",
       "a 1     4        7  10    \n",
       "b 2     5        8  11    \n",
       "c 3     6        9  12    "
      ]
     },
     "metadata": {},
     "output_type": "display_data"
    }
   ],
   "source": [
    "array(1:12,dim=c(3,4),dimnames=list(c(\"a\",\"b\",\"c\"),c(\"Hello\", \"darkness\", \"my\", \"friend\")))"
   ]
  },
  {
   "cell_type": "markdown",
   "metadata": {},
   "source": [
    "*  Renaming of rows and transpose of a matrix"
   ]
  },
  {
   "cell_type": "code",
   "execution_count": 61,
   "metadata": {},
   "outputs": [
    {
     "data": {
      "text/html": [
       "<table class=\"dataframe\">\n",
       "<caption>A matrix: 4 × 3 of type int</caption>\n",
       "<thead>\n",
       "\t<tr><th scope=col>A</th><th scope=col>B</th><th scope=col>C</th></tr>\n",
       "</thead>\n",
       "<tbody>\n",
       "\t<tr><td>1</td><td>5</td><td> 9</td></tr>\n",
       "\t<tr><td>2</td><td>6</td><td>10</td></tr>\n",
       "\t<tr><td>3</td><td>7</td><td>11</td></tr>\n",
       "\t<tr><td>4</td><td>8</td><td>12</td></tr>\n",
       "</tbody>\n",
       "</table>\n"
      ],
      "text/latex": [
       "A matrix: 4 × 3 of type int\n",
       "\\begin{tabular}{lll}\n",
       " A & B & C\\\\\n",
       "\\hline\n",
       "\t 1 & 5 &  9\\\\\n",
       "\t 2 & 6 & 10\\\\\n",
       "\t 3 & 7 & 11\\\\\n",
       "\t 4 & 8 & 12\\\\\n",
       "\\end{tabular}\n"
      ],
      "text/markdown": [
       "\n",
       "A matrix: 4 × 3 of type int\n",
       "\n",
       "| A | B | C |\n",
       "|---|---|---|\n",
       "| 1 | 5 |  9 |\n",
       "| 2 | 6 | 10 |\n",
       "| 3 | 7 | 11 |\n",
       "| 4 | 8 | 12 |\n",
       "\n"
      ],
      "text/plain": [
       "     A B C \n",
       "[1,] 1 5  9\n",
       "[2,] 2 6 10\n",
       "[3,] 3 7 11\n",
       "[4,] 4 8 12"
      ]
     },
     "metadata": {},
     "output_type": "display_data"
    }
   ],
   "source": [
    "x <- matrix(1:12, nr=3, byrow=T)\n",
    "rownames(x) <- LETTERS[1:3]\n",
    "t(x)"
   ]
  },
  {
   "cell_type": "markdown",
   "metadata": {},
   "source": [
    "*  \"Glueing\" vectors together: functions `rbind()` and `cbind()` (row- and columnwise respectively)\n"
   ]
  },
  {
   "cell_type": "code",
   "execution_count": 64,
   "metadata": {},
   "outputs": [
    {
     "data": {
      "text/html": [
       "<table class=\"dataframe\">\n",
       "<caption>A matrix: 4 × 4 of type int</caption>\n",
       "<thead>\n",
       "\t<tr><th scope=col>A</th><th scope=col>B</th><th scope=col>C</th><th scope=col>D</th></tr>\n",
       "</thead>\n",
       "<tbody>\n",
       "\t<tr><td>1</td><td>5</td><td> 9</td><td>0</td></tr>\n",
       "\t<tr><td>2</td><td>6</td><td>10</td><td>1</td></tr>\n",
       "\t<tr><td>3</td><td>7</td><td>11</td><td>2</td></tr>\n",
       "\t<tr><td>4</td><td>8</td><td>12</td><td>3</td></tr>\n",
       "</tbody>\n",
       "</table>\n"
      ],
      "text/latex": [
       "A matrix: 4 × 4 of type int\n",
       "\\begin{tabular}{llll}\n",
       " A & B & C & D\\\\\n",
       "\\hline\n",
       "\t 1 & 5 &  9 & 0\\\\\n",
       "\t 2 & 6 & 10 & 1\\\\\n",
       "\t 3 & 7 & 11 & 2\\\\\n",
       "\t 4 & 8 & 12 & 3\\\\\n",
       "\\end{tabular}\n"
      ],
      "text/markdown": [
       "\n",
       "A matrix: 4 × 4 of type int\n",
       "\n",
       "| A | B | C | D |\n",
       "|---|---|---|---|\n",
       "| 1 | 5 |  9 | 0 |\n",
       "| 2 | 6 | 10 | 1 |\n",
       "| 3 | 7 | 11 | 2 |\n",
       "| 4 | 8 | 12 | 3 |\n",
       "\n"
      ],
      "text/plain": [
       "     A B C  D\n",
       "[1,] 1 5  9 0\n",
       "[2,] 2 6 10 1\n",
       "[3,] 3 7 11 2\n",
       "[4,] 4 8 12 3"
      ]
     },
     "metadata": {},
     "output_type": "display_data"
    }
   ],
   "source": [
    "cbind(A=1:4, B=5:8, C=9:12, D=0:3)"
   ]
  },
  {
   "cell_type": "code",
   "execution_count": 65,
   "metadata": {},
   "outputs": [
    {
     "data": {
      "text/html": [
       "<table class=\"dataframe\">\n",
       "<caption>A matrix: 3 × 4 of type int</caption>\n",
       "<tbody>\n",
       "\t<tr><th scope=row>A</th><td>1</td><td> 2</td><td> 3</td><td> 4</td></tr>\n",
       "\t<tr><th scope=row>B</th><td>5</td><td> 6</td><td> 7</td><td> 8</td></tr>\n",
       "\t<tr><th scope=row>C</th><td>9</td><td>10</td><td>11</td><td>12</td></tr>\n",
       "</tbody>\n",
       "</table>\n"
      ],
      "text/latex": [
       "A matrix: 3 × 4 of type int\n",
       "\\begin{tabular}{r|llll}\n",
       "\tA & 1 &  2 &  3 &  4\\\\\n",
       "\tB & 5 &  6 &  7 &  8\\\\\n",
       "\tC & 9 & 10 & 11 & 12\\\\\n",
       "\\end{tabular}\n"
      ],
      "text/markdown": [
       "\n",
       "A matrix: 3 × 4 of type int\n",
       "\n",
       "| A | 1 |  2 |  3 |  4 |\n",
       "| B | 5 |  6 |  7 |  8 |\n",
       "| C | 9 | 10 | 11 | 12 |\n",
       "\n"
      ],
      "text/plain": [
       "  [,1] [,2] [,3] [,4]\n",
       "A 1     2    3    4  \n",
       "B 5     6    7    8  \n",
       "C 9    10   11   12  "
      ]
     },
     "metadata": {},
     "output_type": "display_data"
    }
   ],
   "source": [
    "rbind(A=1:4, B=5:8, C=9:12)"
   ]
  },
  {
   "cell_type": "markdown",
   "metadata": {},
   "source": [
    "### Matrix functions\n",
    "\n",
    "*  matrix product, inversion and transpose"
   ]
  },
  {
   "cell_type": "code",
   "execution_count": 66,
   "metadata": {},
   "outputs": [
    {
     "data": {
      "text/html": [
       "<table class=\"dataframe\">\n",
       "<caption>A matrix: 2 × 2 of type int</caption>\n",
       "<tbody>\n",
       "\t<tr><td>1</td><td>2</td></tr>\n",
       "\t<tr><td>3</td><td>4</td></tr>\n",
       "</tbody>\n",
       "</table>\n"
      ],
      "text/latex": [
       "A matrix: 2 × 2 of type int\n",
       "\\begin{tabular}{ll}\n",
       "\t 1 & 2\\\\\n",
       "\t 3 & 4\\\\\n",
       "\\end{tabular}\n"
      ],
      "text/markdown": [
       "\n",
       "A matrix: 2 × 2 of type int\n",
       "\n",
       "| 1 | 2 |\n",
       "| 3 | 4 |\n",
       "\n"
      ],
      "text/plain": [
       "     [,1] [,2]\n",
       "[1,] 1    2   \n",
       "[2,] 3    4   "
      ]
     },
     "metadata": {},
     "output_type": "display_data"
    }
   ],
   "source": [
    "a <- matrix(1:4, 2, 2, byrow = T)\n",
    "a"
   ]
  },
  {
   "cell_type": "code",
   "execution_count": 68,
   "metadata": {},
   "outputs": [
    {
     "data": {
      "text/html": [
       "<table class=\"dataframe\">\n",
       "<caption>A matrix: 2 × 2 of type dbl</caption>\n",
       "<tbody>\n",
       "\t<tr><td> 7</td><td>10</td></tr>\n",
       "\t<tr><td>15</td><td>22</td></tr>\n",
       "</tbody>\n",
       "</table>\n"
      ],
      "text/latex": [
       "A matrix: 2 × 2 of type dbl\n",
       "\\begin{tabular}{ll}\n",
       "\t  7 & 10\\\\\n",
       "\t 15 & 22\\\\\n",
       "\\end{tabular}\n"
      ],
      "text/markdown": [
       "\n",
       "A matrix: 2 × 2 of type dbl\n",
       "\n",
       "|  7 | 10 |\n",
       "| 15 | 22 |\n",
       "\n"
      ],
      "text/plain": [
       "     [,1] [,2]\n",
       "[1,]  7   10  \n",
       "[2,] 15   22  "
      ]
     },
     "metadata": {},
     "output_type": "display_data"
    },
    {
     "data": {
      "text/html": [
       "<table class=\"dataframe\">\n",
       "<caption>A matrix: 2 × 2 of type int</caption>\n",
       "<tbody>\n",
       "\t<tr><td>1</td><td> 4</td></tr>\n",
       "\t<tr><td>9</td><td>16</td></tr>\n",
       "</tbody>\n",
       "</table>\n"
      ],
      "text/latex": [
       "A matrix: 2 × 2 of type int\n",
       "\\begin{tabular}{ll}\n",
       "\t 1 &  4\\\\\n",
       "\t 9 & 16\\\\\n",
       "\\end{tabular}\n"
      ],
      "text/markdown": [
       "\n",
       "A matrix: 2 × 2 of type int\n",
       "\n",
       "| 1 |  4 |\n",
       "| 9 | 16 |\n",
       "\n"
      ],
      "text/plain": [
       "     [,1] [,2]\n",
       "[1,] 1     4  \n",
       "[2,] 9    16  "
      ]
     },
     "metadata": {},
     "output_type": "display_data"
    }
   ],
   "source": [
    "## matrix product\n",
    "a%*%a\n",
    "a*a"
   ]
  },
  {
   "cell_type": "code",
   "execution_count": 71,
   "metadata": {},
   "outputs": [
    {
     "data": {
      "text/html": [
       "<table class=\"dataframe\">\n",
       "<caption>A matrix: 2 × 2 of type dbl</caption>\n",
       "<tbody>\n",
       "\t<tr><td>-2.0</td><td> 1.0</td></tr>\n",
       "\t<tr><td> 1.5</td><td>-0.5</td></tr>\n",
       "</tbody>\n",
       "</table>\n"
      ],
      "text/latex": [
       "A matrix: 2 × 2 of type dbl\n",
       "\\begin{tabular}{ll}\n",
       "\t -2.0 &  1.0\\\\\n",
       "\t  1.5 & -0.5\\\\\n",
       "\\end{tabular}\n"
      ],
      "text/markdown": [
       "\n",
       "A matrix: 2 × 2 of type dbl\n",
       "\n",
       "| -2.0 |  1.0 |\n",
       "|  1.5 | -0.5 |\n",
       "\n"
      ],
      "text/plain": [
       "     [,1] [,2]\n",
       "[1,] -2.0  1.0\n",
       "[2,]  1.5 -0.5"
      ]
     },
     "metadata": {},
     "output_type": "display_data"
    },
    {
     "ename": "ERROR",
     "evalue": "Error in solve.default(b): routine Lapack dgesv : le système est exactement singulier : U[1,1] = 0\n",
     "output_type": "error",
     "traceback": [
      "Error in solve.default(b): routine Lapack dgesv : le système est exactement singulier : U[1,1] = 0\nTraceback:\n",
      "1. solve(b)",
      "2. solve.default(b)"
     ]
    }
   ],
   "source": [
    "## inverse matrix\n",
    "solve(a)\n",
    "b = matrix(rep(0, 4), 2, 2, byrow=T)\n",
    "solve(b)"
   ]
  },
  {
   "cell_type": "code",
   "execution_count": 72,
   "metadata": {},
   "outputs": [
    {
     "data": {
      "text/html": [
       "<table class=\"dataframe\">\n",
       "<caption>A matrix: 2 × 2 of type int</caption>\n",
       "<tbody>\n",
       "\t<tr><td>1</td><td>3</td></tr>\n",
       "\t<tr><td>2</td><td>4</td></tr>\n",
       "</tbody>\n",
       "</table>\n"
      ],
      "text/latex": [
       "A matrix: 2 × 2 of type int\n",
       "\\begin{tabular}{ll}\n",
       "\t 1 & 3\\\\\n",
       "\t 2 & 4\\\\\n",
       "\\end{tabular}\n"
      ],
      "text/markdown": [
       "\n",
       "A matrix: 2 × 2 of type int\n",
       "\n",
       "| 1 | 3 |\n",
       "| 2 | 4 |\n",
       "\n"
      ],
      "text/plain": [
       "     [,1] [,2]\n",
       "[1,] 1    3   \n",
       "[2,] 2    4   "
      ]
     },
     "metadata": {},
     "output_type": "display_data"
    }
   ],
   "source": [
    "## transpose of a matrix\n",
    "t(a)"
   ]
  },
  {
   "cell_type": "markdown",
   "metadata": {},
   "source": [
    "### Indexing\n",
    "\n",
    "*  Allows to select a particular element in a vector, take as example `height`."
   ]
  },
  {
   "cell_type": "code",
   "execution_count": 73,
   "metadata": {},
   "outputs": [
    {
     "data": {
      "text/html": [
       "<style>\n",
       ".list-inline {list-style: none; margin:0; padding: 0}\n",
       ".list-inline>li {display: inline-block}\n",
       ".list-inline>li:not(:last-child)::after {content: \"\\00b7\"; padding: 0 .5ex}\n",
       "</style>\n",
       "<ol class=list-inline><li>1.75</li><li>1.8</li><li>1.65</li><li>1.9</li><li>1.74</li><li>1.91</li><li>1.69</li></ol>\n"
      ],
      "text/latex": [
       "\\begin{enumerate*}\n",
       "\\item 1.75\n",
       "\\item 1.8\n",
       "\\item 1.65\n",
       "\\item 1.9\n",
       "\\item 1.74\n",
       "\\item 1.91\n",
       "\\item 1.69\n",
       "\\end{enumerate*}\n"
      ],
      "text/markdown": [
       "1. 1.75\n",
       "2. 1.8\n",
       "3. 1.65\n",
       "4. 1.9\n",
       "5. 1.74\n",
       "6. 1.91\n",
       "7. 1.69\n",
       "\n",
       "\n"
      ],
      "text/plain": [
       "[1] 1.75 1.80 1.65 1.90 1.74 1.91 1.69"
      ]
     },
     "metadata": {},
     "output_type": "display_data"
    }
   ],
   "source": [
    "height"
   ]
  },
  {
   "cell_type": "markdown",
   "metadata": {},
   "source": [
    "*  To access the fifth element"
   ]
  },
  {
   "cell_type": "code",
   "execution_count": 74,
   "metadata": {},
   "outputs": [
    {
     "data": {
      "text/html": [
       "1.74"
      ],
      "text/latex": [
       "1.74"
      ],
      "text/markdown": [
       "1.74"
      ],
      "text/plain": [
       "[1] 1.74"
      ]
     },
     "metadata": {},
     "output_type": "display_data"
    }
   ],
   "source": [
    "height[5]"
   ]
  },
  {
   "cell_type": "markdown",
   "metadata": {},
   "source": [
    "*  To access several elements in one step"
   ]
  },
  {
   "cell_type": "code",
   "execution_count": 75,
   "metadata": {},
   "outputs": [
    {
     "data": {
      "text/html": [
       "<style>\n",
       ".list-inline {list-style: none; margin:0; padding: 0}\n",
       ".list-inline>li {display: inline-block}\n",
       ".list-inline>li:not(:last-child)::after {content: \"\\00b7\"; padding: 0 .5ex}\n",
       "</style>\n",
       "<ol class=list-inline><li>1.65</li><li>1.74</li><li>1.69</li></ol>\n"
      ],
      "text/latex": [
       "\\begin{enumerate*}\n",
       "\\item 1.65\n",
       "\\item 1.74\n",
       "\\item 1.69\n",
       "\\end{enumerate*}\n"
      ],
      "text/markdown": [
       "1. 1.65\n",
       "2. 1.74\n",
       "3. 1.69\n",
       "\n",
       "\n"
      ],
      "text/plain": [
       "[1] 1.65 1.74 1.69"
      ]
     },
     "metadata": {},
     "output_type": "display_data"
    },
    {
     "data": {
      "text/html": [
       "<style>\n",
       ".list-inline {list-style: none; margin:0; padding: 0}\n",
       ".list-inline>li {display: inline-block}\n",
       ".list-inline>li:not(:last-child)::after {content: \"\\00b7\"; padding: 0 .5ex}\n",
       "</style>\n",
       "<ol class=list-inline><li>1.75</li><li>1.8</li><li>1.65</li></ol>\n"
      ],
      "text/latex": [
       "\\begin{enumerate*}\n",
       "\\item 1.75\n",
       "\\item 1.8\n",
       "\\item 1.65\n",
       "\\end{enumerate*}\n"
      ],
      "text/markdown": [
       "1. 1.75\n",
       "2. 1.8\n",
       "3. 1.65\n",
       "\n",
       "\n"
      ],
      "text/plain": [
       "[1] 1.75 1.80 1.65"
      ]
     },
     "metadata": {},
     "output_type": "display_data"
    }
   ],
   "source": [
    "height[c(3,5,7)]\n",
    "height[0:3]"
   ]
  },
  {
   "cell_type": "code",
   "execution_count": 76,
   "metadata": {},
   "outputs": [
    {
     "data": {
      "text/html": [
       "<style>\n",
       ".list-inline {list-style: none; margin:0; padding: 0}\n",
       ".list-inline>li {display: inline-block}\n",
       ".list-inline>li:not(:last-child)::after {content: \"\\00b7\"; padding: 0 .5ex}\n",
       "</style>\n",
       "<ol class=list-inline><li>1.65</li><li>1.74</li><li>1.69</li></ol>\n"
      ],
      "text/latex": [
       "\\begin{enumerate*}\n",
       "\\item 1.65\n",
       "\\item 1.74\n",
       "\\item 1.69\n",
       "\\end{enumerate*}\n"
      ],
      "text/markdown": [
       "1. 1.65\n",
       "2. 1.74\n",
       "3. 1.69\n",
       "\n",
       "\n"
      ],
      "text/plain": [
       "[1] 1.65 1.74 1.69"
      ]
     },
     "metadata": {},
     "output_type": "display_data"
    }
   ],
   "source": [
    "v<-c(3,5,7)\n",
    "height[v]\n"
   ]
  },
  {
   "cell_type": "markdown",
   "metadata": {},
   "source": [
    "*  Remove elements from a vector"
   ]
  },
  {
   "cell_type": "code",
   "execution_count": 80,
   "metadata": {},
   "outputs": [
    {
     "data": {
      "text/html": [
       "<style>\n",
       ".list-inline {list-style: none; margin:0; padding: 0}\n",
       ".list-inline>li {display: inline-block}\n",
       ".list-inline>li:not(:last-child)::after {content: \"\\00b7\"; padding: 0 .5ex}\n",
       "</style>\n",
       "<ol class=list-inline><li>1.75</li><li>1.8</li><li>1.65</li><li>1.9</li><li>1.74</li><li>1.91</li><li>1.69</li></ol>\n"
      ],
      "text/latex": [
       "\\begin{enumerate*}\n",
       "\\item 1.75\n",
       "\\item 1.8\n",
       "\\item 1.65\n",
       "\\item 1.9\n",
       "\\item 1.74\n",
       "\\item 1.91\n",
       "\\item 1.69\n",
       "\\end{enumerate*}\n"
      ],
      "text/markdown": [
       "1. 1.75\n",
       "2. 1.8\n",
       "3. 1.65\n",
       "4. 1.9\n",
       "5. 1.74\n",
       "6. 1.91\n",
       "7. 1.69\n",
       "\n",
       "\n"
      ],
      "text/plain": [
       "[1] 1.75 1.80 1.65 1.90 1.74 1.91 1.69"
      ]
     },
     "metadata": {},
     "output_type": "display_data"
    },
    {
     "name": "stdout",
     "output_type": "stream",
     "text": [
      "[1] 1.75 1.80 1.90 1.91\n"
     ]
    }
   ],
   "source": [
    "b = height[-c(3,5,7)]\n",
    "height\n",
    "print(b)"
   ]
  },
  {
   "cell_type": "markdown",
   "metadata": {},
   "source": [
    "*  Conditional selection"
   ]
  },
  {
   "cell_type": "code",
   "execution_count": 82,
   "metadata": {},
   "outputs": [
    {
     "data": {
      "text/html": [
       "<style>\n",
       ".list-inline {list-style: none; margin:0; padding: 0}\n",
       ".list-inline>li {display: inline-block}\n",
       ".list-inline>li:not(:last-child)::after {content: \"\\00b7\"; padding: 0 .5ex}\n",
       "</style>\n",
       "<ol class=list-inline><li>1.75</li><li>1.8</li><li>1.9</li><li>1.74</li><li>1.91</li></ol>\n"
      ],
      "text/latex": [
       "\\begin{enumerate*}\n",
       "\\item 1.75\n",
       "\\item 1.8\n",
       "\\item 1.9\n",
       "\\item 1.74\n",
       "\\item 1.91\n",
       "\\end{enumerate*}\n"
      ],
      "text/markdown": [
       "1. 1.75\n",
       "2. 1.8\n",
       "3. 1.9\n",
       "4. 1.74\n",
       "5. 1.91\n",
       "\n",
       "\n"
      ],
      "text/plain": [
       "[1] 1.75 1.80 1.90 1.74 1.91"
      ]
     },
     "metadata": {},
     "output_type": "display_data"
    },
    {
     "name": "stdout",
     "output_type": "stream",
     "text": [
      "[1]  TRUE  TRUE FALSE  TRUE  TRUE  TRUE FALSE\n"
     ]
    }
   ],
   "source": [
    "height[height>1.70]\n",
    "c = height > 1.70\n",
    "print(c)"
   ]
  },
  {
   "cell_type": "code",
   "execution_count": 95,
   "metadata": {},
   "outputs": [
    {
     "data": {
      "text/html": [
       "<style>\n",
       ".list-inline {list-style: none; margin:0; padding: 0}\n",
       ".list-inline>li {display: inline-block}\n",
       ".list-inline>li:not(:last-child)::after {content: \"\\00b7\"; padding: 0 .5ex}\n",
       "</style>\n",
       "<ol class=list-inline><li>1.75</li><li>1.8</li><li>1.65</li><li>1.9</li><li>1.74</li><li>1.91</li><li>1.69</li></ol>\n"
      ],
      "text/latex": [
       "\\begin{enumerate*}\n",
       "\\item 1.75\n",
       "\\item 1.8\n",
       "\\item 1.65\n",
       "\\item 1.9\n",
       "\\item 1.74\n",
       "\\item 1.91\n",
       "\\item 1.69\n",
       "\\end{enumerate*}\n"
      ],
      "text/markdown": [
       "1. 1.75\n",
       "2. 1.8\n",
       "3. 1.65\n",
       "4. 1.9\n",
       "5. 1.74\n",
       "6. 1.91\n",
       "7. 1.69\n",
       "\n",
       "\n"
      ],
      "text/plain": [
       "[1] 1.75 1.80 1.65 1.90 1.74 1.91 1.69"
      ]
     },
     "metadata": {},
     "output_type": "display_data"
    },
    {
     "name": "stdout",
     "output_type": "stream",
     "text": [
      "numeric(0)\n"
     ]
    }
   ],
   "source": [
    "height[height>1.70 && height <1.90]\n",
    "bc = height>1.70 && height > 1000\n",
    "a = height[bc]\n",
    "print(a)"
   ]
  },
  {
   "cell_type": "markdown",
   "metadata": {},
   "source": [
    "### Exercises\n",
    "\n",
    "Use the `sort` function to sort the vector `height` by decreasing order of weight\n",
    "\n"
   ]
  },
  {
   "cell_type": "code",
   "execution_count": 100,
   "metadata": {},
   "outputs": [
    {
     "name": "stdout",
     "output_type": "stream",
     "text": [
      "[1] 1.75 1.80 1.65 1.90 1.74 1.91 1.69\n",
      "[1] 1.91 1.90 1.80 1.75 1.74 1.69 1.65\n"
     ]
    }
   ],
   "source": [
    "print(height)\n",
    "height_decreasing = sort(height, decreasing=TRUE)\n",
    "print(height_decreasing)"
   ]
  },
  {
   "cell_type": "markdown",
   "metadata": {},
   "source": [
    "## Factors, lists & data frames\n",
    "\n",
    "### Factors\n",
    "\n",
    "*  *Factors* are the categorial variables (see `enum` in C++). They make it possible to assign meaningful names to the categories.\n",
    "*  A factor is said to have a set of *levels*.\n",
    "*  Ex: a factor has four levels. It consists of two items: a vector of integers between 1 and 4 and a character vector of length 4 containing strings describing what the four levels are.\n"
   ]
  },
  {
   "cell_type": "code",
   "execution_count": 101,
   "metadata": {},
   "outputs": [],
   "source": [
    "pain <- c(0,3,2,2,1)\n",
    "fpain <- factor(pain, levels=0:3)\n",
    "levels(fpain) <- c(\"non\", \"mild\", \"medium\", \"severe\")"
   ]
  },
  {
   "cell_type": "markdown",
   "metadata": {},
   "source": [
    "*    `fpain` is a categorial variable."
   ]
  },
  {
   "cell_type": "code",
   "execution_count": 102,
   "metadata": {},
   "outputs": [
    {
     "data": {
      "text/html": [
       "<style>\n",
       ".list-inline {list-style: none; margin:0; padding: 0}\n",
       ".list-inline>li {display: inline-block}\n",
       ".list-inline>li:not(:last-child)::after {content: \"\\00b7\"; padding: 0 .5ex}\n",
       "</style>\n",
       "<ol class=list-inline><li>non</li><li>severe</li><li>medium</li><li>medium</li><li>mild</li></ol>\n",
       "\n",
       "<details>\n",
       "\t<summary style=display:list-item;cursor:pointer>\n",
       "\t\t<strong>Levels</strong>:\n",
       "\t</summary>\n",
       "\t<style>\n",
       "\t.list-inline {list-style: none; margin:0; padding: 0}\n",
       "\t.list-inline>li {display: inline-block}\n",
       "\t.list-inline>li:not(:last-child)::after {content: \"\\00b7\"; padding: 0 .5ex}\n",
       "\t</style>\n",
       "\t<ol class=list-inline><li>'non'</li><li>'mild'</li><li>'medium'</li><li>'severe'</li></ol>\n",
       "</details>"
      ],
      "text/latex": [
       "\\begin{enumerate*}\n",
       "\\item non\n",
       "\\item severe\n",
       "\\item medium\n",
       "\\item medium\n",
       "\\item mild\n",
       "\\end{enumerate*}\n",
       "\n",
       "\\emph{Levels}: \\begin{enumerate*}\n",
       "\\item 'non'\n",
       "\\item 'mild'\n",
       "\\item 'medium'\n",
       "\\item 'severe'\n",
       "\\end{enumerate*}\n"
      ],
      "text/markdown": [
       "1. non\n",
       "2. severe\n",
       "3. medium\n",
       "4. medium\n",
       "5. mild\n",
       "\n",
       "\n",
       "\n",
       "**Levels**: 1. 'non'\n",
       "2. 'mild'\n",
       "3. 'medium'\n",
       "4. 'severe'\n",
       "\n",
       "\n"
      ],
      "text/plain": [
       "[1] non    severe medium medium mild  \n",
       "Levels: non mild medium severe"
      ]
     },
     "metadata": {},
     "output_type": "display_data"
    }
   ],
   "source": [
    "fpain"
   ]
  },
  {
   "cell_type": "code",
   "execution_count": 103,
   "metadata": {},
   "outputs": [
    {
     "data": {
      "text/html": [
       "<style>\n",
       ".list-inline {list-style: none; margin:0; padding: 0}\n",
       ".list-inline>li {display: inline-block}\n",
       ".list-inline>li:not(:last-child)::after {content: \"\\00b7\"; padding: 0 .5ex}\n",
       "</style>\n",
       "<ol class=list-inline><li>1</li><li>4</li><li>3</li><li>3</li><li>2</li></ol>\n"
      ],
      "text/latex": [
       "\\begin{enumerate*}\n",
       "\\item 1\n",
       "\\item 4\n",
       "\\item 3\n",
       "\\item 3\n",
       "\\item 2\n",
       "\\end{enumerate*}\n"
      ],
      "text/markdown": [
       "1. 1\n",
       "2. 4\n",
       "3. 3\n",
       "4. 3\n",
       "5. 2\n",
       "\n",
       "\n"
      ],
      "text/plain": [
       "[1] 1 4 3 3 2"
      ]
     },
     "metadata": {},
     "output_type": "display_data"
    }
   ],
   "source": [
    "as.numeric(fpain)\n"
   ]
  },
  {
   "cell_type": "code",
   "execution_count": 105,
   "metadata": {},
   "outputs": [
    {
     "data": {
      "text/html": [
       "<style>\n",
       ".list-inline {list-style: none; margin:0; padding: 0}\n",
       ".list-inline>li {display: inline-block}\n",
       ".list-inline>li:not(:last-child)::after {content: \"\\00b7\"; padding: 0 .5ex}\n",
       "</style>\n",
       "<ol class=list-inline><li>'non'</li><li>'mild'</li><li>'medium'</li><li>'severe'</li></ol>\n"
      ],
      "text/latex": [
       "\\begin{enumerate*}\n",
       "\\item 'non'\n",
       "\\item 'mild'\n",
       "\\item 'medium'\n",
       "\\item 'severe'\n",
       "\\end{enumerate*}\n"
      ],
      "text/markdown": [
       "1. 'non'\n",
       "2. 'mild'\n",
       "3. 'medium'\n",
       "4. 'severe'\n",
       "\n",
       "\n"
      ],
      "text/plain": [
       "[1] \"non\"    \"mild\"   \"medium\" \"severe\""
      ]
     },
     "metadata": {},
     "output_type": "display_data"
    }
   ],
   "source": [
    "levels(fpain)\n"
   ]
  },
  {
   "cell_type": "markdown",
   "metadata": {},
   "source": [
    "### Lists\n",
    "\n",
    "*  Useful to combine a collection of objects into a larger composite object.\n",
    "*  The following data concern pre- and postmenstrual energy intake in a group of women.\n"
   ]
  },
  {
   "cell_type": "code",
   "execution_count": 111,
   "metadata": {},
   "outputs": [],
   "source": [
    "intake.pre <- c(5260, 5470, 5640, 6180, 6390,6515, 6805, 7515, 7515, 8230, 8770)\n",
    "intake.post <- c(3910, 4220, 3885, 5160, 5645,4680, 5265, 5975, 6790, 6900, 7335)\n",
    "a <- c(1, 2, 3, 4)"
   ]
  },
  {
   "cell_type": "markdown",
   "metadata": {},
   "source": [
    "*  Combine the vectors into a list\n"
   ]
  },
  {
   "cell_type": "code",
   "execution_count": 113,
   "metadata": {},
   "outputs": [
    {
     "data": {
      "text/html": [
       "<dl>\n",
       "\t<dt>$before</dt>\n",
       "\t\t<dd><style>\n",
       ".list-inline {list-style: none; margin:0; padding: 0}\n",
       ".list-inline>li {display: inline-block}\n",
       ".list-inline>li:not(:last-child)::after {content: \"\\00b7\"; padding: 0 .5ex}\n",
       "</style>\n",
       "<ol class=list-inline><li>5260</li><li>5470</li><li>5640</li><li>6180</li><li>6390</li><li>6515</li><li>6805</li><li>7515</li><li>7515</li><li>8230</li><li>8770</li></ol>\n",
       "</dd>\n",
       "\t<dt>$after</dt>\n",
       "\t\t<dd><style>\n",
       ".list-inline {list-style: none; margin:0; padding: 0}\n",
       ".list-inline>li {display: inline-block}\n",
       ".list-inline>li:not(:last-child)::after {content: \"\\00b7\"; padding: 0 .5ex}\n",
       "</style>\n",
       "<ol class=list-inline><li>3910</li><li>4220</li><li>3885</li><li>5160</li><li>5645</li><li>4680</li><li>5265</li><li>5975</li><li>6790</li><li>6900</li><li>7335</li></ol>\n",
       "</dd>\n",
       "\t<dt>[[3]]</dt>\n",
       "\t\t<dd><style>\n",
       ".list-inline {list-style: none; margin:0; padding: 0}\n",
       ".list-inline>li {display: inline-block}\n",
       ".list-inline>li:not(:last-child)::after {content: \"\\00b7\"; padding: 0 .5ex}\n",
       "</style>\n",
       "<ol class=list-inline><li>1</li><li>2</li><li>3</li><li>4</li></ol>\n",
       "</dd>\n",
       "</dl>\n"
      ],
      "text/latex": [
       "\\begin{description}\n",
       "\\item[\\$before] \\begin{enumerate*}\n",
       "\\item 5260\n",
       "\\item 5470\n",
       "\\item 5640\n",
       "\\item 6180\n",
       "\\item 6390\n",
       "\\item 6515\n",
       "\\item 6805\n",
       "\\item 7515\n",
       "\\item 7515\n",
       "\\item 8230\n",
       "\\item 8770\n",
       "\\end{enumerate*}\n",
       "\n",
       "\\item[\\$after] \\begin{enumerate*}\n",
       "\\item 3910\n",
       "\\item 4220\n",
       "\\item 3885\n",
       "\\item 5160\n",
       "\\item 5645\n",
       "\\item 4680\n",
       "\\item 5265\n",
       "\\item 5975\n",
       "\\item 6790\n",
       "\\item 6900\n",
       "\\item 7335\n",
       "\\end{enumerate*}\n",
       "\n",
       "\\item[{[[3]]}] \\begin{enumerate*}\n",
       "\\item 1\n",
       "\\item 2\n",
       "\\item 3\n",
       "\\item 4\n",
       "\\end{enumerate*}\n",
       "\n",
       "\\end{description}\n"
      ],
      "text/markdown": [
       "$before\n",
       ":   1. 5260\n",
       "2. 5470\n",
       "3. 5640\n",
       "4. 6180\n",
       "5. 6390\n",
       "6. 6515\n",
       "7. 6805\n",
       "8. 7515\n",
       "9. 7515\n",
       "10. 8230\n",
       "11. 8770\n",
       "\n",
       "\n",
       "\n",
       "$after\n",
       ":   1. 3910\n",
       "2. 4220\n",
       "3. 3885\n",
       "4. 5160\n",
       "5. 5645\n",
       "6. 4680\n",
       "7. 5265\n",
       "8. 5975\n",
       "9. 6790\n",
       "10. 6900\n",
       "11. 7335\n",
       "\n",
       "\n",
       "\n",
       "[[3]]\n",
       ":   1. 1\n",
       "2. 2\n",
       "3. 3\n",
       "4. 4\n",
       "\n",
       "\n",
       "\n",
       "\n",
       "\n"
      ],
      "text/plain": [
       "$before\n",
       " [1] 5260 5470 5640 6180 6390 6515 6805 7515 7515 8230 8770\n",
       "\n",
       "$after\n",
       " [1] 3910 4220 3885 5160 5645 4680 5265 5975 6790 6900 7335\n",
       "\n",
       "[[3]]\n",
       "[1] 1 2 3 4\n"
      ]
     },
     "metadata": {},
     "output_type": "display_data"
    }
   ],
   "source": [
    "mylist <- list(\"before\"=intake.pre, \"after\"=intake.post, a)\n",
    "mylist"
   ]
  },
  {
   "cell_type": "markdown",
   "metadata": {},
   "source": [
    "*  The components of the list are named according to the arguments' names used in *list*  (in the example `before` and `after`). Named components may be extracted as follows \n"
   ]
  },
  {
   "cell_type": "code",
   "execution_count": 114,
   "metadata": {},
   "outputs": [
    {
     "data": {
      "text/html": [
       "<style>\n",
       ".list-inline {list-style: none; margin:0; padding: 0}\n",
       ".list-inline>li {display: inline-block}\n",
       ".list-inline>li:not(:last-child)::after {content: \"\\00b7\"; padding: 0 .5ex}\n",
       "</style>\n",
       "<ol class=list-inline><li>5260</li><li>5470</li><li>5640</li><li>6180</li><li>6390</li><li>6515</li><li>6805</li><li>7515</li><li>7515</li><li>8230</li><li>8770</li></ol>\n"
      ],
      "text/latex": [
       "\\begin{enumerate*}\n",
       "\\item 5260\n",
       "\\item 5470\n",
       "\\item 5640\n",
       "\\item 6180\n",
       "\\item 6390\n",
       "\\item 6515\n",
       "\\item 6805\n",
       "\\item 7515\n",
       "\\item 7515\n",
       "\\item 8230\n",
       "\\item 8770\n",
       "\\end{enumerate*}\n"
      ],
      "text/markdown": [
       "1. 5260\n",
       "2. 5470\n",
       "3. 5640\n",
       "4. 6180\n",
       "5. 6390\n",
       "6. 6515\n",
       "7. 6805\n",
       "8. 7515\n",
       "9. 7515\n",
       "10. 8230\n",
       "11. 8770\n",
       "\n",
       "\n"
      ],
      "text/plain": [
       " [1] 5260 5470 5640 6180 6390 6515 6805 7515 7515 8230 8770"
      ]
     },
     "metadata": {},
     "output_type": "display_data"
    }
   ],
   "source": [
    "mylist$before"
   ]
  },
  {
   "cell_type": "markdown",
   "metadata": {},
   "source": [
    "*  or alternatively by using the component's index\n"
   ]
  },
  {
   "cell_type": "code",
   "execution_count": 116,
   "metadata": {},
   "outputs": [
    {
     "data": {
      "text/html": [
       "<style>\n",
       ".list-inline {list-style: none; margin:0; padding: 0}\n",
       ".list-inline>li {display: inline-block}\n",
       ".list-inline>li:not(:last-child)::after {content: \"\\00b7\"; padding: 0 .5ex}\n",
       "</style>\n",
       "<ol class=list-inline><li>5260</li><li>5470</li><li>5640</li><li>6180</li><li>6390</li><li>6515</li><li>6805</li><li>7515</li><li>7515</li><li>8230</li><li>8770</li></ol>\n"
      ],
      "text/latex": [
       "\\begin{enumerate*}\n",
       "\\item 5260\n",
       "\\item 5470\n",
       "\\item 5640\n",
       "\\item 6180\n",
       "\\item 6390\n",
       "\\item 6515\n",
       "\\item 6805\n",
       "\\item 7515\n",
       "\\item 7515\n",
       "\\item 8230\n",
       "\\item 8770\n",
       "\\end{enumerate*}\n"
      ],
      "text/markdown": [
       "1. 5260\n",
       "2. 5470\n",
       "3. 5640\n",
       "4. 6180\n",
       "5. 6390\n",
       "6. 6515\n",
       "7. 6805\n",
       "8. 7515\n",
       "9. 7515\n",
       "10. 8230\n",
       "11. 8770\n",
       "\n",
       "\n"
      ],
      "text/plain": [
       " [1] 5260 5470 5640 6180 6390 6515 6805 7515 7515 8230 8770"
      ]
     },
     "metadata": {},
     "output_type": "display_data"
    },
    {
     "data": {
      "text/html": [
       "<strong>$before</strong> = <style>\n",
       ".list-inline {list-style: none; margin:0; padding: 0}\n",
       ".list-inline>li {display: inline-block}\n",
       ".list-inline>li:not(:last-child)::after {content: \"\\00b7\"; padding: 0 .5ex}\n",
       "</style>\n",
       "<ol class=list-inline><li>5260</li><li>5470</li><li>5640</li><li>6180</li><li>6390</li><li>6515</li><li>6805</li><li>7515</li><li>7515</li><li>8230</li><li>8770</li></ol>\n"
      ],
      "text/latex": [
       "\\textbf{\\$before} = \\begin{enumerate*}\n",
       "\\item 5260\n",
       "\\item 5470\n",
       "\\item 5640\n",
       "\\item 6180\n",
       "\\item 6390\n",
       "\\item 6515\n",
       "\\item 6805\n",
       "\\item 7515\n",
       "\\item 7515\n",
       "\\item 8230\n",
       "\\item 8770\n",
       "\\end{enumerate*}\n"
      ],
      "text/markdown": [
       "**$before** = 1. 5260\n",
       "2. 5470\n",
       "3. 5640\n",
       "4. 6180\n",
       "5. 6390\n",
       "6. 6515\n",
       "7. 6805\n",
       "8. 7515\n",
       "9. 7515\n",
       "10. 8230\n",
       "11. 8770\n",
       "\n",
       "\n"
      ],
      "text/plain": [
       "$before\n",
       " [1] 5260 5470 5640 6180 6390 6515 6805 7515 7515 8230 8770\n"
      ]
     },
     "metadata": {},
     "output_type": "display_data"
    }
   ],
   "source": [
    "mylist[[1]]\n",
    "mylist[1]"
   ]
  },
  {
   "cell_type": "markdown",
   "metadata": {},
   "source": [
    "### Data frames\n",
    "\n",
    "*  A data frame corresponds to a \"data set\" in other statistical packages. It is a list of vectors and/or factors of the same length. Data in the same position come from the same experimental unit. \n",
    "*  Creation of a data frame:"
   ]
  },
  {
   "cell_type": "code",
   "execution_count": 117,
   "metadata": {},
   "outputs": [
    {
     "data": {
      "text/html": [
       "<table class=\"dataframe\">\n",
       "<caption>A data.frame: 11 × 2</caption>\n",
       "<thead>\n",
       "\t<tr><th scope=col>intake.pre</th><th scope=col>intake.post</th></tr>\n",
       "\t<tr><th scope=col>&lt;dbl&gt;</th><th scope=col>&lt;dbl&gt;</th></tr>\n",
       "</thead>\n",
       "<tbody>\n",
       "\t<tr><td>5260</td><td>3910</td></tr>\n",
       "\t<tr><td>5470</td><td>4220</td></tr>\n",
       "\t<tr><td>5640</td><td>3885</td></tr>\n",
       "\t<tr><td>6180</td><td>5160</td></tr>\n",
       "\t<tr><td>6390</td><td>5645</td></tr>\n",
       "\t<tr><td>6515</td><td>4680</td></tr>\n",
       "\t<tr><td>6805</td><td>5265</td></tr>\n",
       "\t<tr><td>7515</td><td>5975</td></tr>\n",
       "\t<tr><td>7515</td><td>6790</td></tr>\n",
       "\t<tr><td>8230</td><td>6900</td></tr>\n",
       "\t<tr><td>8770</td><td>7335</td></tr>\n",
       "</tbody>\n",
       "</table>\n"
      ],
      "text/latex": [
       "A data.frame: 11 × 2\n",
       "\\begin{tabular}{ll}\n",
       " intake.pre & intake.post\\\\\n",
       " <dbl> & <dbl>\\\\\n",
       "\\hline\n",
       "\t 5260 & 3910\\\\\n",
       "\t 5470 & 4220\\\\\n",
       "\t 5640 & 3885\\\\\n",
       "\t 6180 & 5160\\\\\n",
       "\t 6390 & 5645\\\\\n",
       "\t 6515 & 4680\\\\\n",
       "\t 6805 & 5265\\\\\n",
       "\t 7515 & 5975\\\\\n",
       "\t 7515 & 6790\\\\\n",
       "\t 8230 & 6900\\\\\n",
       "\t 8770 & 7335\\\\\n",
       "\\end{tabular}\n"
      ],
      "text/markdown": [
       "\n",
       "A data.frame: 11 × 2\n",
       "\n",
       "| intake.pre &lt;dbl&gt; | intake.post &lt;dbl&gt; |\n",
       "|---|---|\n",
       "| 5260 | 3910 |\n",
       "| 5470 | 4220 |\n",
       "| 5640 | 3885 |\n",
       "| 6180 | 5160 |\n",
       "| 6390 | 5645 |\n",
       "| 6515 | 4680 |\n",
       "| 6805 | 5265 |\n",
       "| 7515 | 5975 |\n",
       "| 7515 | 6790 |\n",
       "| 8230 | 6900 |\n",
       "| 8770 | 7335 |\n",
       "\n"
      ],
      "text/plain": [
       "   intake.pre intake.post\n",
       "1  5260       3910       \n",
       "2  5470       4220       \n",
       "3  5640       3885       \n",
       "4  6180       5160       \n",
       "5  6390       5645       \n",
       "6  6515       4680       \n",
       "7  6805       5265       \n",
       "8  7515       5975       \n",
       "9  7515       6790       \n",
       "10 8230       6900       \n",
       "11 8770       7335       "
      ]
     },
     "metadata": {},
     "output_type": "display_data"
    }
   ],
   "source": [
    "d <- data.frame(intake.pre, intake.post)\n",
    "d"
   ]
  },
  {
   "cell_type": "markdown",
   "metadata": {},
   "source": [
    "*  Elements in one row correspond to the same woman\n",
    "*  As with lists, variables are accessible using the ''\\$'' notation\n"
   ]
  },
  {
   "cell_type": "code",
   "execution_count": null,
   "metadata": {},
   "outputs": [],
   "source": [
    "d$intake.pre"
   ]
  },
  {
   "cell_type": "markdown",
   "metadata": {},
   "source": [
    "## Loops & conditions\n",
    "\n",
    "### Loop types\n",
    "\n",
    "*   `for(name in expr1) instructions` where  `expr1` is a vector expression\n",
    "      (ex: `1:20`)\n",
    "*   `while(condition) instructions`\n",
    "*  `repeat instructions`\n",
    "\n",
    "### Implicit loops\n",
    "\n",
    "*  Apply a function to each element of  a set of values or vectors and collect the results in a single structure.\n",
    "*  In R this can be done by using one of the two functions `lapply` and   `sapply`. The former always returns a list whereas the latter tries to simplify the result into a vector or matrix if possible.\n",
    "*  The function `apply` allows to apply a function to the rows or columns of a matrix.\n",
    "*  The function  `tapply` allows to create tables of the function's value on subgroups defined by its second argument, which can be a factor or a list of factors. (The grouping can also be defined by ordinary vectors. They will be converted to factors internally.)\n"
   ]
  },
  {
   "cell_type": "markdown",
   "metadata": {},
   "source": [
    "### Exercises\n",
    "\n",
    "*  Load the \"thuesen\" data"
   ]
  },
  {
   "cell_type": "code",
   "execution_count": 123,
   "metadata": {},
   "outputs": [
    {
     "data": {
      "text/html": [
       "<table class=\"dataframe\">\n",
       "<caption>A data.frame: 24 × 2</caption>\n",
       "<thead>\n",
       "\t<tr><th scope=col>blood.glucose</th><th scope=col>short.velocity</th></tr>\n",
       "\t<tr><th scope=col>&lt;dbl&gt;</th><th scope=col>&lt;dbl&gt;</th></tr>\n",
       "</thead>\n",
       "<tbody>\n",
       "\t<tr><td>15.3</td><td>1.76</td></tr>\n",
       "\t<tr><td>10.8</td><td>1.34</td></tr>\n",
       "\t<tr><td> 8.1</td><td>1.27</td></tr>\n",
       "\t<tr><td>19.5</td><td>1.47</td></tr>\n",
       "\t<tr><td> 7.2</td><td>1.27</td></tr>\n",
       "\t<tr><td> 5.3</td><td>1.49</td></tr>\n",
       "\t<tr><td> 9.3</td><td>1.31</td></tr>\n",
       "\t<tr><td>11.1</td><td>1.09</td></tr>\n",
       "\t<tr><td> 7.5</td><td>1.18</td></tr>\n",
       "\t<tr><td>12.2</td><td>1.22</td></tr>\n",
       "\t<tr><td> 6.7</td><td>1.25</td></tr>\n",
       "\t<tr><td> 5.2</td><td>1.19</td></tr>\n",
       "\t<tr><td>19.0</td><td>1.95</td></tr>\n",
       "\t<tr><td>15.1</td><td>1.28</td></tr>\n",
       "\t<tr><td> 6.7</td><td>1.52</td></tr>\n",
       "\t<tr><td> 8.6</td><td>  NA</td></tr>\n",
       "\t<tr><td> 4.2</td><td>1.12</td></tr>\n",
       "\t<tr><td>10.3</td><td>1.37</td></tr>\n",
       "\t<tr><td>12.5</td><td>1.19</td></tr>\n",
       "\t<tr><td>16.1</td><td>1.05</td></tr>\n",
       "\t<tr><td>13.3</td><td>1.32</td></tr>\n",
       "\t<tr><td> 4.9</td><td>1.03</td></tr>\n",
       "\t<tr><td> 8.8</td><td>1.12</td></tr>\n",
       "\t<tr><td> 9.5</td><td>1.70</td></tr>\n",
       "</tbody>\n",
       "</table>\n"
      ],
      "text/latex": [
       "A data.frame: 24 × 2\n",
       "\\begin{tabular}{ll}\n",
       " blood.glucose & short.velocity\\\\\n",
       " <dbl> & <dbl>\\\\\n",
       "\\hline\n",
       "\t 15.3 & 1.76\\\\\n",
       "\t 10.8 & 1.34\\\\\n",
       "\t  8.1 & 1.27\\\\\n",
       "\t 19.5 & 1.47\\\\\n",
       "\t  7.2 & 1.27\\\\\n",
       "\t  5.3 & 1.49\\\\\n",
       "\t  9.3 & 1.31\\\\\n",
       "\t 11.1 & 1.09\\\\\n",
       "\t  7.5 & 1.18\\\\\n",
       "\t 12.2 & 1.22\\\\\n",
       "\t  6.7 & 1.25\\\\\n",
       "\t  5.2 & 1.19\\\\\n",
       "\t 19.0 & 1.95\\\\\n",
       "\t 15.1 & 1.28\\\\\n",
       "\t  6.7 & 1.52\\\\\n",
       "\t  8.6 &   NA\\\\\n",
       "\t  4.2 & 1.12\\\\\n",
       "\t 10.3 & 1.37\\\\\n",
       "\t 12.5 & 1.19\\\\\n",
       "\t 16.1 & 1.05\\\\\n",
       "\t 13.3 & 1.32\\\\\n",
       "\t  4.9 & 1.03\\\\\n",
       "\t  8.8 & 1.12\\\\\n",
       "\t  9.5 & 1.70\\\\\n",
       "\\end{tabular}\n"
      ],
      "text/markdown": [
       "\n",
       "A data.frame: 24 × 2\n",
       "\n",
       "| blood.glucose &lt;dbl&gt; | short.velocity &lt;dbl&gt; |\n",
       "|---|---|\n",
       "| 15.3 | 1.76 |\n",
       "| 10.8 | 1.34 |\n",
       "|  8.1 | 1.27 |\n",
       "| 19.5 | 1.47 |\n",
       "|  7.2 | 1.27 |\n",
       "|  5.3 | 1.49 |\n",
       "|  9.3 | 1.31 |\n",
       "| 11.1 | 1.09 |\n",
       "|  7.5 | 1.18 |\n",
       "| 12.2 | 1.22 |\n",
       "|  6.7 | 1.25 |\n",
       "|  5.2 | 1.19 |\n",
       "| 19.0 | 1.95 |\n",
       "| 15.1 | 1.28 |\n",
       "|  6.7 | 1.52 |\n",
       "|  8.6 |   NA |\n",
       "|  4.2 | 1.12 |\n",
       "| 10.3 | 1.37 |\n",
       "| 12.5 | 1.19 |\n",
       "| 16.1 | 1.05 |\n",
       "| 13.3 | 1.32 |\n",
       "|  4.9 | 1.03 |\n",
       "|  8.8 | 1.12 |\n",
       "|  9.5 | 1.70 |\n",
       "\n"
      ],
      "text/plain": [
       "   blood.glucose short.velocity\n",
       "1  15.3          1.76          \n",
       "2  10.8          1.34          \n",
       "3   8.1          1.27          \n",
       "4  19.5          1.47          \n",
       "5   7.2          1.27          \n",
       "6   5.3          1.49          \n",
       "7   9.3          1.31          \n",
       "8  11.1          1.09          \n",
       "9   7.5          1.18          \n",
       "10 12.2          1.22          \n",
       "11  6.7          1.25          \n",
       "12  5.2          1.19          \n",
       "13 19.0          1.95          \n",
       "14 15.1          1.28          \n",
       "15  6.7          1.52          \n",
       "16  8.6            NA          \n",
       "17  4.2          1.12          \n",
       "18 10.3          1.37          \n",
       "19 12.5          1.19          \n",
       "20 16.1          1.05          \n",
       "21 13.3          1.32          \n",
       "22  4.9          1.03          \n",
       "23  8.8          1.12          \n",
       "24  9.5          1.70          "
      ]
     },
     "metadata": {},
     "output_type": "display_data"
    }
   ],
   "source": [
    "data(thuesen)\n",
    "thuesen"
   ]
  },
  {
   "cell_type": "markdown",
   "metadata": {},
   "source": [
    "*  Compute the mean of the data frame `thuesen` to get the result as a list, and as a vector.\n",
    "\n"
   ]
  },
  {
   "cell_type": "code",
   "execution_count": 140,
   "metadata": {},
   "outputs": [
    {
     "data": {
      "text/html": [
       "<dl>\n",
       "\t<dt>$blood.glucose</dt>\n",
       "\t\t<dd>10.3</dd>\n",
       "\t<dt>$short.velocity</dt>\n",
       "\t\t<dd>1.32565217391304</dd>\n",
       "</dl>\n"
      ],
      "text/latex": [
       "\\begin{description}\n",
       "\\item[\\$blood.glucose] 10.3\n",
       "\\item[\\$short.velocity] 1.32565217391304\n",
       "\\end{description}\n"
      ],
      "text/markdown": [
       "$blood.glucose\n",
       ":   10.3\n",
       "$short.velocity\n",
       ":   1.32565217391304\n",
       "\n",
       "\n"
      ],
      "text/plain": [
       "$blood.glucose\n",
       "[1] 10.3\n",
       "\n",
       "$short.velocity\n",
       "[1] 1.325652\n"
      ]
     },
     "metadata": {},
     "output_type": "display_data"
    },
    {
     "data": {
      "text/html": [
       "<style>\n",
       ".dl-inline {width: auto; margin:0; padding: 0}\n",
       ".dl-inline>dt, .dl-inline>dd {float: none; width: auto; display: inline-block}\n",
       ".dl-inline>dt::after {content: \":\\0020\"; padding-right: .5ex}\n",
       ".dl-inline>dt:not(:first-of-type) {padding-left: .5ex}\n",
       "</style><dl class=dl-inline><dt>blood.glucose</dt><dd>10.3</dd><dt>short.velocity</dt><dd>1.32565217391304</dd></dl>\n"
      ],
      "text/latex": [
       "\\begin{description*}\n",
       "\\item[blood.glucose] 10.3\n",
       "\\item[short.velocity] 1.32565217391304\n",
       "\\end{description*}\n"
      ],
      "text/markdown": [
       "blood.glucose\n",
       ":   10.3short.velocity\n",
       ":   1.32565217391304\n",
       "\n"
      ],
      "text/plain": [
       " blood.glucose short.velocity \n",
       "     10.300000       1.325652 "
      ]
     },
     "metadata": {},
     "output_type": "display_data"
    }
   ],
   "source": [
    "means = c(mean(thuesen$blood.glucose), mean(thuesen$short.velocity))\n",
    "lapply(thuesen, mean, na.rm=T)\n",
    "sapply(thuesen, mean, na.rm=T)"
   ]
  },
  {
   "cell_type": "markdown",
   "metadata": {},
   "source": [
    "*  Initialize a matrix, in order to get the same results as in this tutorial, use the same random seed\n"
   ]
  },
  {
   "cell_type": "code",
   "execution_count": 141,
   "metadata": {},
   "outputs": [
    {
     "data": {
      "text/html": [
       "<table class=\"dataframe\">\n",
       "<caption>A matrix: 4 × 3 of type dbl</caption>\n",
       "<tbody>\n",
       "\t<tr><td> 0.5855288</td><td> 0.6058875</td><td>-0.2841597</td></tr>\n",
       "\t<tr><td> 0.7094660</td><td>-1.8179560</td><td>-0.9193220</td></tr>\n",
       "\t<tr><td>-0.1093033</td><td> 0.6300986</td><td>-0.1162478</td></tr>\n",
       "\t<tr><td>-0.4534972</td><td>-0.2761841</td><td> 1.8173120</td></tr>\n",
       "</tbody>\n",
       "</table>\n"
      ],
      "text/latex": [
       "A matrix: 4 × 3 of type dbl\n",
       "\\begin{tabular}{lll}\n",
       "\t  0.5855288 &  0.6058875 & -0.2841597\\\\\n",
       "\t  0.7094660 & -1.8179560 & -0.9193220\\\\\n",
       "\t -0.1093033 &  0.6300986 & -0.1162478\\\\\n",
       "\t -0.4534972 & -0.2761841 &  1.8173120\\\\\n",
       "\\end{tabular}\n"
      ],
      "text/markdown": [
       "\n",
       "A matrix: 4 × 3 of type dbl\n",
       "\n",
       "|  0.5855288 |  0.6058875 | -0.2841597 |\n",
       "|  0.7094660 | -1.8179560 | -0.9193220 |\n",
       "| -0.1093033 |  0.6300986 | -0.1162478 |\n",
       "| -0.4534972 | -0.2761841 |  1.8173120 |\n",
       "\n"
      ],
      "text/plain": [
       "     [,1]       [,2]       [,3]      \n",
       "[1,]  0.5855288  0.6058875 -0.2841597\n",
       "[2,]  0.7094660 -1.8179560 -0.9193220\n",
       "[3,] -0.1093033  0.6300986 -0.1162478\n",
       "[4,] -0.4534972 -0.2761841  1.8173120"
      ]
     },
     "metadata": {},
     "output_type": "display_data"
    }
   ],
   "source": [
    "set.seed(12345)\n",
    "m <- matrix(rnorm(12),4)\n",
    "m"
   ]
  },
  {
   "cell_type": "markdown",
   "metadata": {},
   "source": [
    "and compute the mean of each row and of each column using `apply`, check the help for details `?apply`. How do you compute the mean of the entire matrix?\n"
   ]
  },
  {
   "cell_type": "code",
   "execution_count": 149,
   "metadata": {},
   "outputs": [
    {
     "data": {
      "text/html": [
       "<style>\n",
       ".list-inline {list-style: none; margin:0; padding: 0}\n",
       ".list-inline>li {display: inline-block}\n",
       ".list-inline>li:not(:last-child)::after {content: \"\\00b7\"; padding: 0 .5ex}\n",
       "</style>\n",
       "<ol class=list-inline><li>0.183048586802391</li><li>-0.21453851650504</li><li>0.124395622733679</li></ol>\n"
      ],
      "text/latex": [
       "\\begin{enumerate*}\n",
       "\\item 0.183048586802391\n",
       "\\item -0.21453851650504\n",
       "\\item 0.124395622733679\n",
       "\\end{enumerate*}\n"
      ],
      "text/markdown": [
       "1. 0.183048586802391\n",
       "2. -0.21453851650504\n",
       "3. 0.124395622733679\n",
       "\n",
       "\n"
      ],
      "text/plain": [
       "[1]  0.1830486 -0.2145385  0.1243956"
      ]
     },
     "metadata": {},
     "output_type": "display_data"
    },
    {
     "data": {
      "text/html": [
       "0.0309685643436766"
      ],
      "text/latex": [
       "0.0309685643436766"
      ],
      "text/markdown": [
       "0.0309685643436766"
      ],
      "text/plain": [
       "[1] 0.03096856"
      ]
     },
     "metadata": {},
     "output_type": "display_data"
    }
   ],
   "source": [
    "apply(m, 2, mean)\n",
    "mean(m)"
   ]
  },
  {
   "cell_type": "markdown",
   "metadata": {},
   "source": [
    "### Conditions\n",
    "\n",
    "*  `if(condition) instructions else if(condition2) instructions2 else instructions3`\n",
    "*  Variants: see documentation.\n"
   ]
  },
  {
   "cell_type": "code",
   "execution_count": 152,
   "metadata": {},
   "outputs": [
    {
     "name": "stdout",
     "output_type": "stream",
     "text": [
      "[1]  0.5855288  0.6058875 -0.2841597\n"
     ]
    }
   ],
   "source": [
    "if (m[1,1]>0)\n",
    "{\n",
    "    print(m[1,])\n",
    "} else {\n",
    "    if(m[1,1]<0)\n",
    "    { \n",
    "        print(m[,1])\n",
    "    }\n",
    "    else \n",
    "    {\n",
    "        print(\"element is zero\")\n",
    "    }\n",
    "} \n"
   ]
  },
  {
   "cell_type": "markdown",
   "metadata": {},
   "source": [
    "## Functions\n",
    "\n",
    "### How to write a basic function"
   ]
  },
  {
   "cell_type": "markdown",
   "metadata": {},
   "source": [
    "*  `name <- function(arg1, arg2, ...)` expression\n",
    "*  Use  `return(variable)` to return one variable, multiple variables can be returned as a list.\n"
   ]
  },
  {
   "cell_type": "code",
   "execution_count": 159,
   "metadata": {},
   "outputs": [
    {
     "data": {
      "text/html": [
       "<dl>\n",
       "\t<dt>$sum</dt>\n",
       "\t\t<dd>5</dd>\n",
       "\t<dt>$mean</dt>\n",
       "\t\t<dd>1.25</dd>\n",
       "</dl>\n"
      ],
      "text/latex": [
       "\\begin{description}\n",
       "\\item[\\$sum] 5\n",
       "\\item[\\$mean] 1.25\n",
       "\\end{description}\n"
      ],
      "text/markdown": [
       "$sum\n",
       ":   5\n",
       "$mean\n",
       ":   1.25\n",
       "\n",
       "\n"
      ],
      "text/plain": [
       "$sum\n",
       "[1] 5\n",
       "\n",
       "$mean\n",
       "[1] 1.25\n"
      ]
     },
     "metadata": {},
     "output_type": "display_data"
    },
    {
     "name": "stdout",
     "output_type": "stream",
     "text": [
      "          [,1]       [,2]       [,3]       [,4]\n",
      "[1,] 0.8544517 -1.4130988  0.5831877 -0.5403861\n",
      "[2,] 1.4607294  0.5674033 -1.3067988  1.9476927\n",
      "[1]  1.9476927 -0.5403861 -1.3067988  0.5831877  0.5674033 -1.4130988  1.4607294\n",
      "[8]  0.8544517\n"
     ]
    }
   ],
   "source": [
    "## compute sum of a vector using a for loop\n",
    "computeSum<-function(x){\n",
    "sum<-0\n",
    "n<-0\n",
    "for(i in 1:length(x)){\n",
    "if(!is.na(x[i])){ ## The function is.na is used to determine\n",
    "## whether an element is missing (==NA)\n",
    "sum<-sum+x[i]\n",
    "n<-n+1\n",
    "}}\n",
    "# return(sum) will return the sum of the vector\n",
    "return(list(\"sum\"=sum,\"mean\"=sum/n))\n",
    "}\n",
    "computeSum(c(1,2,-4,NA,6))\n",
    "\n",
    "printBackwards<-function(x) {\n",
    "    print(rev(x))\n",
    "}\n",
    "\n",
    "c <- matrix(rnorm(8), c(2, 4))\n",
    "\n",
    "print(c)\n",
    "printBackwards(c)"
   ]
  },
  {
   "cell_type": "markdown",
   "metadata": {},
   "source": [
    "### Compile functions\n",
    "\n",
    "*  A set of functions can be saved in a *.R file\n",
    "*  These functions can be loaded by using the  `source(filename)` command\n"
   ]
  },
  {
   "cell_type": "markdown",
   "metadata": {
    "collapsed": true
   },
   "source": [
    "## Plotting\n",
    "\n",
    "A basic two dimensional plot from using the vectors  `height` and `weight` can be generated using the `plot` command.\n"
   ]
  },
  {
   "cell_type": "code",
   "execution_count": 160,
   "metadata": {},
   "outputs": [
    {
     "data": {
      "image/png": "[encoded data removed]",
      "text/plain": [
       "Plot with title “height vs weight”"
      ]
     },
     "metadata": {
      "image/png": {
       "height": 420,
       "width": 420
      }
     },
     "output_type": "display_data"
    }
   ],
   "source": [
    "plot(height, weight, main=\"height vs weight\", xlab=\"weight\",ylab=\"height\")"
   ]
  },
  {
   "cell_type": "markdown",
   "metadata": {},
   "source": [
    "Adding pieces to the plot "
   ]
  },
  {
   "cell_type": "code",
   "execution_count": 161,
   "metadata": {},
   "outputs": [
    {
     "data": {
      "image/png": "[encoded data removed]",
      "text/plain": [
       "Plot with title “height vs weight”"
      ]
     },
     "metadata": {
      "image/png": {
       "height": 420,
       "width": 420
      }
     },
     "output_type": "display_data"
    }
   ],
   "source": [
    "plot(height, weight, main=\"height vs weight\", xlab=\"weight\",ylab=\"height\")\n",
    "hh <- c(1.65, 1.70, 1.75, 1.80, 1.85, 1.90)\n",
    "lines(hh, 22.5 * hh^2,col=\"red\")"
   ]
  },
  {
   "cell_type": "code",
   "execution_count": 168,
   "metadata": {},
   "outputs": [
    {
     "data": {
      "image/png": "[encoded data removed]",
      "text/plain": [
       "Plot with title “f(x) = x^2”"
      ]
     },
     "metadata": {
      "image/png": {
       "height": 420,
       "width": 420
      }
     },
     "output_type": "display_data"
    }
   ],
   "source": [
    "mysquare <- function(x) {\n",
    "    return(x^2)\n",
    "}\n",
    "\n",
    "x = seq(0.0, 1.0, 0.1)\n",
    "y = mysquare(x)\n",
    "\n",
    "plot(x, y, main=\"f(x) = x^2\", xlab=\"x\", ylab=\"f(x)\")\n",
    "lines(x, y, col=\"red\")"
   ]
  },
  {
   "cell_type": "markdown",
   "metadata": {},
   "source": [
    "To save a plot to a *.pdf file use the `pdf(...)` command; the following will save the file `myplot.pdf` in your working directory.\n"
   ]
  },
  {
   "cell_type": "code",
   "execution_count": 171,
   "metadata": {},
   "outputs": [
    {
     "name": "stdout",
     "output_type": "stream",
     "text": [
      "[1] \"Hello world\"\n"
     ]
    },
    {
     "data": {
      "text/html": [
       "<strong>pdf:</strong> 2"
      ],
      "text/latex": [
       "\\textbf{pdf:} 2"
      ],
      "text/markdown": [
       "**pdf:** 2"
      ],
      "text/plain": [
       "pdf \n",
       "  2 "
      ]
     },
     "metadata": {},
     "output_type": "display_data"
    }
   ],
   "source": [
    "pdf(file=\"myplot.pdf\",width=5,height=4)\n",
    "plot(height, weight, main=\"height vs weight\", xlab=\"weight\",ylab=\"height\")\n",
    "hh <- c(1.65, 1.70, 1.75, 1.80, 1.85, 1.90)\n",
    "lines(hh, 22.5 * hh^2,col=\"red\")\n",
    "print(\"Hello world\")\n",
    "dev.off()\n",
    "?pdf"
   ]
  },
  {
   "cell_type": "markdown",
   "metadata": {},
   "source": [
    "## Probabilities and distributions\n",
    "\n",
    "### Sampling\n",
    "\n",
    "The function `sample` allows to draw random variables uniformly (parameter `prob` to make it non-uniformly) from a vector with or without replacement.\n",
    "\n",
    "### Exercises\n",
    "\n",
    "* Re-initialize random seed\n"
   ]
  },
  {
   "cell_type": "code",
   "execution_count": 172,
   "metadata": {},
   "outputs": [],
   "source": [
    "set.seed(123456)"
   ]
  },
  {
   "cell_type": "markdown",
   "metadata": {},
   "source": [
    "* Draw five random variables, uniformly distributed between 1 and 40"
   ]
  },
  {
   "cell_type": "code",
   "execution_count": 180,
   "metadata": {},
   "outputs": [
    {
     "name": "stdout",
     "output_type": "stream",
     "text": [
      "[1] 2\n",
      "[1] 16\n",
      "[1] 21\n",
      "[1] 1\n",
      "[1] 24\n"
     ]
    }
   ],
   "source": [
    "vars = 1:40\n",
    "for (i in 1:5) {\n",
    "    draw = sample(vars, 1)\n",
    "    print(draw)\n",
    "}"
   ]
  },
  {
   "cell_type": "markdown",
   "metadata": {},
   "source": [
    "* Simulate 10 coin tosses\n"
   ]
  },
  {
   "cell_type": "code",
   "execution_count": 189,
   "metadata": {},
   "outputs": [
    {
     "name": "stdout",
     "output_type": "stream",
     "text": [
      "[1] Face\n",
      "[1] Pile\n",
      "[1] Face\n",
      "[1] Face\n",
      "[1] Pile\n",
      "[1] Face\n",
      "[1] Face\n",
      "[1] Pile\n",
      "[1] Pile\n",
      "[1] Face\n"
     ]
    }
   ],
   "source": [
    "coin_sides = c(1, 2)\n",
    "fcoin_sides = factor(coin_sides, levels=1:2)\n",
    "levels(fcoin_sides) <- c(\"Pile\", \"Face\")\n",
    "\n",
    "for (i in 1:10) {\n",
    "    draw = sample(fcoin_sides, 1)\n",
    "    print(draw, max.levels=0)\n",
    "}"
   ]
  },
  {
   "cell_type": "markdown",
   "metadata": {},
   "source": [
    "* Sample 10 coin tosses with for a coin in which heads appears with a probability of $0.8$\n"
   ]
  },
  {
   "cell_type": "code",
   "execution_count": 191,
   "metadata": {},
   "outputs": [
    {
     "name": "stdout",
     "output_type": "stream",
     "text": [
      "[1] Face\n",
      "[1] Face\n",
      "[1] Face\n",
      "[1] Face\n",
      "[1] Face\n",
      "[1] Face\n",
      "[1] Face\n",
      "[1] Pile\n",
      "[1] Face\n",
      "[1] Face\n"
     ]
    }
   ],
   "source": [
    "for (i in 1:10) {\n",
    "    draw = sample(fcoin_sides, 1, prob=c(0.2, 0.8))\n",
    "    print(draw, max.levels=0)\n",
    "}"
   ]
  },
  {
   "cell_type": "markdown",
   "metadata": {},
   "source": [
    "### Distributions in R\n",
    "\n"
   ]
  },
  {
   "cell_type": "markdown",
   "metadata": {},
   "source": [
    "* For a probability distribution, four fundamental values can be computed: the density, the distribution function, the quantiles and the pseudo-random numbers. Using R, each of these can be computed for the included distributions. \n",
    "* For example for a normal distribution (respectively): `dnorm, pnorm, qnorm`\n",
    "et `rnorm`. The same nomenclature is used for all distributions: the density (or the discrete probability) starts with a \"d\", the distribution function with \"p\", the quantile with \"q\" and the random number generating function with \"r\".\n",
    "* Plot normal density\n"
   ]
  },
  {
   "cell_type": "code",
   "execution_count": 194,
   "metadata": {},
   "outputs": [
    {
     "data": {
      "image/png": "[encoded data removed]",
      "text/plain": [
       "plot without title"
      ]
     },
     "metadata": {
      "image/png": {
       "height": 420,
       "width": 420
      }
     },
     "output_type": "display_data"
    }
   ],
   "source": [
    "x <- seq(-4,4,0.1)\n",
    "# alternatively curve(dnorm(x), from=-4, to=4)\n",
    "plot(x,dnorm(x), type=\"l\") "
   ]
  },
  {
   "cell_type": "markdown",
   "metadata": {},
   "source": [
    "### Exercises\n",
    "\n",
    "* Plot the density for a binomial random variable $B(50, 0.33)$ (use the parameter `type=\"h\"` for the plot function to generate a pin diagram)\n"
   ]
  },
  {
   "cell_type": "code",
   "execution_count": 197,
   "metadata": {},
   "outputs": [
    {
     "name": "stderr",
     "output_type": "stream",
     "text": [
      "Warning message in plot.xy(xy.coords(x, y), type = type, ...):\n",
      "“\"color\" n'est pas un paramètre graphique”\n"
     ]
    },
    {
     "name": "stdout",
     "output_type": "stream",
     "text": [
      " [1] 2.012520e-09 4.956205e-08 5.980734e-07 4.713176e-06 2.727662e-05\n",
      " [6] 1.235997e-04 4.565812e-04 1.413552e-03 3.742220e-03 8.601522e-03\n",
      "[11] 1.736994e-02 3.111034e-02 4.979976e-02 7.169793e-02 9.332960e-02\n",
      "[16] 1.103240e-01 1.188658e-01 1.170917e-01 1.057321e-01 8.770861e-02\n",
      "[21] 6.695963e-02 4.711445e-02 3.058923e-02 1.834163e-02 1.016318e-02\n",
      "[26] 5.205975e-03 2.465516e-03 1.079430e-03 4.367204e-04 1.631801e-04\n",
      "[31] 5.626061e-05 1.787771e-05 5.228229e-06 1.404599e-06 3.459087e-07\n",
      "[36] 7.788477e-08 1.598382e-08 2.978831e-09 5.019319e-10 7.606775e-11\n",
      "[41] 1.030321e-11 1.237735e-12 1.306351e-13 1.197073e-14 9.380051e-16\n",
      "[46] 6.160033e-17 3.297876e-18 1.382406e-19 4.255541e-21 8.555155e-23\n",
      "[51] 8.427466e-25\n"
     ]
    },
    {
     "data": {
      "image/png": "[encoded data removed]",
      "text/plain": [
       "plot without title"
      ]
     },
     "metadata": {
      "image/png": {
       "height": 420,
       "width": 420
      }
     },
     "output_type": "display_data"
    }
   ],
   "source": [
    "x <- 0:50\n",
    "dist <- dbinom(x, size=50, prob=0.33)\n",
    "plot(x, dist)\n",
    "lines(x, dist, color=\"red\")\n",
    "print(dist)"
   ]
  },
  {
   "cell_type": "markdown",
   "metadata": {},
   "source": [
    "* Compute the probability of a normally distributed variable with mean 132 and standard deviation 13 being smaller than 160\n"
   ]
  },
  {
   "cell_type": "code",
   "execution_count": 202,
   "metadata": {},
   "outputs": [
    {
     "name": "stdout",
     "output_type": "stream",
     "text": [
      "[1] 0.9843739\n"
     ]
    }
   ],
   "source": [
    "dist <- pnorm(160, mean=132, sd=13)\n",
    "print(dist)\n",
    "?quantile"
   ]
  },
  {
   "cell_type": "markdown",
   "metadata": {
    "collapsed": true
   },
   "source": [
    "### Quantiles\n",
    "\n",
    "* Definition: the quantile is the inverse of the distribution function. The p-quantile is by definition that value having the property that there is a probability $p$ to obtain a value lower or equal to it. For example, the median is the 50% quantile.\n",
    "* In order to compute the quantiles of an empirical distribution for which samples are given in a vector, we use the function `quantile` which takes as argument this vector and the probability for which the quantile is needed.\n",
    "* The quantiles are used for computing the confidence intervals. Let $n$ observations be drawn from a normal distribution with the same mean $\\mu$ and the same standard-deviation $\\sigma$. It is well known that the observed mean $\\overline{x}$ follows a normal distribution with mean $\\mu$ and standard deviation $\\sigma/\\sqrt{n}$. A confidance interval of 95% for $\\mu$ can be obtained by\n",
    "\n",
    "\\begin{equation}\n",
    "\\overline{x} + \\sigma/\\sqrt{n} \\times N_{0.025} \\leq \\mu \\leq  \\overline{x} + \\sigma/\\sqrt{n} \\times N_{0.975}\n",
    "\\end{equation}\n",
    "     \n",
    "where $N_{0.025}$ is the 2.5% quantile of the normal distribution.\n",
    "\n",
    "### Exercises\n",
    "\n",
    "Let $\\sigma=12$ and $n=5$ with a mean of $\\overline{x}=83$, compute the confidence interval using the normal distribution\n"
   ]
  },
  {
   "cell_type": "code",
   "execution_count": 205,
   "metadata": {},
   "outputs": [
    {
     "data": {
      "text/html": [
       "72.481729513081"
      ],
      "text/latex": [
       "72.481729513081"
      ],
      "text/markdown": [
       "72.481729513081"
      ],
      "text/plain": [
       "[1] 72.48173"
      ]
     },
     "metadata": {},
     "output_type": "display_data"
    },
    {
     "data": {
      "text/html": [
       "93.518270486919"
      ],
      "text/latex": [
       "93.518270486919"
      ],
      "text/markdown": [
       "93.518270486919"
      ],
      "text/plain": [
       "[1] 93.51827"
      ]
     },
     "metadata": {},
     "output_type": "display_data"
    }
   ],
   "source": [
    "xbar <- 83\n",
    "n <- 5\n",
    "sig <- 12\n",
    "\n",
    "# Lower and upper bonds for the mean in the distribution with 95% chance\n",
    "xbar + sig / sqrt(n) * qnorm(0.025)\n",
    "xbar + sig / sqrt(n) * qnorm(0.975)"
   ]
  },
  {
   "cell_type": "markdown",
   "metadata": {},
   "source": [
    "### Generation of pseudo-random numbers\n",
    "\n",
    "* The first argument of a function generating random numbers is always the number of samples that should be generated. The next arguments specify the parameters fo the chosen distribution (mean, etc.) Some examples are provided to present \"typical\" choices of these parameters.\n"
   ]
  },
  {
   "cell_type": "code",
   "execution_count": 206,
   "metadata": {},
   "outputs": [
    {
     "data": {
      "text/html": [
       "<style>\n",
       ".list-inline {list-style: none; margin:0; padding: 0}\n",
       ".list-inline>li {display: inline-block}\n",
       ".list-inline>li:not(:last-child)::after {content: \"\\00b7\"; padding: 0 .5ex}\n",
       "</style>\n",
       "<ol class=list-inline><li>-0.263946952935087</li><li>0.410955768457731</li><li>-0.879485115225948</li><li>0.0419192421596535</li><li>-1.5685416861269</li><li>0.30373419338727</li><li>-1.57080163760595</li><li>-0.249834315206974</li><li>-0.463292610185858</li><li>-0.857978403839588</li></ol>\n"
      ],
      "text/latex": [
       "\\begin{enumerate*}\n",
       "\\item -0.263946952935087\n",
       "\\item 0.410955768457731\n",
       "\\item -0.879485115225948\n",
       "\\item 0.0419192421596535\n",
       "\\item -1.5685416861269\n",
       "\\item 0.30373419338727\n",
       "\\item -1.57080163760595\n",
       "\\item -0.249834315206974\n",
       "\\item -0.463292610185858\n",
       "\\item -0.857978403839588\n",
       "\\end{enumerate*}\n"
      ],
      "text/markdown": [
       "1. -0.263946952935087\n",
       "2. 0.410955768457731\n",
       "3. -0.879485115225948\n",
       "4. 0.0419192421596535\n",
       "5. -1.5685416861269\n",
       "6. 0.30373419338727\n",
       "7. -1.57080163760595\n",
       "8. -0.249834315206974\n",
       "9. -0.463292610185858\n",
       "10. -0.857978403839588\n",
       "\n",
       "\n"
      ],
      "text/plain": [
       " [1] -0.26394695  0.41095577 -0.87948512  0.04191924 -1.56854169  0.30373419\n",
       " [7] -1.57080164 -0.24983432 -0.46329261 -0.85797840"
      ]
     },
     "metadata": {},
     "output_type": "display_data"
    }
   ],
   "source": [
    "rnorm(10)"
   ]
  },
  {
   "cell_type": "code",
   "execution_count": 211,
   "metadata": {},
   "outputs": [
    {
     "data": {
      "text/html": [
       "6.99986937750446"
      ],
      "text/latex": [
       "6.99986937750446"
      ],
      "text/markdown": [
       "6.99986937750446"
      ],
      "text/plain": [
       "[1] 6.999869"
      ]
     },
     "metadata": {},
     "output_type": "display_data"
    },
    {
     "data": {
      "text/html": [
       "5.00253529722874"
      ],
      "text/latex": [
       "5.00253529722874"
      ],
      "text/markdown": [
       "5.00253529722874"
      ],
      "text/plain": [
       "[1] 5.002535"
      ]
     },
     "metadata": {},
     "output_type": "display_data"
    }
   ],
   "source": [
    "a = rnorm(1000000, mean=7, sd=5)\n",
    "mean(a)\n",
    "sd(a)"
   ]
  },
  {
   "cell_type": "code",
   "execution_count": 212,
   "metadata": {},
   "outputs": [
    {
     "data": {
      "text/html": [
       "<style>\n",
       ".list-inline {list-style: none; margin:0; padding: 0}\n",
       ".list-inline>li {display: inline-block}\n",
       ".list-inline>li:not(:last-child)::after {content: \"\\00b7\"; padding: 0 .5ex}\n",
       "</style>\n",
       "<ol class=list-inline><li>10</li><li>10</li><li>13</li><li>8</li><li>8</li><li>14</li><li>9</li><li>18</li><li>9</li><li>12</li></ol>\n"
      ],
      "text/latex": [
       "\\begin{enumerate*}\n",
       "\\item 10\n",
       "\\item 10\n",
       "\\item 13\n",
       "\\item 8\n",
       "\\item 8\n",
       "\\item 14\n",
       "\\item 9\n",
       "\\item 18\n",
       "\\item 9\n",
       "\\item 12\n",
       "\\end{enumerate*}\n"
      ],
      "text/markdown": [
       "1. 10\n",
       "2. 10\n",
       "3. 13\n",
       "4. 8\n",
       "5. 8\n",
       "6. 14\n",
       "7. 9\n",
       "8. 18\n",
       "9. 9\n",
       "10. 12\n",
       "\n",
       "\n"
      ],
      "text/plain": [
       " [1] 10 10 13  8  8 14  9 18  9 12"
      ]
     },
     "metadata": {},
     "output_type": "display_data"
    }
   ],
   "source": [
    "rbinom(10, size=20, prob=.5)"
   ]
  },
  {
   "cell_type": "markdown",
   "metadata": {},
   "source": [
    "* The algorithms for generating pseudo-random numbers are initialised by a seed which we can define in R using the function `set.seed(init.value)`, where `init.value` is an integer. This allows the user to reproduce computations with the same pseudo-random numbers."
   ]
  },
  {
   "cell_type": "markdown",
   "metadata": {},
   "source": [
    "### Table of distributions in R\n",
    "\n",
    "* The following table provides an overview over the included distributions and their parameters.\n",
    "\n",
    "| Distribution | R name | additional arguments |\n",
    "| ------------- | ------------- | ------------- |\n",
    "|beta               | `beta`     |  `shape1, shape2, ncp`  |\n",
    "|binomial           | `binom`    |  `size, prob`  |\n",
    "|Cauchy             | `cauchy`   |  `location, scale`  |\n",
    "|chi-squared        | `chisq`    |  `df, ncp`  |\n",
    "|exponential        | `exp`      |  `rate`  |\n",
    "|F                  | `f`        |  `df1, df2, ncp`  |\n",
    "|gamma              | `gamma`    |  `shape, scale`  |\n",
    "|geometric          | `geom`     |  `prob`  |\n",
    "|hypergeometric     | `hyper`    |  `m, n, k`  |\n",
    "|log-normal         | `lnorm`    |  `meanlog, sdlog`  |\n",
    "|logistic           | `logis`    |  `location, scale`  |\n",
    "|negative binomial  | `nbinom`   |  `size, prob`  |\n",
    "|normal             | `norm`     |  `mean, sd`  |\n",
    "|Poisson            | `pois`     |  `lambda`  |\n",
    "|Student's t        | `t`        |  `df, ncp`  |\n",
    "|uniform            | `unif`     |  `min, max`  |\n",
    "|Weibull            | `weibull`  |  `shape, scale`  |\n",
    "|Wilcoxon           | `wilcox`   |  `m, n`  |\n"
   ]
  },
  {
   "cell_type": "markdown",
   "metadata": {},
   "source": [
    "### Descriptive statistics\n",
    "\n",
    "* Computation of the mean, the variance, the standard deviation and the median:\n"
   ]
  },
  {
   "cell_type": "code",
   "execution_count": 222,
   "metadata": {},
   "outputs": [
    {
     "data": {
      "text/html": [
       "0.00102206222523821"
      ],
      "text/latex": [
       "0.00102206222523821"
      ],
      "text/markdown": [
       "0.00102206222523821"
      ],
      "text/plain": [
       "[1] 0.001022062"
      ]
     },
     "metadata": {},
     "output_type": "display_data"
    },
    {
     "data": {
      "text/html": [
       "1.00102206222524"
      ],
      "text/latex": [
       "1.00102206222524"
      ],
      "text/markdown": [
       "1.00102206222524"
      ],
      "text/plain": [
       "[1] 1.001022"
      ]
     },
     "metadata": {},
     "output_type": "display_data"
    }
   ],
   "source": [
    "x <- rnorm(50000)\n",
    "mean(x)\n",
    "x <- x +1 \n",
    "mean(x)"
   ]
  },
  {
   "cell_type": "code",
   "execution_count": 223,
   "metadata": {},
   "outputs": [
    {
     "data": {
      "text/html": [
       "1.00371820643698"
      ],
      "text/latex": [
       "1.00371820643698"
      ],
      "text/markdown": [
       "1.00371820643698"
      ],
      "text/plain": [
       "[1] 1.003718"
      ]
     },
     "metadata": {},
     "output_type": "display_data"
    }
   ],
   "source": [
    "var(x)  ## variance"
   ]
  },
  {
   "cell_type": "code",
   "execution_count": 224,
   "metadata": {},
   "outputs": [
    {
     "data": {
      "text/html": [
       "1.00185737829143"
      ],
      "text/latex": [
       "1.00185737829143"
      ],
      "text/markdown": [
       "1.00185737829143"
      ],
      "text/plain": [
       "[1] 1.001857"
      ]
     },
     "metadata": {},
     "output_type": "display_data"
    }
   ],
   "source": [
    "sd(x)  ## standard deviation"
   ]
  },
  {
   "cell_type": "code",
   "execution_count": 225,
   "metadata": {},
   "outputs": [
    {
     "data": {
      "text/html": [
       "0.99726222930468"
      ],
      "text/latex": [
       "0.99726222930468"
      ],
      "text/markdown": [
       "0.99726222930468"
      ],
      "text/plain": [
       "[1] 0.9972622"
      ]
     },
     "metadata": {},
     "output_type": "display_data"
    }
   ],
   "source": [
    "median(x)"
   ]
  },
  {
   "cell_type": "markdown",
   "metadata": {},
   "source": [
    "### Exercises\n",
    "\n",
    "* Generate the following quantiles using `x` and the `quantile()` function\n",
    "\n",
    "```\n",
    "0%\n",
    "-1.95123976505496\n",
    "10%\n",
    "-1.13271529630449\n",
    "20%\n",
    "-0.703902433256463\n",
    "30%\n",
    "-0.534080669182789\n",
    "40%\n",
    "-0.194535187638909\n",
    "50%\n",
    "0.010815116849316\n",
    "60%\n",
    "0.271635194601255\n",
    "70%\n",
    "0.428684091938317\n",
    "80%\n",
    "0.707262231615462\n",
    "90%\n",
    "1.22780901706794\n",
    "100%\n",
    "1.80424544809948\n",
    "```\n"
   ]
  },
  {
   "cell_type": "code",
   "execution_count": 227,
   "metadata": {},
   "outputs": [
    {
     "data": {
      "text/html": [
       "<style>\n",
       ".dl-inline {width: auto; margin:0; padding: 0}\n",
       ".dl-inline>dt, .dl-inline>dd {float: none; width: auto; display: inline-block}\n",
       ".dl-inline>dt::after {content: \":\\0020\"; padding-right: .5ex}\n",
       ".dl-inline>dt:not(:first-of-type) {padding-left: .5ex}\n",
       "</style><dl class=dl-inline><dt>0%</dt><dd>-3.43087762189776</dd><dt>10%</dt><dd>-0.275369298146372</dd><dt>20%</dt><dd>0.160016083821911</dd><dt>30%</dt><dd>0.470961441235531</dd><dt>40%</dt><dd>0.745122255815426</dd><dt>50%</dt><dd>0.99726222930468</dd><dt>60%</dt><dd>1.25356626432613</dd><dt>70%</dt><dd>1.52319422044064</dd><dt>80%</dt><dd>1.84717487066134</dd><dt>90%</dt><dd>2.28968307702711</dd><dt>100%</dt><dd>5.13076336903358</dd></dl>\n"
      ],
      "text/latex": [
       "\\begin{description*}\n",
       "\\item[0\\textbackslash{}\\%] -3.43087762189776\n",
       "\\item[10\\textbackslash{}\\%] -0.275369298146372\n",
       "\\item[20\\textbackslash{}\\%] 0.160016083821911\n",
       "\\item[30\\textbackslash{}\\%] 0.470961441235531\n",
       "\\item[40\\textbackslash{}\\%] 0.745122255815426\n",
       "\\item[50\\textbackslash{}\\%] 0.99726222930468\n",
       "\\item[60\\textbackslash{}\\%] 1.25356626432613\n",
       "\\item[70\\textbackslash{}\\%] 1.52319422044064\n",
       "\\item[80\\textbackslash{}\\%] 1.84717487066134\n",
       "\\item[90\\textbackslash{}\\%] 2.28968307702711\n",
       "\\item[100\\textbackslash{}\\%] 5.13076336903358\n",
       "\\end{description*}\n"
      ],
      "text/markdown": [
       "0%\n",
       ":   -3.4308776218977610%\n",
       ":   -0.27536929814637220%\n",
       ":   0.16001608382191130%\n",
       ":   0.47096144123553140%\n",
       ":   0.74512225581542650%\n",
       ":   0.9972622293046860%\n",
       ":   1.2535662643261370%\n",
       ":   1.5231942204406480%\n",
       ":   1.8471748706613490%\n",
       ":   2.28968307702711100%\n",
       ":   5.13076336903358\n",
       "\n"
      ],
      "text/plain": [
       "        0%        10%        20%        30%        40%        50%        60% \n",
       "-3.4308776 -0.2753693  0.1600161  0.4709614  0.7451223  0.9972622  1.2535663 \n",
       "       70%        80%        90%       100% \n",
       " 1.5231942  1.8471749  2.2896831  5.1307634 "
      ]
     },
     "metadata": {},
     "output_type": "display_data"
    }
   ],
   "source": [
    "pvec <- seq(0.0, 1.0, 0.1)\n",
    "quantile(x, pvec)"
   ]
  },
  {
   "cell_type": "markdown",
   "metadata": {},
   "source": [
    "### Plots of distributions\n",
    "\n",
    "* Histogram and empirical cumulative distribution (the empirical distribution function is defined as the number of data points smaller or equal to $x$ devided by the total number of points)\n"
   ]
  },
  {
   "cell_type": "code",
   "execution_count": 229,
   "metadata": {},
   "outputs": [
    {
     "data": {
      "image/png": "[encoded data removed]",
      "text/plain": [
       "Plot with title “Histogram of x”"
      ]
     },
     "metadata": {
      "image/png": {
       "height": 420,
       "width": 420
      }
     },
     "output_type": "display_data"
    }
   ],
   "source": [
    "?par\n",
    "par(mfrow=c(1,2))\n",
    "hist(x)\n",
    "n<-length(x)\n",
    "plot(sort(x), (1:n)/n, type=\"s\", ylim=c(0,1))"
   ]
  },
  {
   "cell_type": "markdown",
   "metadata": {},
   "source": [
    "* In a boxplot, the box in the middle of the graph indicates the quartiles and the median.The two horizontal lines represent the largest (or the smallest) observation which falls within a distance of 1.5 times the size of the box. The observations outside this box are considered as \"extremes\" and are noted by points.\n"
   ]
  },
  {
   "cell_type": "code",
   "execution_count": null,
   "metadata": {},
   "outputs": [],
   "source": [
    "data(IgM)\n",
    "par(mfrow=c(1,2))\n",
    "boxplot(IgM)\n",
    "boxplot(log(IgM))"
   ]
  },
  {
   "cell_type": "markdown",
   "metadata": {},
   "source": [
    "### Graphs for grouped data \n",
    "\n",
    "We are presenting here some techniques for comparing plots between groups.\n",
    "\n",
    "#### Histograms\n",
    "\n"
   ]
  },
  {
   "cell_type": "code",
   "execution_count": 232,
   "metadata": {},
   "outputs": [
    {
     "name": "stderr",
     "output_type": "stream",
     "text": [
      "The following objects are masked from energy (pos = 3):\n",
      "\n",
      "    expend, stature\n",
      "\n",
      "\n",
      "The following objects are masked from energy (pos = 4):\n",
      "\n",
      "    expend, stature\n",
      "\n",
      "\n"
     ]
    },
    {
     "data": {
      "image/png": "[encoded data removed]",
      "text/plain": [
       "Plot with title “Histogram of expend.obese”"
      ]
     },
     "metadata": {
      "image/png": {
       "height": 420,
       "width": 420
      }
     },
     "output_type": "display_data"
    }
   ],
   "source": [
    "data(energy)\n",
    "attach(energy)\n",
    "expend.lean <- expend[stature==\"lean\"]\n",
    " expend.obese <- expend[stature==\"obese\"]\n",
    " par(mfrow=c(1,2))\n",
    " hist(expend.lean, breaks=10, xlim=c(5,13), ylim=c(0,4),col=\"white\")\n",
    " hist(expend.obese, breaks=10, xlim=c(5,13), ylim=c(0,4), col=\"grey\")\n",
    "par(mfrow=c(1,1))"
   ]
  },
  {
   "cell_type": "markdown",
   "metadata": {},
   "source": [
    "#### Parallel boxplots\n",
    "\n",
    "It is possible to insert boxplots of several different groups in the same window\n",
    " "
   ]
  },
  {
   "cell_type": "code",
   "execution_count": 233,
   "metadata": {},
   "outputs": [
    {
     "data": {
      "image/png": "[encoded data removed]",
      "text/plain": [
       "plot without title"
      ]
     },
     "metadata": {
      "image/png": {
       "height": 420,
       "width": 420
      }
     },
     "output_type": "display_data"
    }
   ],
   "source": [
    "boxplot(expend.lean, expend.obese) "
   ]
  },
  {
   "cell_type": "markdown",
   "metadata": {},
   "source": [
    "#### Stripcharts\n",
    "\n",
    "*  The stripcharts provide the possibility to display the raw data in a graph. We present four variants:\n"
   ]
  },
  {
   "cell_type": "code",
   "execution_count": 234,
   "metadata": {},
   "outputs": [
    {
     "data": {
      "image/png": "[encoded data removed]",
      "text/plain": [
       "plot without title"
      ]
     },
     "metadata": {
      "image/png": {
       "height": 420,
       "width": 420
      }
     },
     "output_type": "display_data"
    }
   ],
   "source": [
    "opar <- par(mfrow=c(2,2), mex=0.8, mar=c(3,3,2,1)+.1)\n",
    "stripchart(expend~stature)\n",
    "stripchart(expend~stature, method=\"stack\")\n",
    "stripchart(expend~stature, method=\"jitter\")\n",
    "stripchart(expend~stature, method=\"jitter\", jitter=0.3)\n",
    "par(mfrow=c(1,1))\n"
   ]
  },
  {
   "cell_type": "markdown",
   "metadata": {},
   "source": [
    "*  The first version superimposes identical points. The parameter `stack` allows to stack identical data vertically. The parameter `jitter` allows to apply a random vertical lag to each point. The last version applies a random lag smaller than the one in the previous version.\n",
    "\n",
    "#### Generate tables\n",
    "\n",
    "*  A bi-dimensional table can be generated using `matrix`. The following example concerns the caffeine consumption while giving birth, with respect to women's civil status.\n"
   ]
  },
  {
   "cell_type": "code",
   "execution_count": 235,
   "metadata": {},
   "outputs": [
    {
     "data": {
      "text/html": [
       "<table class=\"dataframe\">\n",
       "<caption>A matrix: 3 × 4 of type dbl</caption>\n",
       "<tbody>\n",
       "\t<tr><td>652</td><td>1537</td><td>598</td><td>242</td></tr>\n",
       "\t<tr><td> 36</td><td>  46</td><td> 38</td><td> 21</td></tr>\n",
       "\t<tr><td>218</td><td> 327</td><td>106</td><td> 67</td></tr>\n",
       "</tbody>\n",
       "</table>\n"
      ],
      "text/latex": [
       "A matrix: 3 × 4 of type dbl\n",
       "\\begin{tabular}{llll}\n",
       "\t 652 & 1537 & 598 & 242\\\\\n",
       "\t  36 &   46 &  38 &  21\\\\\n",
       "\t 218 &  327 & 106 &  67\\\\\n",
       "\\end{tabular}\n"
      ],
      "text/markdown": [
       "\n",
       "A matrix: 3 × 4 of type dbl\n",
       "\n",
       "| 652 | 1537 | 598 | 242 |\n",
       "|  36 |   46 |  38 |  21 |\n",
       "| 218 |  327 | 106 |  67 |\n",
       "\n"
      ],
      "text/plain": [
       "     [,1] [,2] [,3] [,4]\n",
       "[1,] 652  1537 598  242 \n",
       "[2,]  36    46  38   21 \n",
       "[3,] 218   327 106   67 "
      ]
     },
     "metadata": {},
     "output_type": "display_data"
    }
   ],
   "source": [
    "caff.marital <- matrix(c(652, 1537, 598, 242, 36, 46, 38, 21, 218, 327, 106, 67), nrow=3, byrow=T)\n",
    "caff.marital\n"
   ]
  },
  {
   "cell_type": "markdown",
   "metadata": {},
   "source": [
    "*  Adding names to the rows and columns:\n"
   ]
  },
  {
   "cell_type": "code",
   "execution_count": 236,
   "metadata": {},
   "outputs": [
    {
     "data": {
      "text/html": [
       "<table class=\"dataframe\">\n",
       "<caption>A matrix: 3 × 4 of type dbl</caption>\n",
       "<thead>\n",
       "\t<tr><th></th><th scope=col>0</th><th scope=col>1-150</th><th scope=col>151-300</th><th scope=col>&gt;300</th></tr>\n",
       "</thead>\n",
       "<tbody>\n",
       "\t<tr><th scope=row>Married</th><td>652</td><td>1537</td><td>598</td><td>242</td></tr>\n",
       "\t<tr><th scope=row>Prev.married</th><td> 36</td><td>  46</td><td> 38</td><td> 21</td></tr>\n",
       "\t<tr><th scope=row>Single</th><td>218</td><td> 327</td><td>106</td><td> 67</td></tr>\n",
       "</tbody>\n",
       "</table>\n"
      ],
      "text/latex": [
       "A matrix: 3 × 4 of type dbl\n",
       "\\begin{tabular}{r|llll}\n",
       "  & 0 & 1-150 & 151-300 & >300\\\\\n",
       "\\hline\n",
       "\tMarried & 652 & 1537 & 598 & 242\\\\\n",
       "\tPrev.married &  36 &   46 &  38 &  21\\\\\n",
       "\tSingle & 218 &  327 & 106 &  67\\\\\n",
       "\\end{tabular}\n"
      ],
      "text/markdown": [
       "\n",
       "A matrix: 3 × 4 of type dbl\n",
       "\n",
       "| <!--/--> | 0 | 1-150 | 151-300 | &gt;300 |\n",
       "|---|---|---|---|---|\n",
       "| Married | 652 | 1537 | 598 | 242 |\n",
       "| Prev.married |  36 |   46 |  38 |  21 |\n",
       "| Single | 218 |  327 | 106 |  67 |\n",
       "\n"
      ],
      "text/plain": [
       "             0   1-150 151-300 >300\n",
       "Married      652 1537  598     242 \n",
       "Prev.married  36   46   38      21 \n",
       "Single       218  327  106      67 "
      ]
     },
     "metadata": {},
     "output_type": "display_data"
    }
   ],
   "source": [
    "colnames(caff.marital) <- c(\"0\", \"1-150\", \"151-300\", \">300\")\n",
    "rownames(caff.marital) <- c(\"Married\",\"Prev.married\", \"Single\")\n",
    "caff.marital\n"
   ]
  },
  {
   "cell_type": "markdown",
   "metadata": {},
   "source": [
    "*  In general, we want to create tables from a data set. In this case, we have to use the functions `table, xtabs,` or `ftable`. The factors' levels are directly used as the columns' names. The function `table`` is the simplest one of the three.\n"
   ]
  },
  {
   "cell_type": "code",
   "execution_count": 237,
   "metadata": {},
   "outputs": [],
   "source": [
    "data(juul)\n",
    "attach(juul)\n",
    "juul$sex <- factor(juul$sex, labels=c(\"M\", \"F\"))\n",
    "juul$menarche <- factor(juul$menarche, labels=c(\"No\", \"Yes\"))\n",
    "juul$tanner <- factor(juul$tanner, labels=c(\"I\", \"II\", \"III\", \"IV\", \"V\"))\n"
   ]
  },
  {
   "cell_type": "markdown",
   "metadata": {},
   "source": [
    "*  Then the respective tables are\n"
   ]
  },
  {
   "cell_type": "code",
   "execution_count": 238,
   "metadata": {},
   "outputs": [
    {
     "data": {
      "text/plain": [
       "sex\n",
       "  1   2 \n",
       "621 713 "
      ]
     },
     "metadata": {},
     "output_type": "display_data"
    }
   ],
   "source": [
    "table(sex)"
   ]
  },
  {
   "cell_type": "code",
   "execution_count": 239,
   "metadata": {},
   "outputs": [
    {
     "data": {
      "text/plain": [
       "   menarche\n",
       "sex   1   2\n",
       "  1   0   0\n",
       "  2 369 335"
      ]
     },
     "metadata": {},
     "output_type": "display_data"
    }
   ],
   "source": [
    "table(sex, menarche)"
   ]
  },
  {
   "cell_type": "code",
   "execution_count": 240,
   "metadata": {},
   "outputs": [
    {
     "data": {
      "text/plain": [
       "        tanner\n",
       "menarche   1   2   3   4   5\n",
       "       1 221  43  32  14   2\n",
       "       2   1   1   5  26 202"
      ]
     },
     "metadata": {},
     "output_type": "display_data"
    }
   ],
   "source": [
    "table(menarche, tanner)"
   ]
  },
  {
   "cell_type": "markdown",
   "metadata": {},
   "source": [
    "*   The variable `menarche` explains that a woman already had her first period and the variable  `tanner` provides the state of puberty.\n"
   ]
  },
  {
   "cell_type": "markdown",
   "metadata": {},
   "source": [
    "#### Exercises: Marginal tables and relative frequencies\n",
    "\n",
    "*  Define the following table\n",
    "\n",
    "```\n",
    "      sex\n",
    "tanner   1   2\n",
    "     1 291 224\n",
    "     2  55  48\n",
    "     3  34  38\n",
    "     4  41  40\n",
    "     5 124 204\n",
    "```"
   ]
  },
  {
   "cell_type": "markdown",
   "metadata": {},
   "source": [
    "*  Compute the marginal tables, i.e. the sum of values with respect to one of the other table's dimensions using the function `margin.table()`\n",
    "\n"
   ]
  },
  {
   "cell_type": "markdown",
   "metadata": {},
   "source": [
    "*  Using the function `prop.table()`, compute the table of relative frequencies can be computed. This contains the relative frequencies that are the proportions of the row's or column's total.\n"
   ]
  },
  {
   "cell_type": "markdown",
   "metadata": {},
   "source": [
    "*  Compute the proportions with respect to the global total of the table:\n"
   ]
  },
  {
   "cell_type": "markdown",
   "metadata": {},
   "source": [
    "### Graphical display of the tables\n",
    "\n",
    "#### Bar plots\n",
    "\n",
    "*  Returning to the caffein example.\n",
    "*  The function `barplot` takes a vector or a matrix as argument. The most basic version:\n"
   ]
  },
  {
   "cell_type": "code",
   "execution_count": null,
   "metadata": {},
   "outputs": [],
   "source": [
    "total.caff <- margin.table(caff.marital,2)\n",
    "barplot(total.caff, col=\"white\")"
   ]
  },
  {
   "cell_type": "markdown",
   "metadata": {},
   "source": [
    "*  If the argument is a matrix then  `barplot` creates a stacked box plot in which the columns are partitioned with respect to the contributions of the table's different rows. For displaying side-by-side the contributions of a row instead of stacking them, use the parameter `beside=T`. Some examples:\n"
   ]
  },
  {
   "cell_type": "code",
   "execution_count": null,
   "metadata": {},
   "outputs": [],
   "source": [
    "par(mfrow=c(2,2))\n",
    "barplot(caff.marital, col=\"white\")\n",
    "barplot(t(caff.marital), col=\"white\")\n",
    "barplot(t(caff.marital), col=\"white\", beside=T)\n",
    "barplot(prop.table(t(caff.marital), 2), col=\"white\", beside=T)"
   ]
  },
  {
   "cell_type": "markdown",
   "metadata": {},
   "source": [
    "*  We can make the plots more beautiful"
   ]
  },
  {
   "cell_type": "code",
   "execution_count": null,
   "metadata": {},
   "outputs": [],
   "source": [
    "par(mfrow=c(1,1))\n",
    "barplot(prop.table(t(caff.marital), 2), beside=T,legend.text=colnames(caff.marital),col=c(\"white\",\"grey80\",\"grey50\", \"black\"),args.legend=c(cex=0.4))"
   ]
  },
  {
   "cell_type": "markdown",
   "metadata": {},
   "source": [
    "#### Exercises\n",
    "\n",
    "*  Create a dotchart with the same information as the previous bar plots (use the command `dotchart()`)."
   ]
  },
  {
   "cell_type": "markdown",
   "metadata": {},
   "source": [
    "*  In order to represent the caffeine consumption table in function of the civil state create a set of pie charts using the function `pie()`.\n"
   ]
  },
  {
   "cell_type": "markdown",
   "metadata": {
    "collapsed": true
   },
   "source": [
    "## Common Errors in R\n",
    "\n",
    "### Mixing data types"
   ]
  },
  {
   "cell_type": "code",
   "execution_count": 241,
   "metadata": {
    "ExecuteTime": {
     "end_time": "2021-02-08T20:42:53.433859Z",
     "start_time": "2021-02-08T20:42:53.387Z"
    }
   },
   "outputs": [
    {
     "data": {
      "text/html": [
       "<table class=\"dataframe\">\n",
       "<caption>A data.frame: 5 × 3</caption>\n",
       "<thead>\n",
       "\t<tr><th scope=col>a</th><th scope=col>b</th><th scope=col>c</th></tr>\n",
       "\t<tr><th scope=col>&lt;dbl&gt;</th><th scope=col>&lt;dbl&gt;</th><th scope=col>&lt;dbl&gt;</th></tr>\n",
       "</thead>\n",
       "<tbody>\n",
       "\t<tr><td>1</td><td>10</td><td>20</td></tr>\n",
       "\t<tr><td>2</td><td>11</td><td>21</td></tr>\n",
       "\t<tr><td>3</td><td>12</td><td>22</td></tr>\n",
       "\t<tr><td>4</td><td>14</td><td> 4</td></tr>\n",
       "\t<tr><td>5</td><td>15</td><td>25</td></tr>\n",
       "</tbody>\n",
       "</table>\n"
      ],
      "text/latex": [
       "A data.frame: 5 × 3\n",
       "\\begin{tabular}{lll}\n",
       " a & b & c\\\\\n",
       " <dbl> & <dbl> & <dbl>\\\\\n",
       "\\hline\n",
       "\t 1 & 10 & 20\\\\\n",
       "\t 2 & 11 & 21\\\\\n",
       "\t 3 & 12 & 22\\\\\n",
       "\t 4 & 14 &  4\\\\\n",
       "\t 5 & 15 & 25\\\\\n",
       "\\end{tabular}\n"
      ],
      "text/markdown": [
       "\n",
       "A data.frame: 5 × 3\n",
       "\n",
       "| a &lt;dbl&gt; | b &lt;dbl&gt; | c &lt;dbl&gt; |\n",
       "|---|---|---|\n",
       "| 1 | 10 | 20 |\n",
       "| 2 | 11 | 21 |\n",
       "| 3 | 12 | 22 |\n",
       "| 4 | 14 |  4 |\n",
       "| 5 | 15 | 25 |\n",
       "\n"
      ],
      "text/plain": [
       "  a b  c \n",
       "1 1 10 20\n",
       "2 2 11 21\n",
       "3 3 12 22\n",
       "4 4 14  4\n",
       "5 5 15 25"
      ]
     },
     "metadata": {},
     "output_type": "display_data"
    }
   ],
   "source": [
    "df <- data.frame(a = c(1, 2, 3), b = c(10, 11, 12), c=c(20,21,22))\n",
    "df <- rbind(df,c(4,14))\n",
    "df <- rbind(df,c(5,15,25,35))\n",
    "df"
   ]
  },
  {
   "cell_type": "code",
   "execution_count": 242,
   "metadata": {
    "ExecuteTime": {
     "end_time": "2021-02-08T20:42:18.840516Z",
     "start_time": "2021-02-08T20:42:18.795Z"
    }
   },
   "outputs": [
    {
     "name": "stderr",
     "output_type": "stream",
     "text": [
      "Warning message in `[<-.factor`(`*tmp*`, ri, value = 4):\n",
      "“invalid factor level, NA generated”\n",
      "Warning message in `[<-.factor`(`*tmp*`, ri, value = 14):\n",
      "“invalid factor level, NA generated”\n"
     ]
    },
    {
     "data": {
      "text/html": [
       "<table class=\"dataframe\">\n",
       "<caption>A data.frame: 4 × 3</caption>\n",
       "<thead>\n",
       "\t<tr><th scope=col>a</th><th scope=col>b</th><th scope=col>c</th></tr>\n",
       "\t<tr><th scope=col>&lt;fct&gt;</th><th scope=col>&lt;fct&gt;</th><th scope=col>&lt;dbl&gt;</th></tr>\n",
       "</thead>\n",
       "<tbody>\n",
       "\t<tr><td>1 </td><td>10</td><td>20</td></tr>\n",
       "\t<tr><td>2 </td><td>11</td><td>21</td></tr>\n",
       "\t<tr><td>3 </td><td>12</td><td>22</td></tr>\n",
       "\t<tr><td>NA</td><td>NA</td><td> 4</td></tr>\n",
       "</tbody>\n",
       "</table>\n"
      ],
      "text/latex": [
       "A data.frame: 4 × 3\n",
       "\\begin{tabular}{lll}\n",
       " a & b & c\\\\\n",
       " <fct> & <fct> & <dbl>\\\\\n",
       "\\hline\n",
       "\t 1  & 10 & 20\\\\\n",
       "\t 2  & 11 & 21\\\\\n",
       "\t 3  & 12 & 22\\\\\n",
       "\t NA & NA &  4\\\\\n",
       "\\end{tabular}\n"
      ],
      "text/markdown": [
       "\n",
       "A data.frame: 4 × 3\n",
       "\n",
       "| a &lt;fct&gt; | b &lt;fct&gt; | c &lt;dbl&gt; |\n",
       "|---|---|---|\n",
       "| 1  | 10 | 20 |\n",
       "| 2  | 11 | 21 |\n",
       "| 3  | 12 | 22 |\n",
       "| NA | NA |  4 |\n",
       "\n"
      ],
      "text/plain": [
       "  a  b  c \n",
       "1 1  10 20\n",
       "2 2  11 21\n",
       "3 3  12 22\n",
       "4 NA NA  4"
      ]
     },
     "metadata": {},
     "output_type": "display_data"
    }
   ],
   "source": [
    "df <- data.frame(a = as.factor(c(1, 2, 3)), b = as.factor(c(10, 11, 12)), c=c(20,21,22))\n",
    "df <- rbind(df,c(4,14))\n",
    "df"
   ]
  },
  {
   "cell_type": "code",
   "execution_count": 243,
   "metadata": {
    "ExecuteTime": {
     "end_time": "2021-02-08T20:49:47.633452Z",
     "start_time": "2021-02-08T20:49:47.595Z"
    }
   },
   "outputs": [
    {
     "data": {
      "text/html": [
       "<table class=\"dataframe\">\n",
       "<caption>A data.frame: 4 × 3</caption>\n",
       "<thead>\n",
       "\t<tr><th scope=col>a</th><th scope=col>b</th><th scope=col>c</th></tr>\n",
       "\t<tr><th scope=col>&lt;dbl&gt;</th><th scope=col>&lt;dbl&gt;</th><th scope=col>&lt;dbl&gt;</th></tr>\n",
       "</thead>\n",
       "<tbody>\n",
       "\t<tr><td>1</td><td>10</td><td>20.000</td></tr>\n",
       "\t<tr><td>2</td><td>11</td><td>21.000</td></tr>\n",
       "\t<tr><td>3</td><td>12</td><td>22.000</td></tr>\n",
       "\t<tr><td>4</td><td>14</td><td>11.407</td></tr>\n",
       "</tbody>\n",
       "</table>\n"
      ],
      "text/latex": [
       "A data.frame: 4 × 3\n",
       "\\begin{tabular}{lll}\n",
       " a & b & c\\\\\n",
       " <dbl> & <dbl> & <dbl>\\\\\n",
       "\\hline\n",
       "\t 1 & 10 & 20.000\\\\\n",
       "\t 2 & 11 & 21.000\\\\\n",
       "\t 3 & 12 & 22.000\\\\\n",
       "\t 4 & 14 & 11.407\\\\\n",
       "\\end{tabular}\n"
      ],
      "text/markdown": [
       "\n",
       "A data.frame: 4 × 3\n",
       "\n",
       "| a &lt;dbl&gt; | b &lt;dbl&gt; | c &lt;dbl&gt; |\n",
       "|---|---|---|\n",
       "| 1 | 10 | 20.000 |\n",
       "| 2 | 11 | 21.000 |\n",
       "| 3 | 12 | 22.000 |\n",
       "| 4 | 14 | 11.407 |\n",
       "\n"
      ],
      "text/plain": [
       "  a b  c     \n",
       "1 1 10 20.000\n",
       "2 2 11 21.000\n",
       "3 3 12 22.000\n",
       "4 4 14 11.407"
      ]
     },
     "metadata": {},
     "output_type": "display_data"
    }
   ],
   "source": [
    "df <- data.frame(a = c(1, 2, 3), b = c(10, 11, 12), c=c(20,21,22))\n",
    "df <- rbind(df,c(4,14,proc.time()))\n",
    "df\n"
   ]
  },
  {
   "cell_type": "code",
   "execution_count": 244,
   "metadata": {
    "ExecuteTime": {
     "end_time": "2021-02-08T20:49:10.042999Z",
     "start_time": "2021-02-08T20:49:09.914Z"
    }
   },
   "outputs": [
    {
     "data": {
      "text/plain": [
       "    user   system  elapsed \n",
       "  12.676    1.375 9028.649 "
      ]
     },
     "metadata": {},
     "output_type": "display_data"
    }
   ],
   "source": [
    "proc.time()"
   ]
  },
  {
   "cell_type": "markdown",
   "metadata": {},
   "source": [
    "### Missing data"
   ]
  },
  {
   "cell_type": "code",
   "execution_count": 245,
   "metadata": {
    "ExecuteTime": {
     "end_time": "2021-02-08T20:56:41.708482Z",
     "start_time": "2021-02-08T20:56:41.603Z"
    }
   },
   "outputs": [
    {
     "name": "stderr",
     "output_type": "stream",
     "text": [
      "Warning message in min(x):\n",
      "“aucun argument trouvé pour min ; Inf est renvoyé”\n",
      "Warning message in max(x):\n",
      "“aucun argument pour max ; -Inf est renvoyé”\n",
      "Warning message in min(x):\n",
      "“aucun argument trouvé pour min ; Inf est renvoyé”\n",
      "Warning message in max(x):\n",
      "“aucun argument pour max ; -Inf est renvoyé”\n"
     ]
    },
    {
     "ename": "ERROR",
     "evalue": "Error in plot.window(...): 'xlim' nécessite des valeurs finies\n",
     "output_type": "error",
     "traceback": [
      "Error in plot.window(...): 'xlim' nécessite des valeurs finies\nTraceback:\n",
      "1. plot(dd$c)",
      "2. plot.default(dd$c)",
      "3. localWindow(xlim, ylim, log, asp, ...)",
      "4. plot.window(...)"
     ]
    },
    {
     "data": {
      "image/png": "[encoded data removed]",
      "text/plain": [
       "plot without title"
      ]
     },
     "metadata": {
      "image/png": {
       "height": 420,
       "width": 420
      }
     },
     "output_type": "display_data"
    }
   ],
   "source": [
    "dd <- data.frame(a = c(1, 2, 3), b = c(10, 11, 12))\n",
    "plot(dd$c)"
   ]
  },
  {
   "cell_type": "markdown",
   "metadata": {},
   "source": [
    "## Debugging\n",
    "\n",
    "### Basic debugging process (from https://adv-r.hadley.nz/debugging.html)\n",
    "\n",
    "1. Google!\n",
    "2. Make it repeatable\n",
    "3. Figure out where it is\n",
    "4. Fix it and test it\n",
    "\n",
    "\n",
    "Besides the errors directly shown in Jupyter notebooks, it is quite complicated to debug a code with a longer execution inside a notebook.\n",
    "Jupyter displays automatically the warnings produced during the execeution, as well as the traceback, but functions like `traceback()` and `warnings()` doesn't produce the expected result when used after the execution of a cell."
   ]
  },
  {
   "cell_type": "code",
   "execution_count": 246,
   "metadata": {
    "ExecuteTime": {
     "end_time": "2021-02-08T20:56:45.431892Z",
     "start_time": "2021-02-08T20:56:45.398Z"
    }
   },
   "outputs": [
    {
     "name": "stdout",
     "output_type": "stream",
     "text": [
      "No traceback available \n"
     ]
    }
   ],
   "source": [
    "traceback()"
   ]
  },
  {
   "cell_type": "code",
   "execution_count": 247,
   "metadata": {
    "ExecuteTime": {
     "end_time": "2021-02-08T21:08:33.108038Z",
     "start_time": "2021-02-08T21:08:33.080Z"
    }
   },
   "outputs": [],
   "source": [
    "warnings()"
   ]
  },
  {
   "cell_type": "markdown",
   "metadata": {},
   "source": [
    "In this case, it might be useful to configure R in order to automatically dump the environment (the state of the R session and the variable) to a file, using the following code:"
   ]
  },
  {
   "cell_type": "code",
   "execution_count": 248,
   "metadata": {},
   "outputs": [
    {
     "name": "stderr",
     "output_type": "stream",
     "text": [
      "Warning message in readChar(con, 5L, useBytes = TRUE):\n",
      "“impossible d'ouvrir le fichier compressé 'last.dump.rda', cause probable : 'No such file or directory'”\n"
     ]
    },
    {
     "ename": "ERROR",
     "evalue": "Error in readChar(con, 5L, useBytes = TRUE): impossible d'ouvrir la connexion\n",
     "output_type": "error",
     "traceback": [
      "Error in readChar(con, 5L, useBytes = TRUE): impossible d'ouvrir la connexion\nTraceback:\n",
      "1. load(\"last.dump.rda\")",
      "2. readChar(con, 5L, useBytes = TRUE)"
     ]
    }
   ],
   "source": [
    "# In batch R process ----\n",
    "dump_and_quit <- function() {\n",
    "  # Save debugging info to file last.dump.rda\n",
    "  dump.frames(to.file = TRUE)\n",
    "  # Quit R with error status\n",
    "  q(status = 1)\n",
    "}\n",
    "options(error = dump_and_quit)\n",
    "\n",
    "\n",
    "# In a later interactive session, the dump can be loaded using:\n",
    "load(\"last.dump.rda\")\n",
    "debugger()"
   ]
  },
  {
   "cell_type": "markdown",
   "metadata": {},
   "source": [
    "Or, as an alternative, to run the code into RStudio, and use the `browser()` function in order to launch an interactive debugger and manually inspect the state of the program."
   ]
  },
  {
   "cell_type": "markdown",
   "metadata": {},
   "source": [
    "### Useful functions for debugging"
   ]
  },
  {
   "cell_type": "code",
   "execution_count": 249,
   "metadata": {},
   "outputs": [
    {
     "data": {
      "text/html": [
       "'/Users/darius/source/INFO-F422/1_IntroductionR'"
      ],
      "text/latex": [
       "'/Users/darius/source/INFO-F422/1\\_IntroductionR'"
      ],
      "text/markdown": [
       "'/Users/darius/source/INFO-F422/1_IntroductionR'"
      ],
      "text/plain": [
       "[1] \"/Users/darius/source/INFO-F422/1_IntroductionR\""
      ]
     },
     "metadata": {},
     "output_type": "display_data"
    }
   ],
   "source": [
    "getwd() # Get current working directory"
   ]
  },
  {
   "cell_type": "code",
   "execution_count": 250,
   "metadata": {},
   "outputs": [
    {
     "data": {
      "text/html": [
       "<style>\n",
       ".list-inline {list-style: none; margin:0; padding: 0}\n",
       ".list-inline>li {display: inline-block}\n",
       ".list-inline>li:not(:last-child)::after {content: \"\\00b7\"; padding: 0 .5ex}\n",
       "</style>\n",
       "<ol class=list-inline><li>'/usr/local/lib/R/4.0/site-library'</li><li>'/usr/local/Cellar/r/4.0.3/lib/R/library'</li></ol>\n"
      ],
      "text/latex": [
       "\\begin{enumerate*}\n",
       "\\item '/usr/local/lib/R/4.0/site-library'\n",
       "\\item '/usr/local/Cellar/r/4.0.3/lib/R/library'\n",
       "\\end{enumerate*}\n"
      ],
      "text/markdown": [
       "1. '/usr/local/lib/R/4.0/site-library'\n",
       "2. '/usr/local/Cellar/r/4.0.3/lib/R/library'\n",
       "\n",
       "\n"
      ],
      "text/plain": [
       "[1] \"/usr/local/lib/R/4.0/site-library\"      \n",
       "[2] \"/usr/local/Cellar/r/4.0.3/lib/R/library\""
      ]
     },
     "metadata": {},
     "output_type": "display_data"
    }
   ],
   "source": [
    ".libPaths() # Get installation path for libraries"
   ]
  },
  {
   "cell_type": "code",
   "execution_count": 251,
   "metadata": {
    "ExecuteTime": {
     "end_time": "2021-02-08T21:00:25.397592Z",
     "start_time": "2021-02-08T21:00:24.932Z"
    }
   },
   "outputs": [
    {
     "data": {
      "text/plain": [
       "R version 4.0.3 (2020-10-10)\n",
       "Platform: x86_64-apple-darwin19.6.0 (64-bit)\n",
       "Running under: macOS Catalina 10.15.7\n",
       "\n",
       "Matrix products: default\n",
       "BLAS:   /usr/local/Cellar/r/4.0.3/lib/R/lib/libRblas.dylib\n",
       "LAPACK: /usr/local/Cellar/r/4.0.3/lib/R/lib/libRlapack.dylib\n",
       "\n",
       "locale:\n",
       "[1] fr_BE.UTF-8/fr_BE.UTF-8/fr_BE.UTF-8/C/fr_BE.UTF-8/fr_BE.UTF-8\n",
       "\n",
       "attached base packages:\n",
       "[1] stats     graphics  grDevices utils     datasets  methods   base     \n",
       "\n",
       "other attached packages:\n",
       "[1] ISwR_2.0-8\n",
       "\n",
       "loaded via a namespace (and not attached):\n",
       " [1] fansi_0.4.2       digest_0.6.27     utf8_1.2.1        crayon_1.4.1     \n",
       " [5] IRdisplay_1.0     repr_1.1.3        lifecycle_1.0.0   jsonlite_1.7.2   \n",
       " [9] evaluate_0.14     pillar_1.6.0      rlang_0.4.10      uuid_0.1-4       \n",
       "[13] vctrs_0.3.7       ellipsis_0.3.1    IRkernel_1.1.1    tools_4.0.3      \n",
       "[17] compiler_4.0.3    base64enc_0.1-3   pbdZMQ_0.3-5      htmltools_0.5.1.1"
      ]
     },
     "metadata": {},
     "output_type": "display_data"
    }
   ],
   "source": [
    "sessionInfo() # Get information from the current session"
   ]
  },
  {
   "cell_type": "code",
   "execution_count": 252,
   "metadata": {
    "ExecuteTime": {
     "end_time": "2021-02-08T21:21:36.206404Z",
     "start_time": "2021-02-08T21:21:36.128Z"
    }
   },
   "outputs": [
    {
     "data": {
      "text/plain": [
       "$add.smooth\n",
       "[1] TRUE\n",
       "\n",
       "$bitmapType\n",
       "[1] \"quartz\"\n",
       "\n",
       "$browser\n",
       "[1] \"/usr/bin/open\"\n",
       "\n",
       "$browserNLdisabled\n",
       "[1] FALSE\n",
       "\n",
       "$CBoundsCheck\n",
       "[1] FALSE\n",
       "\n",
       "$check.bounds\n",
       "[1] FALSE\n",
       "\n",
       "$citation.bibtex.max\n",
       "[1] 1\n",
       "\n",
       "$continue\n",
       "[1] \"+ \"\n",
       "\n",
       "$contrasts\n",
       "        unordered           ordered \n",
       "\"contr.treatment\"      \"contr.poly\" \n",
       "\n",
       "$crayon.enabled\n",
       "[1] TRUE\n",
       "\n",
       "$defaultPackages\n",
       "[1] \"datasets\"  \"utils\"     \"grDevices\" \"graphics\"  \"stats\"     \"methods\"  \n",
       "\n",
       "$demo.ask\n",
       "[1] \"default\"\n",
       "\n",
       "$deparse.cutoff\n",
       "[1] 60\n",
       "\n",
       "$device\n",
       "function (filename = null_filename, ...) \n",
       "ok_device(filename, ...)\n",
       "<bytecode: 0x7f7fa8009660>\n",
       "<environment: 0x7f7fa8009ac0>\n",
       "\n",
       "$device.ask.default\n",
       "[1] FALSE\n",
       "\n",
       "$digits\n",
       "[1] 7\n",
       "\n",
       "$dvipscmd\n",
       "[1] \"dvips\"\n",
       "\n",
       "$echo\n",
       "[1] FALSE\n",
       "\n",
       "$editor\n",
       "[1] \"vi\"\n",
       "\n",
       "$encoding\n",
       "[1] \"native.enc\"\n",
       "\n",
       "$error\n",
       "(function() {\n",
       "  # Save debugging info to file last.dump.rda\n",
       "  dump.frames(to.file = TRUE)\n",
       "  # Quit R with error status\n",
       "  q(status = 1)\n",
       "})()\n",
       "\n",
       "$example.ask\n",
       "[1] \"default\"\n",
       "\n",
       "$expressions\n",
       "[1] 5000\n",
       "\n",
       "$fansi.css\n",
       "[1] \"PRE.fansi SPAN {padding-top: .25em; padding-bottom: .25em};\"\n",
       "\n",
       "$fansi.ctrl\n",
       "[1] \"all\"\n",
       "\n",
       "$fansi.tab.stops\n",
       "[1] 8\n",
       "\n",
       "$fansi.tabs.as.spaces\n",
       "[1] FALSE\n",
       "\n",
       "$fansi.term.cap\n",
       "[1] \"bright\" \"256\"   \n",
       "\n",
       "$fansi.warn\n",
       "[1] TRUE\n",
       "\n",
       "$help.search.types\n",
       "[1] \"vignette\" \"demo\"     \"help\"    \n",
       "\n",
       "$help.try.all.packages\n",
       "[1] FALSE\n",
       "\n",
       "$HTTPUserAgent\n",
       "[1] \"R (4.0.3 x86_64-apple-darwin19.6.0 x86_64 darwin19.6.0)\"\n",
       "\n",
       "$internet.info\n",
       "[1] 2\n",
       "\n",
       "$jupyter.base_display_func\n",
       "Class method definition for method display_data()\n",
       "function (data, metadata = NULL) \n",
       "{\n",
       "    if (is.null(metadata)) {\n",
       "        metadata <- namedlist()\n",
       "    }\n",
       "    send_response(\"display_data\", current_request, \"iopub\", list(data = data, \n",
       "        metadata = metadata))\n",
       "    invisible(TRUE)\n",
       "}\n",
       "<environment: 0x7f7fab84e408>\n",
       "\n",
       "$jupyter.display_mimetypes\n",
       " [1] \"text/plain\"                       \"text/html\"                       \n",
       " [3] \"text/markdown\"                    \"text/latex\"                      \n",
       " [5] \"application/json\"                 \"application/javascript\"          \n",
       " [7] \"application/geo+json\"             \"application/vdom.v1+json\"        \n",
       " [9] \"application/vnd.plotly.v1+json\"   \"application/vnd.vegalite.v2+json\"\n",
       "[11] \"application/vnd.vega.v4+json\"     \"application/pdf\"                 \n",
       "[13] \"image/png\"                        \"image/jpeg\"                      \n",
       "[15] \"image/svg+xml\"                   \n",
       "\n",
       "$jupyter.in_kernel\n",
       "[1] TRUE\n",
       "\n",
       "$jupyter.log_level\n",
       "[1] 1\n",
       "\n",
       "$jupyter.logfile\n",
       "[1] NA\n",
       "\n",
       "$jupyter.pager_classes\n",
       "[1] \"packageIQR\"            \"help_files_with_topic\"\n",
       "\n",
       "$jupyter.plot_mimetypes\n",
       "[1] \"text/plain\" \"image/png\" \n",
       "\n",
       "$jupyter.plot_scale\n",
       "[1] 2\n",
       "\n",
       "$jupyter.rich_display\n",
       "[1] TRUE\n",
       "\n",
       "$keep.parse.data\n",
       "[1] TRUE\n",
       "\n",
       "$keep.parse.data.pkgs\n",
       "[1] FALSE\n",
       "\n",
       "$keep.source\n",
       "[1] FALSE\n",
       "\n",
       "$keep.source.pkgs\n",
       "[1] FALSE\n",
       "\n",
       "$locatorBell\n",
       "[1] TRUE\n",
       "\n",
       "$mailer\n",
       "[1] \"mailto\"\n",
       "\n",
       "$matprod\n",
       "[1] \"default\"\n",
       "\n",
       "$max.print\n",
       "[1] 99999\n",
       "\n",
       "$menu.graphics\n",
       "[1] TRUE\n",
       "\n",
       "$na.action\n",
       "[1] \"na.omit\"\n",
       "\n",
       "$nwarnings\n",
       "[1] 50\n",
       "\n",
       "$OutDec\n",
       "[1] \".\"\n",
       "\n",
       "$pager\n",
       "function (files, header, title, delete.file) \n",
       "{\n",
       "    text <- title\n",
       "    for (path in files) {\n",
       "        text <- c(text, header, readLines(path))\n",
       "    }\n",
       "    if (delete.file) \n",
       "        file.remove(files)\n",
       "    data <- list(`text/plain` = paste(text, collapse = \"\\n\"))\n",
       "    page(list(data = data, metadata = namedlist()))\n",
       "}\n",
       "<environment: 0x7f7fab937658>\n",
       "\n",
       "$papersize\n",
       "[1] \"a4\"\n",
       "\n",
       "$PCRE_limit_recursion\n",
       "[1] NA\n",
       "\n",
       "$PCRE_study\n",
       "[1] FALSE\n",
       "\n",
       "$PCRE_use_JIT\n",
       "[1] TRUE\n",
       "\n",
       "$pdfviewer\n",
       "[1] \"/usr/bin/open\"\n",
       "\n",
       "$pkgType\n",
       "[1] \"source\"\n",
       "\n",
       "$printcmd\n",
       "[1] \"lpr\"\n",
       "\n",
       "$prompt\n",
       "[1] \"> \"\n",
       "\n",
       "$repos\n",
       "                        CRAN \n",
       "\"https://cran.r-project.org\" \n",
       "attr(,\"irkernel\")\n",
       "[1] TRUE\n",
       "\n",
       "$repr.function.highlight\n",
       "[1] FALSE\n",
       "\n",
       "$repr.html.deduplicate\n",
       "[1] FALSE\n",
       "\n",
       "$repr.matrix.latex.colspec\n",
       "$repr.matrix.latex.colspec$row_head\n",
       "[1] \"r|\"\n",
       "\n",
       "$repr.matrix.latex.colspec$col\n",
       "[1] \"l\"\n",
       "\n",
       "$repr.matrix.latex.colspec$end\n",
       "[1] \"\"\n",
       "\n",
       "\n",
       "$repr.matrix.max.cols\n",
       "[1] 20\n",
       "\n",
       "$repr.matrix.max.rows\n",
       "[1] 60\n",
       "\n",
       "$repr.plot.antialias\n",
       "[1] \"gray\"\n",
       "\n",
       "$repr.plot.bg\n",
       "[1] \"white\"\n",
       "\n",
       "$repr.plot.family\n",
       "[1] \"sans\"\n",
       "\n",
       "$repr.plot.height\n",
       "[1] 7\n",
       "\n",
       "$repr.plot.pointsize\n",
       "[1] 12\n",
       "\n",
       "$repr.plot.quality\n",
       "[1] 90\n",
       "\n",
       "$repr.plot.res\n",
       "[1] 120\n",
       "\n",
       "$repr.plot.width\n",
       "[1] 7\n",
       "\n",
       "$repr.vector.max.items\n",
       "[1] 400\n",
       "\n",
       "$repr.vector.quote\n",
       "[1] TRUE\n",
       "\n",
       "$rl_word_breaks\n",
       "[1] \" \\t\\n\\\"\\\\'`><=%;,|&{()}\"\n",
       "\n",
       "$scipen\n",
       "[1] 0\n",
       "\n",
       "$show.coef.Pvalues\n",
       "[1] TRUE\n",
       "\n",
       "$show.error.messages\n",
       "[1] TRUE\n",
       "\n",
       "$show.signif.stars\n",
       "[1] TRUE\n",
       "\n",
       "$showErrorCalls\n",
       "[1] TRUE\n",
       "\n",
       "$str\n",
       "$str$strict.width\n",
       "[1] \"no\"\n",
       "\n",
       "$str$digits.d\n",
       "[1] 3\n",
       "\n",
       "$str$vec.len\n",
       "[1] 4\n",
       "\n",
       "$str$list.len\n",
       "[1] 99\n",
       "\n",
       "$str$deparse.lines\n",
       "NULL\n",
       "\n",
       "$str$drop.deparse.attr\n",
       "[1] TRUE\n",
       "\n",
       "$str$formatNum\n",
       "function (x, ...) \n",
       "format(x, trim = TRUE, drop0trailing = TRUE, ...)\n",
       "<environment: 0x7f7fa66a31e8>\n",
       "\n",
       "\n",
       "$str.dendrogram.last\n",
       "[1] \"`\"\n",
       "\n",
       "$stringsAsFactors\n",
       "[1] FALSE\n",
       "\n",
       "$texi2dvi\n",
       "[1] \"/usr/bin/texi2dvi\"\n",
       "\n",
       "$timeout\n",
       "[1] 60\n",
       "\n",
       "$try.outFile\n",
       "A connection with                            \n",
       "description \"output\"        \n",
       "class       \"textConnection\"\n",
       "mode        \"wr\"            \n",
       "text        \"text\"          \n",
       "opened      \"opened\"        \n",
       "can read    \"no\"            \n",
       "can write   \"yes\"           \n",
       "\n",
       "$ts.eps\n",
       "[1] 1e-05\n",
       "\n",
       "$ts.S.compat\n",
       "[1] FALSE\n",
       "\n",
       "$unzip\n",
       "[1] \"/usr/bin/unzip\"\n",
       "\n",
       "$useFancyQuotes\n",
       "[1] TRUE\n",
       "\n",
       "$verbose\n",
       "[1] FALSE\n",
       "\n",
       "$warn\n",
       "[1] 0\n",
       "\n",
       "$warning.length\n",
       "[1] 1000\n",
       "\n",
       "$width\n",
       "[1] 80\n"
      ]
     },
     "metadata": {},
     "output_type": "display_data"
    }
   ],
   "source": [
    "options() # Get R options"
   ]
  },
  {
   "cell_type": "code",
   "execution_count": null,
   "metadata": {},
   "outputs": [],
   "source": []
  }
 ],
 "metadata": {
  "kernelspec": {
   "display_name": "R",
   "language": "R",
   "name": "ir"
  },
  "language_info": {
   "codemirror_mode": "r",
   "file_extension": ".r",
   "mimetype": "text/x-r-source",
   "name": "R",
   "pygments_lexer": "r",
   "version": "4.0.3"
  },
  "latex_envs": {
   "LaTeX_envs_menu_present": true,
   "autoclose": false,
   "autocomplete": true,
   "bibliofile": "biblio.bib",
   "cite_by": "apalike",
   "current_citInitial": 1,
   "eqLabelWithNumbers": true,
   "eqNumInitial": 1,
   "hotkeys": {
    "equation": "Ctrl-E",
    "itemize": "Ctrl-I"
   },
   "labels_anchors": false,
   "latex_user_defs": false,
   "report_style_numbering": false,
   "user_envs_cfg": false
  },
  "toc": {
   "base_numbering": 1,
   "nav_menu": {},
   "number_sections": true,
   "sideBar": true,
   "skip_h1_title": false,
   "title_cell": "Table of Contents",
   "title_sidebar": "Contents",
   "toc_cell": false,
   "toc_position": {},
   "toc_section_display": true,
   "toc_window_display": false
  },
  "varInspector": {
   "cols": {
    "lenName": 16,
    "lenType": 16,
    "lenVar": 40
   },
   "kernels_config": {
    "python": {
     "delete_cmd_postfix": "",
     "delete_cmd_prefix": "del ",
     "library": "var_list.py",
     "varRefreshCmd": "print(var_dic_list())"
    },
    "r": {
     "delete_cmd_postfix": ") ",
     "delete_cmd_prefix": "rm(",
     "library": "var_list.r",
     "varRefreshCmd": "cat(var_dic_list()) "
    }
   },
   "types_to_exclude": [
    "module",
    "function",
    "builtin_function_or_method",
    "instance",
    "_Feature"
   ],
   "window_display": false
  }
 },
 "nbformat": 4,
 "nbformat_minor": 1
}
