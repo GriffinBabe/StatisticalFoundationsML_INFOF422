{
 "cells": [
  {
   "cell_type": "markdown",
   "metadata": {},
   "source": [
    "# INFO-F-422 -  Statistical Foundations of Machine Learning \n",
    "\n",
    "### Jacopo De Stefani - __[Jacopo.De.Stefani@ulb.ac.be](mailto:Jacopo.De.Stefani@ulb.ac.be)__\n",
    "### Théo Verhelst - __[Theo.Verhelst@ulb.ac.be](mailto:Theo.Verhelst@ulb.ac.be)__\n",
    "### Gianluca Bontempi - __[gbonte@ulb.ac.be](mailto:gbonte@ulb.ac.be)__\n",
    "\n",
    "## TP 3 - Predictions: Tree-based methods\n",
    "\n",
    "####  March 23, 2021\n",
    "\n",
    "#### Materials originally developed by *Bertrand Lebichot, Jacopo De Stefani and Gianluca Bontempi*"
   ]
  },
  {
   "cell_type": "markdown",
   "metadata": {},
   "source": [
    "## Preliminaries\n",
    "\n",
    "### Supervised learning\n",
    "\n",
    "The process of supervised learning involves the presence of an entity (the learner, also called prediction model), whose goal is to learn the mapping between inputs and outputs in a given problem.\n",
    "\n",
    "A supervised learning problem can formulated as follows:\n",
    "\n",
    "\\begin{equation*}\n",
    " y = m(\\mathbf{x})  \n",
    "\\end{equation*}\n",
    "\n",
    "where:\n",
    "- $y$ represents the output variable (also called target)\n",
    "- $\\mathbf{x}$ represents the vector of inputs (also called features).\n",
    "- $m$ is the (unknown) mapping between input and outputs.\n",
    "\n",
    "In the majority of the supervised learning problems, the mapping $m$ between input and outputs is unknown and needs to be estimated on basis of the available input/output observation pairs $(\\mathbf{x}_i,y_i)$.\n",
    "\n",
    "## Classification vs regression\n",
    "\n",
    "Both classification and regression are sub-fields of *supervised learning*. In the two cases, we have predictive variables $\\mathbf{x}$ and a target variable $y$. \n",
    "The main difference betweet the two type of problems is the type of the target variabile:\n",
    "\n",
    "- In classification, $y$ is a discrete variable; i.e $y \\in \\{C_1,\\cdots,C_k\\}$\n",
    "- In regression, $y$ is a continuous variable; i.e $y \\in \\mathbb{R}$\n",
    "\n",
    "In this practical, in order to better understand the classification process, we will tackle the simplest classification case, with $k=2$ possible output classes (called binary classification).\n",
    "\n",
    "The goal of our approach is to be able to learn the mapping between the input features and the predefined discrete output classes, in order to be able to perform an automatic classification, based on the available data. \n",
    "\n",
    "Let's illustrate the problem with a simple example :\n",
    "* Knowing the two abstract features $X_1$ and $X_2$, and $n=6$ samples for both class (the red class and the blue class), can you predict the label for the green sample ?\n"
   ]
  },
  {
   "cell_type": "code",
   "execution_count": 1,
   "metadata": {},
   "outputs": [
    {
     "data": {
      "image/png": "[encoded data removed]",
      "text/plain": [
       "Plot with title \"Scatterplot and decision boundary\""
      ]
     },
     "metadata": {
      "image/png": {
       "height": 420,
       "width": 420
      }
     },
     "output_type": "display_data"
    }
   ],
   "source": [
    "#options(repr.plot.width=20, repr.plot.height=10)\n",
    "n = 6\n",
    "\n",
    "# blue class data\n",
    "X1 = rnorm(n, mean = +2, sd = 1)\n",
    "X2 = rnorm(n, mean = +1, sd = 1)\n",
    "SamplesBLUE = data.frame(X1, X2)\n",
    "gBLUE = c(mean(X1),mean(X2))\n",
    "\n",
    "# red class data\n",
    "X1 = rnorm(n, mean = -2, sd = 1)\n",
    "X2 = rnorm(n, mean = -1, sd = 1)\n",
    "SamplesRED = data.frame(X1, X2)\n",
    "gRED = c(mean(X1),mean(X2))\n",
    "\n",
    "# draw scatterplot\n",
    "plot(SamplesBLUE$X1,SamplesBLUE$X2,col=\"blue\",main=\"Scatterplot and decision boundary\",xlab=\"X1\",ylab=\"X2\",xlim=c(-5,5),ylim=c(-5,5))\n",
    "points(SamplesRED$X1,SamplesRED$X2,col=\"red\")\n",
    "points(0,0,col=\"green\")\n",
    "\n",
    "# draw centroid of classes\n",
    "points(gBLUE[1],gBLUE[2],col=\"blue\",pch = 4)\n",
    "points(gRED[1],gRED[2],col=\"red\",pch = 4)\n",
    "\n",
    "# draw decision boundary\n",
    "midgg = c(gRED[1]+abs(gBLUE[1]-gRED[1])/2,gRED[2]+abs(gBLUE[2]-gRED[2])/2)\n",
    "slope = -(gBLUE[1]-gRED[1])/(gBLUE[2]-gRED[2])\n",
    "abline(a=midgg[2]-slope*midgg[1],b=slope)\n"
   ]
  },
  {
   "cell_type": "markdown",
   "metadata": {},
   "source": [
    "## Classification metrics\n",
    "\n",
    "### Confusion Matrix \n",
    "\n",
    "A confusion matrix $\\mathbf{C}$ is a $k \\times k$ matrix containing the classifications statistics of a given classifier.\n",
    "$c_{ij}$ containes the number of times that a sample belonging to the actual class $j$ has been predicted as belonging to class $i$.\n",
    "\n",
    "In our two-class setting, the confusion matrix (reporting the number of actual class / predicted class) has four entries:\n",
    " \n",
    "|            | Actual Negative   | Actual Positive  |\n",
    "|:----------:|-------------------|-----------------|\n",
    "|**Classified Negative** | $T_N$ (True Negative) | $F_N$ (False Negative)| \n",
    "|**Classified Positive** | $F_P$ (False Positive) | $T_P$ (True Positive) |\n",
    "\n",
    "Ideally, if the classifier didn't make any mistake, the confusion matrix $\\mathbf{C}$ should be diagonal.\n",
    "By looking at the off-diagonal elements, we can understand which kind of mistakes the classifier is making (e.g. Actual Negative -> Predicted Positive, Actual Positive -> Predicted Negative).\n",
    "\n",
    "Additionally, the confusion matrix allows to compute the total number of elements classified negative $\\hat{N_N}$, classified positive $\\hat{N_P}$, actual negative $N_N$, actual positive $N_P$, as well as the total number of samples $N$.\n",
    "\n",
    "\\begin{align*}\n",
    "\\hat{N_N} = T_N + F_N & & & \\hat{N_P} = T_P + F_P \\\\ \n",
    "N_N = T_N + F_P & & & N_P = T_P + F_N \\\\\n",
    "\\end{align*}\n",
    "\n",
    "\\begin{equation}\n",
    "N = T_N + F_N + T_P + F_P \n",
    "\\end{equation}\n",
    "\n",
    "The quantities in the confusion matrix are used to define different accuracy measures, such as:\n",
    "\n",
    "#### Accuracy\n",
    "\n",
    "\\begin{equation}\n",
    "A = \\frac{T_P + T_N}{N} = \\frac{T_P + T_N}{F_P + F_N + T_P + T_N} \n",
    "\\end{equation}\n",
    "\n",
    "The accuracy represents the ratio between the number of correctly classified samples (False ...) and the total number of samples.\n",
    "\n",
    "#### Misclassification Rate\n",
    "\n",
    "\\begin{equation}\n",
    "ER = \\frac{F_P + F_N}{N} = \\frac{F_P + F_N}{F_P + F_N + T_P + T_N} \n",
    "\\end{equation}\n",
    "\n",
    "The misclassification rate represents the number of total classification mistakes (False ...) over the total number of samples.\n",
    "It can be shown that ER=1-A.\n",
    "\n",
    "#### Balanced Error Rate\n",
    "\\begin{equation}\n",
    "BER = \\frac{1}{2}(\\frac{F_P}{N_N} + \\frac{F_N}{N_P}) = \\frac{1}{2}(\\frac{F_P}{T_N + F_P} + \\frac{F_N}{T_P + F_N}) \n",
    "\\end{equation}\n",
    "\n",
    "The balanced error rate is computed as an average of the error for each classes.\n",
    "For unbalanced classification problems (i.e. $N_N \\neq N_P$ the total number of samples belonging to the negative and positive classes is different).\n",
    "\n",
    "#### Sensitivity and specificity\n",
    "\\begin{align}\n",
    "SE = \\frac{T_P}{N_P} = \\frac{T_P}{T_P + F_N} & & & 0 \\leq SE \\leq 1 \n",
    "\\end{align}\n",
    "\n",
    "The sensitivity (also called recall) is a measure defined as the ratio between the correctly classified positive samples over the total number of positive samples (i.e True Positive rate). It measures the impact of false negatives on the classification process.\n",
    "\n",
    "\\begin{align}\n",
    "SP = \\frac{T_N}{N_N} = \\frac{T_N}{F_P + T_N}  & & & 0 \\leq SP \\leq 1\n",
    "\\end{align}\n",
    "\n",
    "The specificity is a measure defined as the ratio between the correctly classified negative samples over the total number of negative samples (i.e True Negative rate). It measures the impact of false positive on the classification process.\n",
    "\n",
    "The need for different accuracy measures arises from the fact that the impact of a certain type of error (e.g. Actual Negative -> Predicted Positive, Actual Positive -> Predicted Negative) might be greatly different, according to the context in which the classification problem is performed (for example medical diagnosis, fraud detection).\n"
   ]
  },
  {
   "cell_type": "markdown",
   "metadata": {},
   "source": [
    "## Dataset\n",
    "\n",
    "The chosen database is about spam detection. Details can be found here :\n",
    "https://archive.ics.uci.edu/ml/datasets/spambase\n",
    "\n",
    "To import the dataset, just use package ''kernlab''\n",
    "\n",
    "`install.packages(\"kernlab\")`\n",
    "\n",
    "In case of doubts, always remember that R can provide you with the documentation of a function package/using the following syntax:\n",
    "`? name_of_function` or `help(name_of_function)` "
   ]
  },
  {
   "cell_type": "code",
   "execution_count": 2,
   "metadata": {},
   "outputs": [
    {
     "name": "stderr",
     "output_type": "stream",
     "text": [
      "Warning message:\n",
      "\"package 'tree' was built under R version 4.0.4\"\n",
      "Warning message:\n",
      "\"package 'rpart' was built under R version 4.0.4\"\n"
     ]
    }
   ],
   "source": [
    "library(\"kernlab\")\n",
    "library(\"tree\")\n",
    "library(\"rpart\")\n",
    "data(spam)"
   ]
  },
  {
   "cell_type": "markdown",
   "metadata": {},
   "source": [
    "## Exercise 0 - Exploratory Data Anaylsis \n",
    "\n",
    "You first have to explore the dataset before going to classification. This step can be long but is actually very important. In particular, obtain or observe the following interesting elements :\n",
    "* Number of rows and columns\n",
    "* Is there any missing values ?\n",
    "* Spam prior\n",
    "* Name and basic statistics for each variables\n",
    "* Histogram (or other relevant plot) per class (spam vs non-spam)\n",
    "\n",
    "### Number of rows and columns"
   ]
  },
  {
   "cell_type": "code",
   "execution_count": 3,
   "metadata": {},
   "outputs": [
    {
     "data": {
      "text/html": [
       "<style>\n",
       ".list-inline {list-style: none; margin:0; padding: 0}\n",
       ".list-inline>li {display: inline-block}\n",
       ".list-inline>li:not(:last-child)::after {content: \"\\00b7\"; padding: 0 .5ex}\n",
       "</style>\n",
       "<ol class=list-inline><li>4601</li><li>58</li></ol>\n"
      ],
      "text/latex": [
       "\\begin{enumerate*}\n",
       "\\item 4601\n",
       "\\item 58\n",
       "\\end{enumerate*}\n"
      ],
      "text/markdown": [
       "1. 4601\n",
       "2. 58\n",
       "\n",
       "\n"
      ],
      "text/plain": [
       "[1] 4601   58"
      ]
     },
     "metadata": {},
     "output_type": "display_data"
    }
   ],
   "source": [
    "dim(spam)"
   ]
  },
  {
   "cell_type": "markdown",
   "metadata": {},
   "source": [
    "### Presence of missing values"
   ]
  },
  {
   "cell_type": "code",
   "execution_count": 4,
   "metadata": {},
   "outputs": [
    {
     "data": {
      "text/html": [
       "<style>\n",
       ".list-inline {list-style: none; margin:0; padding: 0}\n",
       ".list-inline>li {display: inline-block}\n",
       ".list-inline>li:not(:last-child)::after {content: \"\\00b7\"; padding: 0 .5ex}\n",
       "</style>\n",
       "<ol class=list-inline><li>4601</li><li>58</li></ol>\n"
      ],
      "text/latex": [
       "\\begin{enumerate*}\n",
       "\\item 4601\n",
       "\\item 58\n",
       "\\end{enumerate*}\n"
      ],
      "text/markdown": [
       "1. 4601\n",
       "2. 58\n",
       "\n",
       "\n"
      ],
      "text/plain": [
       "[1] 4601   58"
      ]
     },
     "metadata": {},
     "output_type": "display_data"
    }
   ],
   "source": [
    "# No missing values -> dim(na.omit(dataset)) == dim(dataset)\n",
    "dim(na.omit(spam))"
   ]
  },
  {
   "cell_type": "code",
   "execution_count": 5,
   "metadata": {},
   "outputs": [
    {
     "data": {
      "text/html": [
       "<style>\n",
       ".dl-inline {width: auto; margin:0; padding: 0}\n",
       ".dl-inline>dt, .dl-inline>dd {float: none; width: auto; display: inline-block}\n",
       ".dl-inline>dt::after {content: \":\\0020\"; padding-right: .5ex}\n",
       ".dl-inline>dt:not(:first-of-type) {padding-left: .5ex}\n",
       "</style><dl class=dl-inline><dt>make</dt><dd>FALSE</dd><dt>address</dt><dd>FALSE</dd><dt>all</dt><dd>FALSE</dd><dt>num3d</dt><dd>FALSE</dd><dt>our</dt><dd>FALSE</dd><dt>over</dt><dd>FALSE</dd><dt>remove</dt><dd>FALSE</dd><dt>internet</dt><dd>FALSE</dd><dt>order</dt><dd>FALSE</dd><dt>mail</dt><dd>FALSE</dd><dt>receive</dt><dd>FALSE</dd><dt>will</dt><dd>FALSE</dd><dt>people</dt><dd>FALSE</dd><dt>report</dt><dd>FALSE</dd><dt>addresses</dt><dd>FALSE</dd><dt>free</dt><dd>FALSE</dd><dt>business</dt><dd>FALSE</dd><dt>email</dt><dd>FALSE</dd><dt>you</dt><dd>FALSE</dd><dt>credit</dt><dd>FALSE</dd><dt>your</dt><dd>FALSE</dd><dt>font</dt><dd>FALSE</dd><dt>num000</dt><dd>FALSE</dd><dt>money</dt><dd>FALSE</dd><dt>hp</dt><dd>FALSE</dd><dt>hpl</dt><dd>FALSE</dd><dt>george</dt><dd>FALSE</dd><dt>num650</dt><dd>FALSE</dd><dt>lab</dt><dd>FALSE</dd><dt>labs</dt><dd>FALSE</dd><dt>telnet</dt><dd>FALSE</dd><dt>num857</dt><dd>FALSE</dd><dt>data</dt><dd>FALSE</dd><dt>num415</dt><dd>FALSE</dd><dt>num85</dt><dd>FALSE</dd><dt>technology</dt><dd>FALSE</dd><dt>num1999</dt><dd>FALSE</dd><dt>parts</dt><dd>FALSE</dd><dt>pm</dt><dd>FALSE</dd><dt>direct</dt><dd>FALSE</dd><dt>cs</dt><dd>FALSE</dd><dt>meeting</dt><dd>FALSE</dd><dt>original</dt><dd>FALSE</dd><dt>project</dt><dd>FALSE</dd><dt>re</dt><dd>FALSE</dd><dt>edu</dt><dd>FALSE</dd><dt>table</dt><dd>FALSE</dd><dt>conference</dt><dd>FALSE</dd><dt>charSemicolon</dt><dd>FALSE</dd><dt>charRoundbracket</dt><dd>FALSE</dd><dt>charSquarebracket</dt><dd>FALSE</dd><dt>charExclamation</dt><dd>FALSE</dd><dt>charDollar</dt><dd>FALSE</dd><dt>charHash</dt><dd>FALSE</dd><dt>capitalAve</dt><dd>FALSE</dd><dt>capitalLong</dt><dd>FALSE</dd><dt>capitalTotal</dt><dd>FALSE</dd><dt>type</dt><dd>FALSE</dd></dl>\n"
      ],
      "text/latex": [
       "\\begin{description*}\n",
       "\\item[make] FALSE\n",
       "\\item[address] FALSE\n",
       "\\item[all] FALSE\n",
       "\\item[num3d] FALSE\n",
       "\\item[our] FALSE\n",
       "\\item[over] FALSE\n",
       "\\item[remove] FALSE\n",
       "\\item[internet] FALSE\n",
       "\\item[order] FALSE\n",
       "\\item[mail] FALSE\n",
       "\\item[receive] FALSE\n",
       "\\item[will] FALSE\n",
       "\\item[people] FALSE\n",
       "\\item[report] FALSE\n",
       "\\item[addresses] FALSE\n",
       "\\item[free] FALSE\n",
       "\\item[business] FALSE\n",
       "\\item[email] FALSE\n",
       "\\item[you] FALSE\n",
       "\\item[credit] FALSE\n",
       "\\item[your] FALSE\n",
       "\\item[font] FALSE\n",
       "\\item[num000] FALSE\n",
       "\\item[money] FALSE\n",
       "\\item[hp] FALSE\n",
       "\\item[hpl] FALSE\n",
       "\\item[george] FALSE\n",
       "\\item[num650] FALSE\n",
       "\\item[lab] FALSE\n",
       "\\item[labs] FALSE\n",
       "\\item[telnet] FALSE\n",
       "\\item[num857] FALSE\n",
       "\\item[data] FALSE\n",
       "\\item[num415] FALSE\n",
       "\\item[num85] FALSE\n",
       "\\item[technology] FALSE\n",
       "\\item[num1999] FALSE\n",
       "\\item[parts] FALSE\n",
       "\\item[pm] FALSE\n",
       "\\item[direct] FALSE\n",
       "\\item[cs] FALSE\n",
       "\\item[meeting] FALSE\n",
       "\\item[original] FALSE\n",
       "\\item[project] FALSE\n",
       "\\item[re] FALSE\n",
       "\\item[edu] FALSE\n",
       "\\item[table] FALSE\n",
       "\\item[conference] FALSE\n",
       "\\item[charSemicolon] FALSE\n",
       "\\item[charRoundbracket] FALSE\n",
       "\\item[charSquarebracket] FALSE\n",
       "\\item[charExclamation] FALSE\n",
       "\\item[charDollar] FALSE\n",
       "\\item[charHash] FALSE\n",
       "\\item[capitalAve] FALSE\n",
       "\\item[capitalLong] FALSE\n",
       "\\item[capitalTotal] FALSE\n",
       "\\item[type] FALSE\n",
       "\\end{description*}\n"
      ],
      "text/markdown": [
       "make\n",
       ":   FALSEaddress\n",
       ":   FALSEall\n",
       ":   FALSEnum3d\n",
       ":   FALSEour\n",
       ":   FALSEover\n",
       ":   FALSEremove\n",
       ":   FALSEinternet\n",
       ":   FALSEorder\n",
       ":   FALSEmail\n",
       ":   FALSEreceive\n",
       ":   FALSEwill\n",
       ":   FALSEpeople\n",
       ":   FALSEreport\n",
       ":   FALSEaddresses\n",
       ":   FALSEfree\n",
       ":   FALSEbusiness\n",
       ":   FALSEemail\n",
       ":   FALSEyou\n",
       ":   FALSEcredit\n",
       ":   FALSEyour\n",
       ":   FALSEfont\n",
       ":   FALSEnum000\n",
       ":   FALSEmoney\n",
       ":   FALSEhp\n",
       ":   FALSEhpl\n",
       ":   FALSEgeorge\n",
       ":   FALSEnum650\n",
       ":   FALSElab\n",
       ":   FALSElabs\n",
       ":   FALSEtelnet\n",
       ":   FALSEnum857\n",
       ":   FALSEdata\n",
       ":   FALSEnum415\n",
       ":   FALSEnum85\n",
       ":   FALSEtechnology\n",
       ":   FALSEnum1999\n",
       ":   FALSEparts\n",
       ":   FALSEpm\n",
       ":   FALSEdirect\n",
       ":   FALSEcs\n",
       ":   FALSEmeeting\n",
       ":   FALSEoriginal\n",
       ":   FALSEproject\n",
       ":   FALSEre\n",
       ":   FALSEedu\n",
       ":   FALSEtable\n",
       ":   FALSEconference\n",
       ":   FALSEcharSemicolon\n",
       ":   FALSEcharRoundbracket\n",
       ":   FALSEcharSquarebracket\n",
       ":   FALSEcharExclamation\n",
       ":   FALSEcharDollar\n",
       ":   FALSEcharHash\n",
       ":   FALSEcapitalAve\n",
       ":   FALSEcapitalLong\n",
       ":   FALSEcapitalTotal\n",
       ":   FALSEtype\n",
       ":   FALSE\n",
       "\n"
      ],
      "text/plain": [
       "             make           address               all             num3d \n",
       "            FALSE             FALSE             FALSE             FALSE \n",
       "              our              over            remove          internet \n",
       "            FALSE             FALSE             FALSE             FALSE \n",
       "            order              mail           receive              will \n",
       "            FALSE             FALSE             FALSE             FALSE \n",
       "           people            report         addresses              free \n",
       "            FALSE             FALSE             FALSE             FALSE \n",
       "         business             email               you            credit \n",
       "            FALSE             FALSE             FALSE             FALSE \n",
       "             your              font            num000             money \n",
       "            FALSE             FALSE             FALSE             FALSE \n",
       "               hp               hpl            george            num650 \n",
       "            FALSE             FALSE             FALSE             FALSE \n",
       "              lab              labs            telnet            num857 \n",
       "            FALSE             FALSE             FALSE             FALSE \n",
       "             data            num415             num85        technology \n",
       "            FALSE             FALSE             FALSE             FALSE \n",
       "          num1999             parts                pm            direct \n",
       "            FALSE             FALSE             FALSE             FALSE \n",
       "               cs           meeting          original           project \n",
       "            FALSE             FALSE             FALSE             FALSE \n",
       "               re               edu             table        conference \n",
       "            FALSE             FALSE             FALSE             FALSE \n",
       "    charSemicolon  charRoundbracket charSquarebracket   charExclamation \n",
       "            FALSE             FALSE             FALSE             FALSE \n",
       "       charDollar          charHash        capitalAve       capitalLong \n",
       "            FALSE             FALSE             FALSE             FALSE \n",
       "     capitalTotal              type \n",
       "            FALSE             FALSE "
      ]
     },
     "metadata": {},
     "output_type": "display_data"
    }
   ],
   "source": [
    "# 2nd Check\n",
    "apply(is.na(spam),2,any)"
   ]
  },
  {
   "cell_type": "markdown",
   "metadata": {},
   "source": [
    "### Structure of the dataset"
   ]
  },
  {
   "cell_type": "code",
   "execution_count": 6,
   "metadata": {},
   "outputs": [
    {
     "data": {
      "text/html": [
       "<table class=\"dataframe\">\n",
       "<caption>A data.frame: 6 × 58</caption>\n",
       "<thead>\n",
       "\t<tr><th></th><th scope=col>make</th><th scope=col>address</th><th scope=col>all</th><th scope=col>num3d</th><th scope=col>our</th><th scope=col>over</th><th scope=col>remove</th><th scope=col>internet</th><th scope=col>order</th><th scope=col>mail</th><th scope=col>...</th><th scope=col>charSemicolon</th><th scope=col>charRoundbracket</th><th scope=col>charSquarebracket</th><th scope=col>charExclamation</th><th scope=col>charDollar</th><th scope=col>charHash</th><th scope=col>capitalAve</th><th scope=col>capitalLong</th><th scope=col>capitalTotal</th><th scope=col>type</th></tr>\n",
       "\t<tr><th></th><th scope=col>&lt;dbl&gt;</th><th scope=col>&lt;dbl&gt;</th><th scope=col>&lt;dbl&gt;</th><th scope=col>&lt;dbl&gt;</th><th scope=col>&lt;dbl&gt;</th><th scope=col>&lt;dbl&gt;</th><th scope=col>&lt;dbl&gt;</th><th scope=col>&lt;dbl&gt;</th><th scope=col>&lt;dbl&gt;</th><th scope=col>&lt;dbl&gt;</th><th scope=col>...</th><th scope=col>&lt;dbl&gt;</th><th scope=col>&lt;dbl&gt;</th><th scope=col>&lt;dbl&gt;</th><th scope=col>&lt;dbl&gt;</th><th scope=col>&lt;dbl&gt;</th><th scope=col>&lt;dbl&gt;</th><th scope=col>&lt;dbl&gt;</th><th scope=col>&lt;dbl&gt;</th><th scope=col>&lt;dbl&gt;</th><th scope=col>&lt;fct&gt;</th></tr>\n",
       "</thead>\n",
       "<tbody>\n",
       "\t<tr><th scope=row>1</th><td>0.00</td><td>0.64</td><td>0.64</td><td>0</td><td>0.32</td><td>0.00</td><td>0.00</td><td>0.00</td><td>0.00</td><td>0.00</td><td>...</td><td>0.00</td><td>0.000</td><td>0</td><td>0.778</td><td>0.000</td><td>0.000</td><td>3.756</td><td> 61</td><td> 278</td><td>spam</td></tr>\n",
       "\t<tr><th scope=row>2</th><td>0.21</td><td>0.28</td><td>0.50</td><td>0</td><td>0.14</td><td>0.28</td><td>0.21</td><td>0.07</td><td>0.00</td><td>0.94</td><td>...</td><td>0.00</td><td>0.132</td><td>0</td><td>0.372</td><td>0.180</td><td>0.048</td><td>5.114</td><td>101</td><td>1028</td><td>spam</td></tr>\n",
       "\t<tr><th scope=row>3</th><td>0.06</td><td>0.00</td><td>0.71</td><td>0</td><td>1.23</td><td>0.19</td><td>0.19</td><td>0.12</td><td>0.64</td><td>0.25</td><td>...</td><td>0.01</td><td>0.143</td><td>0</td><td>0.276</td><td>0.184</td><td>0.010</td><td>9.821</td><td>485</td><td>2259</td><td>spam</td></tr>\n",
       "\t<tr><th scope=row>4</th><td>0.00</td><td>0.00</td><td>0.00</td><td>0</td><td>0.63</td><td>0.00</td><td>0.31</td><td>0.63</td><td>0.31</td><td>0.63</td><td>...</td><td>0.00</td><td>0.137</td><td>0</td><td>0.137</td><td>0.000</td><td>0.000</td><td>3.537</td><td> 40</td><td> 191</td><td>spam</td></tr>\n",
       "\t<tr><th scope=row>5</th><td>0.00</td><td>0.00</td><td>0.00</td><td>0</td><td>0.63</td><td>0.00</td><td>0.31</td><td>0.63</td><td>0.31</td><td>0.63</td><td>...</td><td>0.00</td><td>0.135</td><td>0</td><td>0.135</td><td>0.000</td><td>0.000</td><td>3.537</td><td> 40</td><td> 191</td><td>spam</td></tr>\n",
       "\t<tr><th scope=row>6</th><td>0.00</td><td>0.00</td><td>0.00</td><td>0</td><td>1.85</td><td>0.00</td><td>0.00</td><td>1.85</td><td>0.00</td><td>0.00</td><td>...</td><td>0.00</td><td>0.223</td><td>0</td><td>0.000</td><td>0.000</td><td>0.000</td><td>3.000</td><td> 15</td><td>  54</td><td>spam</td></tr>\n",
       "</tbody>\n",
       "</table>\n"
      ],
      "text/latex": [
       "A data.frame: 6 × 58\n",
       "\\begin{tabular}{r|lllllllllllllllllllll}\n",
       "  & make & address & all & num3d & our & over & remove & internet & order & mail & ... & charSemicolon & charRoundbracket & charSquarebracket & charExclamation & charDollar & charHash & capitalAve & capitalLong & capitalTotal & type\\\\\n",
       "  & <dbl> & <dbl> & <dbl> & <dbl> & <dbl> & <dbl> & <dbl> & <dbl> & <dbl> & <dbl> & ... & <dbl> & <dbl> & <dbl> & <dbl> & <dbl> & <dbl> & <dbl> & <dbl> & <dbl> & <fct>\\\\\n",
       "\\hline\n",
       "\t1 & 0.00 & 0.64 & 0.64 & 0 & 0.32 & 0.00 & 0.00 & 0.00 & 0.00 & 0.00 & ... & 0.00 & 0.000 & 0 & 0.778 & 0.000 & 0.000 & 3.756 &  61 &  278 & spam\\\\\n",
       "\t2 & 0.21 & 0.28 & 0.50 & 0 & 0.14 & 0.28 & 0.21 & 0.07 & 0.00 & 0.94 & ... & 0.00 & 0.132 & 0 & 0.372 & 0.180 & 0.048 & 5.114 & 101 & 1028 & spam\\\\\n",
       "\t3 & 0.06 & 0.00 & 0.71 & 0 & 1.23 & 0.19 & 0.19 & 0.12 & 0.64 & 0.25 & ... & 0.01 & 0.143 & 0 & 0.276 & 0.184 & 0.010 & 9.821 & 485 & 2259 & spam\\\\\n",
       "\t4 & 0.00 & 0.00 & 0.00 & 0 & 0.63 & 0.00 & 0.31 & 0.63 & 0.31 & 0.63 & ... & 0.00 & 0.137 & 0 & 0.137 & 0.000 & 0.000 & 3.537 &  40 &  191 & spam\\\\\n",
       "\t5 & 0.00 & 0.00 & 0.00 & 0 & 0.63 & 0.00 & 0.31 & 0.63 & 0.31 & 0.63 & ... & 0.00 & 0.135 & 0 & 0.135 & 0.000 & 0.000 & 3.537 &  40 &  191 & spam\\\\\n",
       "\t6 & 0.00 & 0.00 & 0.00 & 0 & 1.85 & 0.00 & 0.00 & 1.85 & 0.00 & 0.00 & ... & 0.00 & 0.223 & 0 & 0.000 & 0.000 & 0.000 & 3.000 &  15 &   54 & spam\\\\\n",
       "\\end{tabular}\n"
      ],
      "text/markdown": [
       "\n",
       "A data.frame: 6 × 58\n",
       "\n",
       "| <!--/--> | make &lt;dbl&gt; | address &lt;dbl&gt; | all &lt;dbl&gt; | num3d &lt;dbl&gt; | our &lt;dbl&gt; | over &lt;dbl&gt; | remove &lt;dbl&gt; | internet &lt;dbl&gt; | order &lt;dbl&gt; | mail &lt;dbl&gt; | ... ... | charSemicolon &lt;dbl&gt; | charRoundbracket &lt;dbl&gt; | charSquarebracket &lt;dbl&gt; | charExclamation &lt;dbl&gt; | charDollar &lt;dbl&gt; | charHash &lt;dbl&gt; | capitalAve &lt;dbl&gt; | capitalLong &lt;dbl&gt; | capitalTotal &lt;dbl&gt; | type &lt;fct&gt; |\n",
       "|---|---|---|---|---|---|---|---|---|---|---|---|---|---|---|---|---|---|---|---|---|---|\n",
       "| 1 | 0.00 | 0.64 | 0.64 | 0 | 0.32 | 0.00 | 0.00 | 0.00 | 0.00 | 0.00 | ... | 0.00 | 0.000 | 0 | 0.778 | 0.000 | 0.000 | 3.756 |  61 |  278 | spam |\n",
       "| 2 | 0.21 | 0.28 | 0.50 | 0 | 0.14 | 0.28 | 0.21 | 0.07 | 0.00 | 0.94 | ... | 0.00 | 0.132 | 0 | 0.372 | 0.180 | 0.048 | 5.114 | 101 | 1028 | spam |\n",
       "| 3 | 0.06 | 0.00 | 0.71 | 0 | 1.23 | 0.19 | 0.19 | 0.12 | 0.64 | 0.25 | ... | 0.01 | 0.143 | 0 | 0.276 | 0.184 | 0.010 | 9.821 | 485 | 2259 | spam |\n",
       "| 4 | 0.00 | 0.00 | 0.00 | 0 | 0.63 | 0.00 | 0.31 | 0.63 | 0.31 | 0.63 | ... | 0.00 | 0.137 | 0 | 0.137 | 0.000 | 0.000 | 3.537 |  40 |  191 | spam |\n",
       "| 5 | 0.00 | 0.00 | 0.00 | 0 | 0.63 | 0.00 | 0.31 | 0.63 | 0.31 | 0.63 | ... | 0.00 | 0.135 | 0 | 0.135 | 0.000 | 0.000 | 3.537 |  40 |  191 | spam |\n",
       "| 6 | 0.00 | 0.00 | 0.00 | 0 | 1.85 | 0.00 | 0.00 | 1.85 | 0.00 | 0.00 | ... | 0.00 | 0.223 | 0 | 0.000 | 0.000 | 0.000 | 3.000 |  15 |   54 | spam |\n",
       "\n"
      ],
      "text/plain": [
       "  make address all  num3d our  over remove internet order mail ...\n",
       "1 0.00 0.64    0.64 0     0.32 0.00 0.00   0.00     0.00  0.00 ...\n",
       "2 0.21 0.28    0.50 0     0.14 0.28 0.21   0.07     0.00  0.94 ...\n",
       "3 0.06 0.00    0.71 0     1.23 0.19 0.19   0.12     0.64  0.25 ...\n",
       "4 0.00 0.00    0.00 0     0.63 0.00 0.31   0.63     0.31  0.63 ...\n",
       "5 0.00 0.00    0.00 0     0.63 0.00 0.31   0.63     0.31  0.63 ...\n",
       "6 0.00 0.00    0.00 0     1.85 0.00 0.00   1.85     0.00  0.00 ...\n",
       "  charSemicolon charRoundbracket charSquarebracket charExclamation charDollar\n",
       "1 0.00          0.000            0                 0.778           0.000     \n",
       "2 0.00          0.132            0                 0.372           0.180     \n",
       "3 0.01          0.143            0                 0.276           0.184     \n",
       "4 0.00          0.137            0                 0.137           0.000     \n",
       "5 0.00          0.135            0                 0.135           0.000     \n",
       "6 0.00          0.223            0                 0.000           0.000     \n",
       "  charHash capitalAve capitalLong capitalTotal type\n",
       "1 0.000    3.756       61          278         spam\n",
       "2 0.048    5.114      101         1028         spam\n",
       "3 0.010    9.821      485         2259         spam\n",
       "4 0.000    3.537       40          191         spam\n",
       "5 0.000    3.537       40          191         spam\n",
       "6 0.000    3.000       15           54         spam"
      ]
     },
     "metadata": {},
     "output_type": "display_data"
    }
   ],
   "source": [
    "head(spam)"
   ]
  },
  {
   "cell_type": "code",
   "execution_count": 7,
   "metadata": {},
   "outputs": [
    {
     "data": {
      "text/plain": [
       "      make           address            all             num3d         \n",
       " Min.   :0.0000   Min.   : 0.000   Min.   :0.0000   Min.   : 0.00000  \n",
       " 1st Qu.:0.0000   1st Qu.: 0.000   1st Qu.:0.0000   1st Qu.: 0.00000  \n",
       " Median :0.0000   Median : 0.000   Median :0.0000   Median : 0.00000  \n",
       " Mean   :0.1046   Mean   : 0.213   Mean   :0.2807   Mean   : 0.06542  \n",
       " 3rd Qu.:0.0000   3rd Qu.: 0.000   3rd Qu.:0.4200   3rd Qu.: 0.00000  \n",
       " Max.   :4.5400   Max.   :14.280   Max.   :5.1000   Max.   :42.81000  \n",
       "      our               over            remove          internet      \n",
       " Min.   : 0.0000   Min.   :0.0000   Min.   :0.0000   Min.   : 0.0000  \n",
       " 1st Qu.: 0.0000   1st Qu.:0.0000   1st Qu.:0.0000   1st Qu.: 0.0000  \n",
       " Median : 0.0000   Median :0.0000   Median :0.0000   Median : 0.0000  \n",
       " Mean   : 0.3122   Mean   :0.0959   Mean   :0.1142   Mean   : 0.1053  \n",
       " 3rd Qu.: 0.3800   3rd Qu.:0.0000   3rd Qu.:0.0000   3rd Qu.: 0.0000  \n",
       " Max.   :10.0000   Max.   :5.8800   Max.   :7.2700   Max.   :11.1100  \n",
       "     order              mail            receive             will       \n",
       " Min.   :0.00000   Min.   : 0.0000   Min.   :0.00000   Min.   :0.0000  \n",
       " 1st Qu.:0.00000   1st Qu.: 0.0000   1st Qu.:0.00000   1st Qu.:0.0000  \n",
       " Median :0.00000   Median : 0.0000   Median :0.00000   Median :0.1000  \n",
       " Mean   :0.09007   Mean   : 0.2394   Mean   :0.05982   Mean   :0.5417  \n",
       " 3rd Qu.:0.00000   3rd Qu.: 0.1600   3rd Qu.:0.00000   3rd Qu.:0.8000  \n",
       " Max.   :5.26000   Max.   :18.1800   Max.   :2.61000   Max.   :9.6700  \n",
       "     people            report           addresses           free        \n",
       " Min.   :0.00000   Min.   : 0.00000   Min.   :0.0000   Min.   : 0.0000  \n",
       " 1st Qu.:0.00000   1st Qu.: 0.00000   1st Qu.:0.0000   1st Qu.: 0.0000  \n",
       " Median :0.00000   Median : 0.00000   Median :0.0000   Median : 0.0000  \n",
       " Mean   :0.09393   Mean   : 0.05863   Mean   :0.0492   Mean   : 0.2488  \n",
       " 3rd Qu.:0.00000   3rd Qu.: 0.00000   3rd Qu.:0.0000   3rd Qu.: 0.1000  \n",
       " Max.   :5.55000   Max.   :10.00000   Max.   :4.4100   Max.   :20.0000  \n",
       "    business          email             you             credit        \n",
       " Min.   :0.0000   Min.   :0.0000   Min.   : 0.000   Min.   : 0.00000  \n",
       " 1st Qu.:0.0000   1st Qu.:0.0000   1st Qu.: 0.000   1st Qu.: 0.00000  \n",
       " Median :0.0000   Median :0.0000   Median : 1.310   Median : 0.00000  \n",
       " Mean   :0.1426   Mean   :0.1847   Mean   : 1.662   Mean   : 0.08558  \n",
       " 3rd Qu.:0.0000   3rd Qu.:0.0000   3rd Qu.: 2.640   3rd Qu.: 0.00000  \n",
       " Max.   :7.1400   Max.   :9.0900   Max.   :18.750   Max.   :18.18000  \n",
       "      your              font             num000           money         \n",
       " Min.   : 0.0000   Min.   : 0.0000   Min.   :0.0000   Min.   : 0.00000  \n",
       " 1st Qu.: 0.0000   1st Qu.: 0.0000   1st Qu.:0.0000   1st Qu.: 0.00000  \n",
       " Median : 0.2200   Median : 0.0000   Median :0.0000   Median : 0.00000  \n",
       " Mean   : 0.8098   Mean   : 0.1212   Mean   :0.1016   Mean   : 0.09427  \n",
       " 3rd Qu.: 1.2700   3rd Qu.: 0.0000   3rd Qu.:0.0000   3rd Qu.: 0.00000  \n",
       " Max.   :11.1100   Max.   :17.1000   Max.   :5.4500   Max.   :12.50000  \n",
       "       hp               hpl              george            num650      \n",
       " Min.   : 0.0000   Min.   : 0.0000   Min.   : 0.0000   Min.   :0.0000  \n",
       " 1st Qu.: 0.0000   1st Qu.: 0.0000   1st Qu.: 0.0000   1st Qu.:0.0000  \n",
       " Median : 0.0000   Median : 0.0000   Median : 0.0000   Median :0.0000  \n",
       " Mean   : 0.5495   Mean   : 0.2654   Mean   : 0.7673   Mean   :0.1248  \n",
       " 3rd Qu.: 0.0000   3rd Qu.: 0.0000   3rd Qu.: 0.0000   3rd Qu.:0.0000  \n",
       " Max.   :20.8300   Max.   :16.6600   Max.   :33.3300   Max.   :9.0900  \n",
       "      lab                labs            telnet             num857       \n",
       " Min.   : 0.00000   Min.   :0.0000   Min.   : 0.00000   Min.   :0.00000  \n",
       " 1st Qu.: 0.00000   1st Qu.:0.0000   1st Qu.: 0.00000   1st Qu.:0.00000  \n",
       " Median : 0.00000   Median :0.0000   Median : 0.00000   Median :0.00000  \n",
       " Mean   : 0.09892   Mean   :0.1029   Mean   : 0.06475   Mean   :0.04705  \n",
       " 3rd Qu.: 0.00000   3rd Qu.:0.0000   3rd Qu.: 0.00000   3rd Qu.:0.00000  \n",
       " Max.   :14.28000   Max.   :5.8800   Max.   :12.50000   Max.   :4.76000  \n",
       "      data              num415            num85           technology     \n",
       " Min.   : 0.00000   Min.   :0.00000   Min.   : 0.0000   Min.   :0.00000  \n",
       " 1st Qu.: 0.00000   1st Qu.:0.00000   1st Qu.: 0.0000   1st Qu.:0.00000  \n",
       " Median : 0.00000   Median :0.00000   Median : 0.0000   Median :0.00000  \n",
       " Mean   : 0.09723   Mean   :0.04784   Mean   : 0.1054   Mean   :0.09748  \n",
       " 3rd Qu.: 0.00000   3rd Qu.:0.00000   3rd Qu.: 0.0000   3rd Qu.:0.00000  \n",
       " Max.   :18.18000   Max.   :4.76000   Max.   :20.0000   Max.   :7.69000  \n",
       "    num1999          parts              pm               direct       \n",
       " Min.   :0.000   Min.   :0.0000   Min.   : 0.00000   Min.   :0.00000  \n",
       " 1st Qu.:0.000   1st Qu.:0.0000   1st Qu.: 0.00000   1st Qu.:0.00000  \n",
       " Median :0.000   Median :0.0000   Median : 0.00000   Median :0.00000  \n",
       " Mean   :0.137   Mean   :0.0132   Mean   : 0.07863   Mean   :0.06483  \n",
       " 3rd Qu.:0.000   3rd Qu.:0.0000   3rd Qu.: 0.00000   3rd Qu.:0.00000  \n",
       " Max.   :6.890   Max.   :8.3300   Max.   :11.11000   Max.   :4.76000  \n",
       "       cs             meeting           original         project       \n",
       " Min.   :0.00000   Min.   : 0.0000   Min.   :0.0000   Min.   : 0.0000  \n",
       " 1st Qu.:0.00000   1st Qu.: 0.0000   1st Qu.:0.0000   1st Qu.: 0.0000  \n",
       " Median :0.00000   Median : 0.0000   Median :0.0000   Median : 0.0000  \n",
       " Mean   :0.04367   Mean   : 0.1323   Mean   :0.0461   Mean   : 0.0792  \n",
       " 3rd Qu.:0.00000   3rd Qu.: 0.0000   3rd Qu.:0.0000   3rd Qu.: 0.0000  \n",
       " Max.   :7.14000   Max.   :14.2800   Max.   :3.5700   Max.   :20.0000  \n",
       "       re               edu              table            conference      \n",
       " Min.   : 0.0000   Min.   : 0.0000   Min.   :0.000000   Min.   : 0.00000  \n",
       " 1st Qu.: 0.0000   1st Qu.: 0.0000   1st Qu.:0.000000   1st Qu.: 0.00000  \n",
       " Median : 0.0000   Median : 0.0000   Median :0.000000   Median : 0.00000  \n",
       " Mean   : 0.3012   Mean   : 0.1798   Mean   :0.005444   Mean   : 0.03187  \n",
       " 3rd Qu.: 0.1100   3rd Qu.: 0.0000   3rd Qu.:0.000000   3rd Qu.: 0.00000  \n",
       " Max.   :21.4200   Max.   :22.0500   Max.   :2.170000   Max.   :10.00000  \n",
       " charSemicolon     charRoundbracket charSquarebracket charExclamation  \n",
       " Min.   :0.00000   Min.   :0.000    Min.   :0.00000   Min.   : 0.0000  \n",
       " 1st Qu.:0.00000   1st Qu.:0.000    1st Qu.:0.00000   1st Qu.: 0.0000  \n",
       " Median :0.00000   Median :0.065    Median :0.00000   Median : 0.0000  \n",
       " Mean   :0.03857   Mean   :0.139    Mean   :0.01698   Mean   : 0.2691  \n",
       " 3rd Qu.:0.00000   3rd Qu.:0.188    3rd Qu.:0.00000   3rd Qu.: 0.3150  \n",
       " Max.   :4.38500   Max.   :9.752    Max.   :4.08100   Max.   :32.4780  \n",
       "   charDollar         charHash          capitalAve        capitalLong     \n",
       " Min.   :0.00000   Min.   : 0.00000   Min.   :   1.000   Min.   :   1.00  \n",
       " 1st Qu.:0.00000   1st Qu.: 0.00000   1st Qu.:   1.588   1st Qu.:   6.00  \n",
       " Median :0.00000   Median : 0.00000   Median :   2.276   Median :  15.00  \n",
       " Mean   :0.07581   Mean   : 0.04424   Mean   :   5.191   Mean   :  52.17  \n",
       " 3rd Qu.:0.05200   3rd Qu.: 0.00000   3rd Qu.:   3.706   3rd Qu.:  43.00  \n",
       " Max.   :6.00300   Max.   :19.82900   Max.   :1102.500   Max.   :9989.00  \n",
       "  capitalTotal          type     \n",
       " Min.   :    1.0   nonspam:2788  \n",
       " 1st Qu.:   35.0   spam   :1813  \n",
       " Median :   95.0                 \n",
       " Mean   :  283.3                 \n",
       " 3rd Qu.:  266.0                 \n",
       " Max.   :15841.0                 "
      ]
     },
     "metadata": {},
     "output_type": "display_data"
    }
   ],
   "source": [
    "summary(spam)"
   ]
  },
  {
   "cell_type": "markdown",
   "metadata": {},
   "source": [
    "### Spam Prior"
   ]
  },
  {
   "cell_type": "code",
   "execution_count": 8,
   "metadata": {},
   "outputs": [
    {
     "data": {
      "text/plain": [
       "\n",
       "nonspam    spam \n",
       "   2788    1813 "
      ]
     },
     "metadata": {},
     "output_type": "display_data"
    },
    {
     "data": {
      "image/png": "[encoded data removed]",
      "text/plain": [
       "plot without title"
      ]
     },
     "metadata": {
      "image/png": {
       "height": 420,
       "width": 420
      }
     },
     "output_type": "display_data"
    }
   ],
   "source": [
    "table(spam$type)\n",
    "plot(spam$type)"
   ]
  },
  {
   "cell_type": "markdown",
   "metadata": {},
   "source": [
    "### Histogram (or other relevant) plots of the variables with respect to the target"
   ]
  },
  {
   "cell_type": "code",
   "execution_count": 9,
   "metadata": {},
   "outputs": [
    {
     "name": "stderr",
     "output_type": "stream",
     "text": [
      "Warning message:\n",
      "\"package 'ggplot2' was built under R version 4.0.4\"\n",
      "\n",
      "Attaching package: 'ggplot2'\n",
      "\n",
      "\n",
      "The following object is masked from 'package:kernlab':\n",
      "\n",
      "    alpha\n",
      "\n",
      "\n",
      "Warning message:\n",
      "\"package 'GGally' was built under R version 4.0.4\"\n",
      "Registered S3 method overwritten by 'GGally':\n",
      "  method from   \n",
      "  +.gg   ggplot2\n",
      "\n",
      "`stat_bin()` using `bins = 30`. Pick better value with `binwidth`.\n",
      "\n",
      "`stat_bin()` using `bins = 30`. Pick better value with `binwidth`.\n",
      "\n",
      "`stat_bin()` using `bins = 30`. Pick better value with `binwidth`.\n",
      "\n",
      "`stat_bin()` using `bins = 30`. Pick better value with `binwidth`.\n",
      "\n"
     ]
    },
    {
     "data": {
      "image/png": "[encoded data removed]",
      "text/plain": [
       "plot without title"
      ]
     },
     "metadata": {
      "image/png": {
       "height": 420,
       "width": 420
      }
     },
     "output_type": "display_data"
    }
   ],
   "source": [
    "library(\"ggplot2\"); library(\"GGally\")\n",
    "ggpairs(spam[,c(21,23,7,57,58)],aes(colour = type))"
   ]
  },
  {
   "cell_type": "markdown",
   "metadata": {},
   "source": [
    "## Classification trees \n",
    "\n",
    "### Model structure\n",
    "\n",
    "A classification tree is a model employing a tree-based structure in order to perform classification of the target variable.\n",
    "The tree structure contains internal nodes, and terminal nodes (often called leaves).\n",
    "\n",
    "Each internal node is associated to a feature in the input vector $\\mathbf{x}$, and performs a partition of the input space according to the value of the associated feature.\n",
    "Each terminal node is associated to a specific output label $C_i$.\n",
    "Internal nodes can be concatenated with each other in order to specify additional partitions of the input space.\n",
    "\n",
    "By combining these definitions, we can notice that the terminal nodes partitions the input space into mutually exclusive regions (in a divide-and-conquer fashion). \n",
    "\n",
    "The classification operation is performed by traversing the tree from the root node until one of the terminal nodes is reached.\n",
    "At each intermediate internal node, a decision is made according to the value associated to the corresponding feature (for example, for the i-th feature $x_i \\geq 0$).\n",
    "According to the outcome of this decision, a different path in the tree is taken.\n",
    "The tree traversal is stopped once a terminal node is reached, and the output of the classifier correspond to the label associated to the terminal node (e.g. $C_0$).\n",
    "\n",
    "Hence, by simply looking at the tree structure, we can easily understand the sequence of operations (i.e. splits) that yielded to the classification decision, improving interpretability of the model.\n",
    "\n",
    "### Learning procedure\n",
    "\n",
    "As an analogy to their biological equivalent, the learning procedure for a decision tree has two steps known as *tree growing* and *tree pruning*.\n",
    "\n",
    "* During *tree growing*, an iterative, exhaustive search is performed to find the successive splits, selecting the one that minimizes a certain cost function.\n",
    "  \n",
    "  Here you can find two examples of commonly used cost functions, with $p_i$ representing the probability of selecting a sample of class $i$ in the input space subset defined by the considered split:\n",
    "\n",
    "    * The **Gini Impurity** (used in CART) : how often a randomly chosen element would be incorrectly labeled if it was randomly labeled according to the distribution of labels in the subset. It is minimum (zero) for class-homogeneous nodes.\n",
    "    \n",
    "    \\begin{equation}\n",
    "         Gini = \\sum_{i=1}^C p_i * (1-p_i) = 1-\\sum_{i=1}^C p_i^2\\\\\n",
    "    \\end{equation}\n",
    "\n",
    "    * The **information gain** (IG, used in ID3,C4.5) : based on the concept of entropy and information content from information theory. Basically the IG is the entropy of the parent node minus the weighted sum of the children node entropy.\n",
    "\n",
    "    \\begin{equation}\n",
    "         IG = -\\sum_{i=1}^C p_i * log_2 (p_i) - \\sum_{a} p(a) \\sum_{i=1}^C Pr(i|a) * log_2 (Pr(i|a))  \\\\\n",
    "    \\end{equation}\n",
    "   \n",
    "\n",
    "* During *tree pruning*, some branches of the decision tree are removed, based on a complexity based measure of the tree performance, in order to avoid overfitting.\n",
    "\n",
    "\n",
    "An animated version of decision trees can be found here : http://www.r2d3.us/visual-intro-to-machine-learning-part-1/\n",
    "\n"
   ]
  },
  {
   "cell_type": "markdown",
   "metadata": {},
   "source": [
    "## Exercise 1 - Classification with decision trees\n",
    "\n",
    "On the given dataset, our classification task will be to discriminated between spam and non-spam samples ($k=2$ classes - binary classificiation task).\n",
    "Among the difference performance metric presented, we will be using the misclassification rate. \n",
    "\n",
    "In order to study the generalization capabilities of our learning model, we will be dividing our dataset in two part :\n",
    "\n",
    "* *training set* : Sample of data that we will be using to perform the training of the model, presenting to the model the $(\\mathbf{x}_i,y_i)$ pairs.\n",
    "* *test set* : Sample of data, unseen by the model, used to assess the predictions made by the training model.\n",
    "\n",
    "In order to obtain a more statistically sound estimation of the performance of the model, this procedure is often repeated several times, with different training-test splits (k-fold cross-validation).\n",
    "\n",
    "For this exercise, we will ask you to:\n",
    "\n",
    "* First, obtain the performance of a DT on the spam dataset using a 50%/50% training-test partition. \n",
    "* Check the importance of each feature using the obtained DT using *rpart* or *tree*.\n",
    "* Then plot the obtained tree using packages *rpart.plot*.\n",
    "* Finally, implement a 10-fold cross-validation for assessing your DT.\n",
    "\n",
    "**N.B.** The selected classifier actually outputs an estimation of the conditional probabilities $p(y_i=C_0|\\mathbf{x})$ and $p(y_i=C_1|\\mathbf{x_i})$, $C_0 and C_1$ being respectively \"nonspam\" and \"spam\". In order to transform the conditional probability into the corresponding class, we will define a threshold $t=0.5$. If $p(y_i=C_1|\\mathbf{x_i}) > t$ than the sample $\\mathbf{x_i}$ will be affected to the class \"spam\", otherwise it will be affected to the \"non spam\" category.\n",
    " \n"
   ]
  },
  {
   "cell_type": "code",
   "execution_count": 10,
   "metadata": {},
   "outputs": [],
   "source": [
    "library(rpart)\n",
    "\n",
    "spam_idx <- sample(1:nrow(spam))\n",
    "half_split <- floor(nrow(spam)/2)\n",
    "target_variable <- ncol(spam)\n",
    "\n",
    "train_data <- spam[spam_idx[1:half_split],]\n",
    "test_data <- spam[spam_idx[(half_split+1):nrow(spam)],]\n",
    "\n",
    "model <- rpart(type ~ ., method=\"class\",data=train_data)"
   ]
  },
  {
   "cell_type": "code",
   "execution_count": 11,
   "metadata": {},
   "outputs": [
    {
     "name": "stdout",
     "output_type": "stream",
     "text": [
      "\n",
      "Classification tree:\n",
      "rpart(formula = type ~ ., data = train_data, method = \"class\")\n",
      "\n",
      "Variables actually used in tree construction:\n",
      "[1] capitalAve      charDollar      charExclamation free           \n",
      "[5] hp              remove         \n",
      "\n",
      "Root node error: 918/2300 = 0.39913\n",
      "\n",
      "n= 2300 \n",
      "\n",
      "        CP nsplit rel error  xerror     xstd\n",
      "1 0.506536      0   1.00000 1.00000 0.025584\n",
      "2 0.069717      1   0.49346 0.52070 0.021197\n",
      "3 0.063181      2   0.42375 0.43682 0.019821\n",
      "4 0.025054      4   0.29739 0.34314 0.017961\n",
      "5 0.017429      5   0.27233 0.30610 0.017109\n",
      "6 0.010000      6   0.25490 0.26144 0.015971\n",
      "Call:\n",
      "rpart(formula = type ~ ., data = train_data, method = \"class\")\n",
      "  n= 2300 \n",
      "\n",
      "          CP nsplit rel error    xerror       xstd\n",
      "1 0.50653595      0 1.0000000 1.0000000 0.02558402\n",
      "2 0.06971678      1 0.4934641 0.5206972 0.02119735\n",
      "3 0.06318083      2 0.4237473 0.4368192 0.01982111\n",
      "4 0.02505447      4 0.2973856 0.3431373 0.01796093\n",
      "5 0.01742919      5 0.2723312 0.3061002 0.01710861\n",
      "6 0.01000000      6 0.2549020 0.2614379 0.01597102\n",
      "\n",
      "Variable importance\n",
      "charExclamation      charDollar      capitalAve     capitalLong            free \n",
      "             26              15              13              11              11 \n",
      "           your          remove    capitalTotal              hp           money \n",
      "              8               3               3               2               2 \n",
      "         num000             hpl          george            labs          credit \n",
      "              1               1               1               1               1 \n",
      "\n",
      "Node number 1: 2300 observations,    complexity param=0.5065359\n",
      "  predicted class=nonspam  expected loss=0.3991304  P(node) =1\n",
      "    class counts:  1382   918\n",
      "   probabilities: 0.601 0.399 \n",
      "  left son=2 (1337 obs) right son=3 (963 obs)\n",
      "  Primary splits:\n",
      "      charExclamation < 0.0875 to the left,  improve=388.2157, (0 missing)\n",
      "      charDollar      < 0.0345 to the left,  improve=374.1977, (0 missing)\n",
      "      remove          < 0.01   to the left,  improve=311.6923, (0 missing)\n",
      "      free            < 0.075  to the left,  improve=300.7581, (0 missing)\n",
      "      your            < 0.395  to the left,  improve=295.4960, (0 missing)\n",
      "  Surrogate splits:\n",
      "      free        < 0.075  to the left,  agree=0.710, adj=0.307, (0 split)\n",
      "      charDollar  < 0.0485 to the left,  agree=0.708, adj=0.302, (0 split)\n",
      "      your        < 0.585  to the left,  agree=0.698, adj=0.279, (0 split)\n",
      "      capitalLong < 47.5   to the left,  agree=0.695, adj=0.271, (0 split)\n",
      "      capitalAve  < 3.334  to the left,  agree=0.689, adj=0.258, (0 split)\n",
      "\n",
      "Node number 2: 1337 observations,    complexity param=0.06971678\n",
      "  predicted class=nonspam  expected loss=0.1525804  P(node) =0.5813043\n",
      "    class counts:  1133   204\n",
      "   probabilities: 0.847 0.153 \n",
      "  left son=4 (1219 obs) right son=5 (118 obs)\n",
      "  Primary splits:\n",
      "      charDollar < 0.0875 to the left,  improve=99.05309, (0 missing)\n",
      "      remove     < 0.045  to the left,  improve=97.63081, (0 missing)\n",
      "      money      < 0.025  to the left,  improve=65.37222, (0 missing)\n",
      "      free       < 0.115  to the left,  improve=45.33687, (0 missing)\n",
      "      your       < 0.995  to the left,  improve=41.69936, (0 missing)\n",
      "  Surrogate splits:\n",
      "      money  < 0.025  to the left,  agree=0.937, adj=0.288, (0 split)\n",
      "      num000 < 0.445  to the left,  agree=0.925, adj=0.153, (0 split)\n",
      "      over   < 0.58   to the left,  agree=0.916, adj=0.051, (0 split)\n",
      "      credit < 0.225  to the left,  agree=0.915, adj=0.034, (0 split)\n",
      "      remove < 0.305  to the left,  agree=0.914, adj=0.025, (0 split)\n",
      "\n",
      "Node number 3: 963 observations,    complexity param=0.06318083\n",
      "  predicted class=spam     expected loss=0.258567  P(node) =0.4186957\n",
      "    class counts:   249   714\n",
      "   probabilities: 0.259 0.741 \n",
      "  left son=6 (318 obs) right son=7 (645 obs)\n",
      "  Primary splits:\n",
      "      capitalAve   < 2.3045 to the left,  improve=101.12550, (0 missing)\n",
      "      capitalLong  < 18.5   to the left,  improve= 99.91841, (0 missing)\n",
      "      capitalTotal < 58.5   to the left,  improve= 97.62288, (0 missing)\n",
      "      charDollar   < 0.0065 to the left,  improve= 91.29048, (0 missing)\n",
      "      your         < 0.395  to the left,  improve= 82.11521, (0 missing)\n",
      "  Surrogate splits:\n",
      "      capitalLong  < 18.5   to the left,  agree=0.880, adj=0.635, (0 split)\n",
      "      capitalTotal < 70.5   to the left,  agree=0.826, adj=0.472, (0 split)\n",
      "      your         < 0.375  to the left,  agree=0.703, adj=0.101, (0 split)\n",
      "      george       < 0.61   to the right, agree=0.697, adj=0.082, (0 split)\n",
      "      hp           < 0.525  to the right, agree=0.695, adj=0.075, (0 split)\n",
      "\n",
      "Node number 4: 1219 observations,    complexity param=0.02505447\n",
      "  predicted class=nonspam  expected loss=0.09269893  P(node) =0.53\n",
      "    class counts:  1106   113\n",
      "   probabilities: 0.907 0.093 \n",
      "  left son=8 (1170 obs) right son=9 (49 obs)\n",
      "  Primary splits:\n",
      "      remove  < 0.065  to the left,  improve=42.083040, (0 missing)\n",
      "      free    < 0.115  to the left,  improve=19.290020, (0 missing)\n",
      "      receive < 0.285  to the left,  improve=13.340930, (0 missing)\n",
      "      our     < 0.425  to the left,  improve=10.450910, (0 missing)\n",
      "      hp      < 0.015  to the right, improve= 9.782758, (0 missing)\n",
      "\n",
      "Node number 5: 118 observations\n",
      "  predicted class=spam     expected loss=0.2288136  P(node) =0.05130435\n",
      "    class counts:    27    91\n",
      "   probabilities: 0.229 0.771 \n",
      "\n",
      "Node number 6: 318 observations,    complexity param=0.06318083\n",
      "  predicted class=nonspam  expected loss=0.4150943  P(node) =0.1382609\n",
      "    class counts:   186   132\n",
      "   probabilities: 0.585 0.415 \n",
      "  left son=12 (224 obs) right son=13 (94 obs)\n",
      "  Primary splits:\n",
      "      free       < 0.125  to the left,  improve=45.89762, (0 missing)\n",
      "      remove     < 0.025  to the left,  improve=32.44509, (0 missing)\n",
      "      your       < 0.375  to the left,  improve=30.98130, (0 missing)\n",
      "      charDollar < 0.0325 to the left,  improve=29.13732, (0 missing)\n",
      "      internet   < 0.305  to the left,  improve=26.18344, (0 missing)\n",
      "  Surrogate splits:\n",
      "      remove     < 0.195  to the left,  agree=0.758, adj=0.181, (0 split)\n",
      "      receive    < 0.15   to the left,  agree=0.745, adj=0.138, (0 split)\n",
      "      charDollar < 0.055  to the left,  agree=0.742, adj=0.128, (0 split)\n",
      "      credit     < 0.175  to the left,  agree=0.733, adj=0.096, (0 split)\n",
      "      num000     < 0.165  to the left,  agree=0.733, adj=0.096, (0 split)\n",
      "\n",
      "Node number 7: 645 observations,    complexity param=0.01742919\n",
      "  predicted class=spam     expected loss=0.09767442  P(node) =0.2804348\n",
      "    class counts:    63   582\n",
      "   probabilities: 0.098 0.902 \n",
      "  left son=14 (26 obs) right son=15 (619 obs)\n",
      "  Primary splits:\n",
      "      hp         < 0.41   to the right, improve=27.31562, (0 missing)\n",
      "      hpl        < 0.18   to the right, improve=18.39834, (0 missing)\n",
      "      charDollar < 0.0065 to the left,  improve=15.28722, (0 missing)\n",
      "      num85      < 0.495  to the right, improve=14.86537, (0 missing)\n",
      "      meeting    < 0.67   to the right, improve=14.86283, (0 missing)\n",
      "  Surrogate splits:\n",
      "      hpl    < 0.18   to the right, agree=0.980, adj=0.500, (0 split)\n",
      "      labs   < 0.025  to the right, agree=0.972, adj=0.308, (0 split)\n",
      "      num650 < 0.475  to the right, agree=0.969, adj=0.231, (0 split)\n",
      "      george < 0.505  to the right, agree=0.966, adj=0.154, (0 split)\n",
      "      telnet < 0.46   to the right, agree=0.966, adj=0.154, (0 split)\n",
      "\n",
      "Node number 8: 1170 observations\n",
      "  predicted class=nonspam  expected loss=0.06581197  P(node) =0.5086957\n",
      "    class counts:  1093    77\n",
      "   probabilities: 0.934 0.066 \n",
      "\n",
      "Node number 9: 49 observations\n",
      "  predicted class=spam     expected loss=0.2653061  P(node) =0.02130435\n",
      "    class counts:    13    36\n",
      "   probabilities: 0.265 0.735 \n",
      "\n",
      "Node number 12: 224 observations\n",
      "  predicted class=nonspam  expected loss=0.2410714  P(node) =0.0973913\n",
      "    class counts:   170    54\n",
      "   probabilities: 0.759 0.241 \n",
      "\n",
      "Node number 13: 94 observations\n",
      "  predicted class=spam     expected loss=0.1702128  P(node) =0.04086957\n",
      "    class counts:    16    78\n",
      "   probabilities: 0.170 0.830 \n",
      "\n",
      "Node number 14: 26 observations\n",
      "  predicted class=nonspam  expected loss=0.1923077  P(node) =0.01130435\n",
      "    class counts:    21     5\n",
      "   probabilities: 0.808 0.192 \n",
      "\n",
      "Node number 15: 619 observations\n",
      "  predicted class=spam     expected loss=0.06785137  P(node) =0.2691304\n",
      "    class counts:    42   577\n",
      "   probabilities: 0.068 0.932 \n",
      "\n"
     ]
    },
    {
     "data": {
      "image/png": "[encoded data removed]",
      "text/plain": [
       "plot without title"
      ]
     },
     "metadata": {
      "image/png": {
       "height": 420,
       "width": 420
      }
     },
     "output_type": "display_data"
    }
   ],
   "source": [
    "printcp(model) # display the results\n",
    "plotcp(model) # visualize cross-validation results\n",
    "summary(model) # detailed summary of splits"
   ]
  },
  {
   "cell_type": "code",
   "execution_count": 12,
   "metadata": {},
   "outputs": [
    {
     "data": {
      "image/png": "[encoded data removed]",
      "text/plain": [
       "Plot with title \"Classification Tree - Rpart\""
      ]
     },
     "metadata": {
      "image/png": {
       "height": 420,
       "width": 420
      }
     },
     "output_type": "display_data"
    }
   ],
   "source": [
    "# plot tree\n",
    "plot(model, uniform=TRUE,\n",
    "   main=\"Classification Tree - Rpart\")\n",
    "text(model, use.n=TRUE, all=TRUE, cex=.8)"
   ]
  },
  {
   "cell_type": "code",
   "execution_count": 13,
   "metadata": {},
   "outputs": [
    {
     "data": {
      "text/html": [
       "<table class=\"dataframe\">\n",
       "<caption>A data.frame: 19 × 1</caption>\n",
       "<thead>\n",
       "\t<tr><th></th><th scope=col>model.variable.importance</th></tr>\n",
       "\t<tr><th></th><th scope=col>&lt;dbl&gt;</th></tr>\n",
       "</thead>\n",
       "<tbody>\n",
       "\t<tr><th scope=row>charExclamation</th><td>388.215682</td></tr>\n",
       "\t<tr><th scope=row>charDollar</th><td>222.223637</td></tr>\n",
       "\t<tr><th scope=row>capitalAve</th><td>201.102151</td></tr>\n",
       "\t<tr><th scope=row>capitalLong</th><td>169.454304</td></tr>\n",
       "\t<tr><th scope=row>free</th><td>165.224556</td></tr>\n",
       "\t<tr><th scope=row>your</th><td>118.618540</td></tr>\n",
       "\t<tr><th scope=row>remove</th><td> 52.901975</td></tr>\n",
       "\t<tr><th scope=row>capitalTotal</th><td> 47.700720</td></tr>\n",
       "\t<tr><th scope=row>hp</th><td> 34.947731</td></tr>\n",
       "\t<tr><th scope=row>money</th><td> 28.540720</td></tr>\n",
       "\t<tr><th scope=row>num000</th><td> 19.504246</td></tr>\n",
       "\t<tr><th scope=row>hpl</th><td> 13.657808</td></tr>\n",
       "\t<tr><th scope=row>george</th><td> 12.470527</td></tr>\n",
       "\t<tr><th scope=row>labs</th><td>  8.404805</td></tr>\n",
       "\t<tr><th scope=row>credit</th><td>  7.752184</td></tr>\n",
       "\t<tr><th scope=row>receive</th><td>  6.347543</td></tr>\n",
       "\t<tr><th scope=row>num650</th><td>  6.303604</td></tr>\n",
       "\t<tr><th scope=row>over</th><td>  5.036598</td></tr>\n",
       "\t<tr><th scope=row>telnet</th><td>  4.202402</td></tr>\n",
       "</tbody>\n",
       "</table>\n"
      ],
      "text/latex": [
       "A data.frame: 19 × 1\n",
       "\\begin{tabular}{r|l}\n",
       "  & model.variable.importance\\\\\n",
       "  & <dbl>\\\\\n",
       "\\hline\n",
       "\tcharExclamation & 388.215682\\\\\n",
       "\tcharDollar & 222.223637\\\\\n",
       "\tcapitalAve & 201.102151\\\\\n",
       "\tcapitalLong & 169.454304\\\\\n",
       "\tfree & 165.224556\\\\\n",
       "\tyour & 118.618540\\\\\n",
       "\tremove &  52.901975\\\\\n",
       "\tcapitalTotal &  47.700720\\\\\n",
       "\thp &  34.947731\\\\\n",
       "\tmoney &  28.540720\\\\\n",
       "\tnum000 &  19.504246\\\\\n",
       "\thpl &  13.657808\\\\\n",
       "\tgeorge &  12.470527\\\\\n",
       "\tlabs &   8.404805\\\\\n",
       "\tcredit &   7.752184\\\\\n",
       "\treceive &   6.347543\\\\\n",
       "\tnum650 &   6.303604\\\\\n",
       "\tover &   5.036598\\\\\n",
       "\ttelnet &   4.202402\\\\\n",
       "\\end{tabular}\n"
      ],
      "text/markdown": [
       "\n",
       "A data.frame: 19 × 1\n",
       "\n",
       "| <!--/--> | model.variable.importance &lt;dbl&gt; |\n",
       "|---|---|\n",
       "| charExclamation | 388.215682 |\n",
       "| charDollar | 222.223637 |\n",
       "| capitalAve | 201.102151 |\n",
       "| capitalLong | 169.454304 |\n",
       "| free | 165.224556 |\n",
       "| your | 118.618540 |\n",
       "| remove |  52.901975 |\n",
       "| capitalTotal |  47.700720 |\n",
       "| hp |  34.947731 |\n",
       "| money |  28.540720 |\n",
       "| num000 |  19.504246 |\n",
       "| hpl |  13.657808 |\n",
       "| george |  12.470527 |\n",
       "| labs |   8.404805 |\n",
       "| credit |   7.752184 |\n",
       "| receive |   6.347543 |\n",
       "| num650 |   6.303604 |\n",
       "| over |   5.036598 |\n",
       "| telnet |   4.202402 |\n",
       "\n"
      ],
      "text/plain": [
       "                model.variable.importance\n",
       "charExclamation 388.215682               \n",
       "charDollar      222.223637               \n",
       "capitalAve      201.102151               \n",
       "capitalLong     169.454304               \n",
       "free            165.224556               \n",
       "your            118.618540               \n",
       "remove           52.901975               \n",
       "capitalTotal     47.700720               \n",
       "hp               34.947731               \n",
       "money            28.540720               \n",
       "num000           19.504246               \n",
       "hpl              13.657808               \n",
       "george           12.470527               \n",
       "labs              8.404805               \n",
       "credit            7.752184               \n",
       "receive           6.347543               \n",
       "num650            6.303604               \n",
       "over              5.036598               \n",
       "telnet            4.202402               "
      ]
     },
     "metadata": {},
     "output_type": "display_data"
    }
   ],
   "source": [
    "data.frame(model$variable.importance)"
   ]
  },
  {
   "cell_type": "code",
   "execution_count": 14,
   "metadata": {},
   "outputs": [],
   "source": [
    "Y_pred <- predict(model,test_data[,-target_variable])\n",
    "Y <- test_data[,target_variable]\n",
    "threshold <- 0.5"
   ]
  },
  {
   "cell_type": "code",
   "execution_count": 15,
   "metadata": {},
   "outputs": [
    {
     "data": {
      "text/html": [
       "<table class=\"dataframe\">\n",
       "<caption>A matrix: 6 × 2 of type dbl</caption>\n",
       "<thead>\n",
       "\t<tr><th></th><th scope=col>nonspam</th><th scope=col>spam</th></tr>\n",
       "</thead>\n",
       "<tbody>\n",
       "\t<tr><th scope=row>1001</th><td>0.06785137</td><td>0.93214863</td></tr>\n",
       "\t<tr><th scope=row>3310</th><td>0.06785137</td><td>0.93214863</td></tr>\n",
       "\t<tr><th scope=row>4327</th><td>0.75892857</td><td>0.24107143</td></tr>\n",
       "\t<tr><th scope=row>639</th><td>0.06785137</td><td>0.93214863</td></tr>\n",
       "\t<tr><th scope=row>1422</th><td>0.06785137</td><td>0.93214863</td></tr>\n",
       "\t<tr><th scope=row>2533</th><td>0.93418803</td><td>0.06581197</td></tr>\n",
       "</tbody>\n",
       "</table>\n"
      ],
      "text/latex": [
       "A matrix: 6 × 2 of type dbl\n",
       "\\begin{tabular}{r|ll}\n",
       "  & nonspam & spam\\\\\n",
       "\\hline\n",
       "\t1001 & 0.06785137 & 0.93214863\\\\\n",
       "\t3310 & 0.06785137 & 0.93214863\\\\\n",
       "\t4327 & 0.75892857 & 0.24107143\\\\\n",
       "\t639 & 0.06785137 & 0.93214863\\\\\n",
       "\t1422 & 0.06785137 & 0.93214863\\\\\n",
       "\t2533 & 0.93418803 & 0.06581197\\\\\n",
       "\\end{tabular}\n"
      ],
      "text/markdown": [
       "\n",
       "A matrix: 6 × 2 of type dbl\n",
       "\n",
       "| <!--/--> | nonspam | spam |\n",
       "|---|---|---|\n",
       "| 1001 | 0.06785137 | 0.93214863 |\n",
       "| 3310 | 0.06785137 | 0.93214863 |\n",
       "| 4327 | 0.75892857 | 0.24107143 |\n",
       "| 639 | 0.06785137 | 0.93214863 |\n",
       "| 1422 | 0.06785137 | 0.93214863 |\n",
       "| 2533 | 0.93418803 | 0.06581197 |\n",
       "\n"
      ],
      "text/plain": [
       "     nonspam    spam      \n",
       "1001 0.06785137 0.93214863\n",
       "3310 0.06785137 0.93214863\n",
       "4327 0.75892857 0.24107143\n",
       "639  0.06785137 0.93214863\n",
       "1422 0.06785137 0.93214863\n",
       "2533 0.93418803 0.06581197"
      ]
     },
     "metadata": {},
     "output_type": "display_data"
    }
   ],
   "source": [
    "head(Y_pred)"
   ]
  },
  {
   "cell_type": "code",
   "execution_count": 16,
   "metadata": {},
   "outputs": [
    {
     "data": {
      "text/html": [
       "<style>\n",
       ".list-inline {list-style: none; margin:0; padding: 0}\n",
       ".list-inline>li {display: inline-block}\n",
       ".list-inline>li:not(:last-child)::after {content: \"\\00b7\"; padding: 0 .5ex}\n",
       "</style>\n",
       "<ol class=list-inline><li>spam</li><li>nonspam</li><li>nonspam</li><li>spam</li><li>spam</li><li>nonspam</li></ol>\n",
       "\n",
       "<details>\n",
       "\t<summary style=display:list-item;cursor:pointer>\n",
       "\t\t<strong>Levels</strong>:\n",
       "\t</summary>\n",
       "\t<style>\n",
       "\t.list-inline {list-style: none; margin:0; padding: 0}\n",
       "\t.list-inline>li {display: inline-block}\n",
       "\t.list-inline>li:not(:last-child)::after {content: \"\\00b7\"; padding: 0 .5ex}\n",
       "\t</style>\n",
       "\t<ol class=list-inline><li>'nonspam'</li><li>'spam'</li></ol>\n",
       "</details>"
      ],
      "text/latex": [
       "\\begin{enumerate*}\n",
       "\\item spam\n",
       "\\item nonspam\n",
       "\\item nonspam\n",
       "\\item spam\n",
       "\\item spam\n",
       "\\item nonspam\n",
       "\\end{enumerate*}\n",
       "\n",
       "\\emph{Levels}: \\begin{enumerate*}\n",
       "\\item 'nonspam'\n",
       "\\item 'spam'\n",
       "\\end{enumerate*}\n"
      ],
      "text/markdown": [
       "1. spam\n",
       "2. nonspam\n",
       "3. nonspam\n",
       "4. spam\n",
       "5. spam\n",
       "6. nonspam\n",
       "\n",
       "\n",
       "\n",
       "**Levels**: 1. 'nonspam'\n",
       "2. 'spam'\n",
       "\n",
       "\n"
      ],
      "text/plain": [
       "[1] spam    nonspam nonspam spam    spam    nonspam\n",
       "Levels: nonspam spam"
      ]
     },
     "metadata": {},
     "output_type": "display_data"
    }
   ],
   "source": [
    "head(Y)"
   ]
  },
  {
   "cell_type": "code",
   "execution_count": 17,
   "metadata": {},
   "outputs": [
    {
     "data": {
      "text/plain": [
       "         Y\n",
       "Y_hat     nonspam spam\n",
       "  nonspam    1289  168\n",
       "  spam        117  727"
      ]
     },
     "metadata": {},
     "output_type": "display_data"
    }
   ],
   "source": [
    "Y_hat <- ifelse(Y_pred[,2] > threshold,\"spam\",\"nonspam\") \n",
    "\n",
    "confusion_matrix <- table(Y_hat,Y)\n",
    "confusion_matrix"
   ]
  },
  {
   "cell_type": "code",
   "execution_count": 18,
   "metadata": {},
   "outputs": [
    {
     "data": {
      "text/html": [
       "0.123859191655802"
      ],
      "text/latex": [
       "0.123859191655802"
      ],
      "text/markdown": [
       "0.123859191655802"
      ],
      "text/plain": [
       "[1] 0.1238592"
      ]
     },
     "metadata": {},
     "output_type": "display_data"
    }
   ],
   "source": [
    "# compute misclassification rate\n",
    "accuracy = (confusion_matrix[1,1]+confusion_matrix[2,2])/sum(confusion_matrix)\n",
    "misclassification_rate = 1 - accuracy\n",
    "misclassification_rate"
   ]
  },
  {
   "cell_type": "markdown",
   "metadata": {},
   "source": [
    "### 10-fold CV"
   ]
  },
  {
   "cell_type": "code",
   "execution_count": 19,
   "metadata": {},
   "outputs": [
    {
     "name": "stdout",
     "output_type": "stream",
     "text": [
      "[1] \"[INFO] - Training set size: 4140 - Testing set size 461\"\n",
      "         Y\n",
      "Y_hat     nonspam spam\n",
      "  nonspam     254   27\n",
      "  spam         22  158\n",
      "[1] \"[INFO] - Misclassification rate - 1 fold: 0.106290672451193\"\n",
      "[1] \"[INFO] - Training set size: 4140 - Testing set size 461\"\n",
      "         Y\n",
      "Y_hat     nonspam spam\n",
      "  nonspam     266   36\n",
      "  spam         16  143\n",
      "[1] \"[INFO] - Misclassification rate - 2 fold: 0.112798264642082\"\n",
      "[1] \"[INFO] - Training set size: 4140 - Testing set size 461\"\n",
      "         Y\n",
      "Y_hat     nonspam spam\n",
      "  nonspam     261   42\n",
      "  spam          7  151\n",
      "[1] \"[INFO] - Misclassification rate - 3 fold: 0.106290672451193\"\n",
      "[1] \"[INFO] - Training set size: 4140 - Testing set size 461\"\n",
      "         Y\n",
      "Y_hat     nonspam spam\n",
      "  nonspam     272   29\n",
      "  spam         24  136\n",
      "[1] \"[INFO] - Misclassification rate - 4 fold: 0.114967462039046\"\n",
      "[1] \"[INFO] - Training set size: 4140 - Testing set size 461\"\n",
      "         Y\n",
      "Y_hat     nonspam spam\n",
      "  nonspam     257   31\n",
      "  spam         13  160\n",
      "[1] \"[INFO] - Misclassification rate - 5 fold: 0.0954446854663774\"\n",
      "[1] \"[INFO] - Training set size: 4140 - Testing set size 461\"\n",
      "         Y\n",
      "Y_hat     nonspam spam\n",
      "  nonspam     260   39\n",
      "  spam         22  140\n",
      "[1] \"[INFO] - Misclassification rate - 6 fold: 0.132321041214751\"\n",
      "[1] \"[INFO] - Training set size: 4140 - Testing set size 461\"\n",
      "         Y\n",
      "Y_hat     nonspam spam\n",
      "  nonspam     257   37\n",
      "  spam         10  157\n",
      "[1] \"[INFO] - Misclassification rate - 7 fold: 0.101952277657267\"\n",
      "[1] \"[INFO] - Training set size: 4140 - Testing set size 461\"\n",
      "         Y\n",
      "Y_hat     nonspam spam\n",
      "  nonspam     277   28\n",
      "  spam         15  141\n",
      "[1] \"[INFO] - Misclassification rate - 8 fold: 0.0932754880694143\"\n",
      "[1] \"[INFO] - Training set size: 4140 - Testing set size 461\"\n",
      "         Y\n",
      "Y_hat     nonspam spam\n",
      "  nonspam     269   37\n",
      "  spam         23  132\n",
      "[1] \"[INFO] - Misclassification rate - 9 fold: 0.130151843817787\"\n",
      "[1] \"[INFO] - Training set size: 4149 - Testing set size 452\"\n",
      "         Y\n",
      "Y_hat     nonspam spam\n",
      "  nonspam     243   22\n",
      "  spam         20  167\n",
      "[1] \"[INFO] - Misclassification rate - 10 fold: 0.0929203539823009\"\n",
      "[1] \"[INFO] - Mean misclassification rate: 0.0929203539823009\"\n"
     ]
    }
   ],
   "source": [
    "k = 10\n",
    "target_variable <- ncol(spam)\n",
    "accuracy_vec <- array(0,k)\n",
    "threshold <- 0.5\n",
    "\n",
    "# 1. Shuffle the dataset randomly.\n",
    "spam_idx <- sample(1:nrow(spam))\n",
    "\n",
    "# 2. Split the dataset into k groups\n",
    "max <- ceiling(nrow(spam)/k)\n",
    "splits <- split(spam_idx, ceiling(seq_along(spam_idx)/max))\n",
    "\n",
    "# 3. For each unique group:\n",
    "for (i in 1:k){\n",
    "    #3.1 Take the group as a hold out or test data set\n",
    "    test_data <- spam[splits[[i]],]\n",
    "    \n",
    "    #3.2 Take the remaining groups as a training data set\n",
    "    train_data <- spam[-splits[[i]],]\n",
    "    print(paste(\"[INFO] - Training set size:\",dim(train_data)[1],\"- Testing set size\",dim(test_data)[1]))\n",
    "    \n",
    "    #3.3 Fit a model on the training set and evaluate it on the test set\n",
    "    model <- rpart(type ~ ., method=\"class\",data=train_data)\n",
    "    Y_pred <- predict(model,test_data[,-target_variable])\n",
    "    Y <- test_data[,target_variable]\n",
    "    \n",
    "    #3.4 Store the prediction of the tree (2 is to take only the P(Y=\"spam\"|x))\n",
    "    Y_hat <- ifelse(Y_pred[,2] > threshold,\"spam\",\"nonspam\") \n",
    "    confusion_matrix <- table(Y_hat,Y)\n",
    "    print(confusion_matrix)\n",
    "    \n",
    "    #3.5 Retain the evaluation score and discard the model\n",
    "    accuracy_vec[i] = (confusion_matrix[1,1]+confusion_matrix[2,2])/sum(confusion_matrix)\n",
    "    misclassification_rate = 1 - accuracy_vec[i]\n",
    "    print(paste(\"[INFO] - Misclassification rate -\",i,\"fold:\",misclassification_rate))\n",
    "}\n",
    "\n",
    "#4. Summarize the skill of the model using the sample of model evaluation scores\n",
    "print(paste(\"[INFO] - Mean misclassification rate:\",1-mean(accuracy_vec[i])))\n",
    "\n"
   ]
  },
  {
   "cell_type": "markdown",
   "metadata": {},
   "source": [
    "## Exercise 2 - Classification : Alternative metrics (ROC and AUC)\n",
    "\n",
    "In the previous exercise we selected an arbitrary threshold $t=0.5$ in order to determine the output classes.\n",
    "The confusion matrix and all the related performance measures depends on the choice of the aforementioned threshold. \n",
    "Usually the choice of a threshold is related to Type I error and Type II errors (cf. Section 5.13 and 10.3 of the syllabus) that we are ready to accept in a stochastic setting.\n",
    "\n",
    "In order to avoid conditioning our assessment on a specific threshold, it is interesting to assess the overall accuracy for all possible thresholds. This is possible by plotting curves, like the Receiver Operating Characteristic (ROC).\n",
    "\n",
    "The ROC curve is a plot in which, for every threshold in the range $[0,1]$, the false positive rate of the corresponding classifier (1-specificity, on the horizontal axis) against the true positive rate (i.e. sensitivity or power, on the vertical axis). In other terms, ROC visualises the probability of detection vs. the probability of false alarm. Each point on the curve correspond to a different threshold used in the classifier.\n",
    "\n",
    "The ideal ROC curve would be composed of a single point: $(FPR=0,TPR=1)$. \n",
    "The worst possible ROC curve would be represented by the bissextrix line on the FPR-TPR plane.\n",
    "In this case, for each threshold, we would have $T_P=N_P=F_P=N_N$ , i.e. the same proportion of true positive and false positive. \n",
    "In other terms, this classifier would not separate the classes at all.\n",
    "In practice, real-life classification rules produce ROC curves which lie between these two extremes. \n",
    "\n",
    "A common way to summarise a ROC curve, is to compute the area under the curve (AUC), by curve integration. \n",
    "By measuring the AUC of different classifiers, we have a compact way to compare classifiers without setting a specific threshold.\n",
    "\n",
    "For the classifier defined in Exercise 1, you need to:\n",
    "\n",
    "- Plot the ROC curve for $t \\in \\{0,0.05,0.1,\\cdots,1\\}$\n",
    "- Compare the ROC curve with the ideal and worst classifier\n",
    "- Compute the corresponding AUC using a trapezoidal approximation\n",
    "    - *Example:* Given a curve composed by three points ($x_1,y_1$),($x_2,y_2$),($x_3,y_3$), the AUC is computed as the sum of the trapezoid defined by the points 1-2 and the trapezoid defined by the points 2-3:    $AUC = AUC_{12} + AUC_{23} = \\frac{(x_2-x_1)*(y_1+y_2)}{2} + \\frac{(x_3-x_2)*(y_2+y_3)}{2}$  \n",
    "\n",
    "Based on: \n",
    "- https://mmuratarat.github.io/2019-10-01/how-to-compute-AUC-plot-ROC-by-hand\n",
    "- https://stackoverflow.com/questions/4954507/calculate-the-area-under-a-curve"
   ]
  },
  {
   "cell_type": "code",
   "execution_count": 20,
   "metadata": {},
   "outputs": [],
   "source": [
    "thresholds <- seq(0,0.99,0.05)\n",
    "FPR <- c()\n",
    "TPR <- c()\n",
    "\n",
    "for(threshold in thresholds){\n",
    "   Y_hat <- ifelse(Y_pred[,2] > threshold,\"spam\",\"nonspam\") \n",
    "   confusion_matrix <- table(Y_hat,Y)\n",
    "    \n",
    "   if(dim(confusion_matrix)[1] != 2){\n",
    "       confusion_matrix <- rbind(confusion_matrix,c(0,0))\n",
    "   }\n",
    "    \n",
    "   FP <- confusion_matrix[2,1]\n",
    "   TP <- confusion_matrix[2,2]\n",
    "   N_N <- sum(confusion_matrix[,1]) # Total number of nonspam\n",
    "   N_P <- sum(confusion_matrix[,2]) # Total number of spam\n",
    "\n",
    "   FPR <- c(FPR,FP/N_N)\n",
    "   TPR <- c(TPR,TP/N_P)\n",
    "}\n",
    "    "
   ]
  },
  {
   "cell_type": "code",
   "execution_count": 21,
   "metadata": {},
   "outputs": [
    {
     "data": {
      "image/png": "[encoded data removed]",
      "text/plain": [
       "Plot with title \"ROC Curve\""
      ]
     },
     "metadata": {
      "image/png": {
       "height": 420,
       "width": 420
      }
     },
     "output_type": "display_data"
    }
   ],
   "source": [
    "plot(FPR,TPR)\n",
    "lines(FPR,TPR,col=\"blue\")\n",
    "lines(thresholds,thresholds,lty=2)\n",
    "title(\"ROC Curve\")"
   ]
  },
  {
   "cell_type": "code",
   "execution_count": 22,
   "metadata": {},
   "outputs": [
    {
     "name": "stderr",
     "output_type": "stream",
     "text": [
      "Loading required package: pracma\n",
      "\n",
      "Warning message:\n",
      "\"package 'pracma' was built under R version 4.0.4\"\n",
      "\n",
      "Attaching package: 'pracma'\n",
      "\n",
      "\n",
      "The following objects are masked from 'package:kernlab':\n",
      "\n",
      "    cross, eig, size\n",
      "\n",
      "\n"
     ]
    },
    {
     "data": {
      "text/html": [
       "-0.0755426801054177"
      ],
      "text/latex": [
       "-0.0755426801054177"
      ],
      "text/markdown": [
       "-0.0755426801054177"
      ],
      "text/plain": [
       "[1] -0.07554268"
      ]
     },
     "metadata": {},
     "output_type": "display_data"
    },
    {
     "data": {
      "text/html": [
       "0.276238759128493"
      ],
      "text/latex": [
       "0.276238759128493"
      ],
      "text/markdown": [
       "0.276238759128493"
      ],
      "text/plain": [
       "[1] 0.2762388"
      ]
     },
     "metadata": {},
     "output_type": "display_data"
    }
   ],
   "source": [
    "require(pracma)\n",
    "AUC <- trapz(FPR,TPR)\n",
    "AUC\n",
    "AUC <- sum(abs(diff(FPR)) * (head(TPR,-1)+tail(TPR,-1)))/2\n",
    "AUC"
   ]
  },
  {
   "cell_type": "markdown",
   "metadata": {},
   "source": [
    "## Exercise 3 - Ensemble learning : random forest\n",
    "\n",
    "Random Forests (RF) is an ensemble learning technique proposed by Breiman which combines bagging and random feature selection by using a large number of non pruned decision trees.\n",
    "Hence, Each individual tree is trained on a different subset of samples (due to bagging), as well as a different subset of features (due to random feature selection)\n",
    "The random feature selection for every tree allows to decorrelate the predictions of the different trees. \n",
    "The aggregation of decorrelated classifiers allows to reduce the variance of the final prediction.\n",
    "In the case of classification, the aggregation is performed by majority vote (i.e. the class that is predicted by the largest number of individual classifiers is selected as the prediction).\n",
    "In the case of regression, the aggregation is performed by performing the average of the individual predictions.\n",
    "\n",
    "For this exercise you need to:\n",
    "- Implement a random forest with five trees from your (simple data partition) DT. Do not use the *randomForest* package.\n",
    "- Test the difference in accuracy with 8 and 20 features per tree.\n",
    "- Implement a 10-fold cross-validation for assessing your RF. Plot the performances according to the number of trained trees. \n",
    "- Bonus: Repeat the previous steps using the  *randomForest* package.\n",
    "\n",
    "Here is an implementation helper:\n",
    "\n",
    "* The number of trees is a compromise between training time and performance.\n",
    "* Each tree is built on a subset of features, a good heuristic being the squared root of the total number of features, drawn randomly.\n",
    "* For a new sample, the predicted class is simply the mean of predicted probabilities on all trained trees.\n"
   ]
  },
  {
   "cell_type": "code",
   "execution_count": 23,
   "metadata": {},
   "outputs": [
    {
     "name": "stdout",
     "output_type": "stream",
     "text": [
      "[1] \"[INFO] - Training set size: 2300 - Testing set size 2301\"\n",
      "[1] \"[INFO] - Training set size: 2300 - Testing set size 2301\"\n",
      "[1] \"[INFO] - Training set size: 2300 - Testing set size 2301\"\n",
      "[1] \"[INFO] - Training set size: 2300 - Testing set size 2301\"\n",
      "[1] \"[INFO] - Training set size: 2300 - Testing set size 2301\"\n"
     ]
    },
    {
     "data": {
      "text/plain": [
       "         Y\n",
       "Y_hat     nonspam spam\n",
       "  nonspam    1318  161\n",
       "  spam         62  760"
      ]
     },
     "metadata": {},
     "output_type": "display_data"
    },
    {
     "data": {
      "text/html": [
       "0.0969143850499783"
      ],
      "text/latex": [
       "0.0969143850499783"
      ],
      "text/markdown": [
       "0.0969143850499783"
      ],
      "text/plain": [
       "[1] 0.09691439"
      ]
     },
     "metadata": {},
     "output_type": "display_data"
    }
   ],
   "source": [
    "n_trees <- 5 \n",
    "features_per_tree <- 20\n",
    "threshold <- 0.5\n",
    "\n",
    "spam_idx <- sample(1:nrow(spam))\n",
    "half_split <- floor(nrow(spam)/2)\n",
    "target_variable <- ncol(spam)\n",
    "\n",
    "Y_trees <- numeric()\n",
    "\n",
    "for(i in 1:n_trees){\n",
    "    selected_features <- sample(1:(ncol(spam)-1),features_per_tree)\n",
    "    #3.1 Take the group as a hold out or train data set\n",
    "    train_data <- spam[spam_idx[1:half_split],c(selected_features,target_variable)]\n",
    "    \n",
    "    #3.2 Take the remaining groups as a test data set\n",
    "    test_data <- spam[spam_idx[(half_split+1):nrow(spam)],c(selected_features,target_variable)]\n",
    "    print(paste(\"[INFO] - Training set size:\",dim(train_data)[1],\"- Testing set size\",dim(test_data)[1]))\n",
    "    \n",
    "    #3.3 Fit a model on the training set and evaluate it on the test set\n",
    "    model <- rpart(type ~ ., method=\"class\",data=train_data)\n",
    "    Y_pred <- predict(model,subset(test_data, select=-c(type)))\n",
    "    \n",
    "    #3.4 Store the prediction of each tree (2 is to take only the P(Y=\"spam\"|x))\n",
    "    Y_trees <- cbind(Y_trees,Y_pred[,2])\n",
    "}\n",
    "\n",
    "# Calculate the ensemble prediction\n",
    "Y_hat <- apply(Y_trees,1,mean)\n",
    "Y_hat <- ifelse(Y_hat > threshold,\"spam\",\"nonspam\") \n",
    "\n",
    "# Evaluate the predictions\n",
    "Y <- test_data[,\"type\"]\n",
    "confusion_matrix <- table(Y_hat,Y)\n",
    "confusion_matrix\n",
    "\n",
    "accuracy = (confusion_matrix[1,1]+confusion_matrix[2,2])/sum(confusion_matrix)\n",
    "misclassification_rate = 1 - accuracy\n",
    "misclassification_rate"
   ]
  },
  {
   "cell_type": "code",
   "execution_count": 24,
   "metadata": {},
   "outputs": [
    {
     "name": "stdout",
     "output_type": "stream",
     "text": [
      "[1] \"[INFO] - Misclassification rate - 5 features : 0.17296827466319\"\n",
      "[1] \"[INFO] - Misclassification rate - 10 features : 0.135593220338983\"\n",
      "[1] \"[INFO] - Misclassification rate - 15 features : 0.102564102564103\"\n",
      "[1] \"[INFO] - Misclassification rate - 20 features : 0.107344632768362\"\n",
      "[1] \"[INFO] - Misclassification rate - 25 features : 0.10212950890917\"\n",
      "[1] \"[INFO] - Misclassification rate - 30 features : 0.103867883528901\"\n",
      "[1] \"[INFO] - Misclassification rate - 35 features : 0.0977835723598436\"\n",
      "[1] \"[INFO] - Misclassification rate - 40 features : 0.104737070838766\"\n",
      "[1] \"[INFO] - Misclassification rate - 45 features : 0.106475445458496\"\n",
      "[1] \"[INFO] - Misclassification rate - 50 features : 0.105171664493698\"\n",
      "[1] \"[INFO] - Misclassification rate - 55 features : 0.105606258148631\"\n"
     ]
    },
    {
     "data": {
      "image/png": "[encoded data removed]",
      "text/plain": [
       "plot without title"
      ]
     },
     "metadata": {
      "image/png": {
       "height": 420,
       "width": 420
      }
     },
     "output_type": "display_data"
    }
   ],
   "source": [
    "n_trees <- 5 \n",
    "threshold <- 0.5\n",
    "\n",
    "spam_idx <- sample(1:nrow(spam))\n",
    "half_split <- floor(nrow(spam)/2)\n",
    "target_variable <- ncol(spam)\n",
    "\n",
    "feature_values <- seq(5,58,5)\n",
    "accuracy_vec <- numeric()\n",
    "\n",
    "for (features_per_tree in feature_values)\n",
    "{\n",
    "    Y_trees <- numeric()\n",
    "\n",
    "    for(i in 1:n_trees){\n",
    "        selected_features <- sample(1:(ncol(spam)-1),features_per_tree)\n",
    "        #3.1 Take the first half of the dataset as a training data set\n",
    "        train_data <- spam[spam_idx[1:half_split],c(selected_features,target_variable)]\n",
    "\n",
    "        #3.2 Take the second half of the dataset as a hold out or test data set\n",
    "        test_data <- spam[spam_idx[(half_split+1):nrow(spam)],c(selected_features,target_variable)]\n",
    "        #print(paste(\"[INFO] - Training set size:\",dim(train_data)[1],\"- Testing set size\",dim(test_data)[1]))\n",
    "\n",
    "        #3.3 Fit a model on the training set and evaluate it on the test set\n",
    "        model <- rpart(type ~ ., method=\"class\",data=train_data)\n",
    "        Y_pred <- predict(model,subset(test_data, select=-c(type)))\n",
    "\n",
    "        #3.4 Store the prediction of each tree (2 is to take only the P(Y=\"spam\"|x))\n",
    "        Y_trees <- cbind(Y_trees,Y_pred[,2])\n",
    "    }\n",
    "\n",
    "    # Calculate the ensemble prediction\n",
    "    Y_hat <- apply(Y_trees,1,mean)\n",
    "    Y_hat <- ifelse(Y_hat > threshold,\"spam\",\"nonspam\") \n",
    "\n",
    "    # Evaluate the predictions\n",
    "    Y <- test_data[,\"type\"]\n",
    "    confusion_matrix <- table(Y_hat,Y)\n",
    "    confusion_matrix\n",
    "\n",
    "    accuracy = (confusion_matrix[1,1]+confusion_matrix[2,2])/sum(confusion_matrix)\n",
    "    misclassification_rate = 1 - accuracy\n",
    "    accuracy_vec <- cbind(accuracy_vec,accuracy)\n",
    "    print(paste(\"[INFO] - Misclassification rate -\",features_per_tree,\"features :\",misclassification_rate))\n",
    "}\n",
    "\n",
    "plot(feature_values,accuracy_vec)"
   ]
  },
  {
   "cell_type": "markdown",
   "metadata": {},
   "source": [
    "### 10-fold crossvalidation"
   ]
  },
  {
   "cell_type": "code",
   "execution_count": 25,
   "metadata": {},
   "outputs": [
    {
     "name": "stdout",
     "output_type": "stream",
     "text": [
      "[1] \"[INFO] - Misclassification rate - 1 fold: 0.0954446854663774\"\n",
      "[1] \"[INFO] - Misclassification rate - 2 fold: 0.0932754880694143\"\n",
      "[1] \"[INFO] - Misclassification rate - 3 fold: 0.0455531453362256\"\n",
      "[1] \"[INFO] - Misclassification rate - 4 fold: 0.086767895878525\"\n",
      "[1] \"[INFO] - Misclassification rate - 5 fold: 0.117136659436009\"\n",
      "[1] \"[INFO] - Misclassification rate - 6 fold: 0.0911062906724512\"\n",
      "[1] \"[INFO] - Misclassification rate - 7 fold: 0.0954446854663774\"\n",
      "[1] \"[INFO] - Misclassification rate - 8 fold: 0.108459869848156\"\n",
      "[1] \"[INFO] - Misclassification rate - 9 fold: 0.088937093275488\"\n",
      "[1] \"[INFO] - Misclassification rate - 10 fold: 0.128318584070796\"\n",
      "[1] \"[INFO] - Mean misclassification rate: 0.128318584070796\"\n"
     ]
    }
   ],
   "source": [
    "k = 10\n",
    "n_trees <- 5 \n",
    "features_per_tree <- 20\n",
    "\n",
    "target_variable <- ncol(spam)\n",
    "accuracy_vec <- array(0,k)\n",
    "threshold <- 0.5\n",
    "\n",
    "# 1. Shuffle the dataset randomly.\n",
    "spam_idx <- sample(1:nrow(spam))\n",
    "\n",
    "# 2. Split the dataset into k groups\n",
    "max <- ceiling(nrow(spam)/k)\n",
    "splits <- split(spam_idx, ceiling(seq_along(spam_idx)/max))\n",
    "\n",
    "# 3. For each unique group:\n",
    "for (i in 1:k){\n",
    "    \n",
    "    Y_trees <- numeric()\n",
    "    \n",
    "    for(j in 1:n_trees){\n",
    "        #3.1 Select features for the tree\n",
    "        selected_features <- sample(1:(ncol(spam)-1),features_per_tree)\n",
    "        \n",
    "        #3.2 Take the group as a hold out or test data set\n",
    "        test_data <- spam[splits[[i]],c(selected_features,target_variable)]\n",
    "\n",
    "        #3.3 Take the remaining groups as a training data set\n",
    "        train_data <- spam[-splits[[i]],c(selected_features,target_variable)]\n",
    "        #print(paste(\"[INFO] - Training set size:\",dim(train_data)[1],\"- Testing set size\",dim(test_data)[1]))\n",
    "\n",
    "        #3.4 Fit a model on the training set and evaluate it on the test set\n",
    "        model <- rpart(type ~ ., method=\"class\",data=train_data)\n",
    "        Y_pred <- predict(model,subset(test_data, select=-c(type)))\n",
    "\n",
    "        # Store the prediction of each tree\n",
    "        Y_trees <- cbind(Y_trees,Y_pred[,2])\n",
    "    }\n",
    "    \n",
    "    \n",
    "    # Calculate the ensemble prediction\n",
    "    Y_hat <- apply(Y_trees,1,mean)\n",
    "    Y_hat <- ifelse(Y_hat > threshold,\"spam\",\"nonspam\") \n",
    "\n",
    "    # Evaluate the predictions\n",
    "    Y <- test_data[,\"type\"]\n",
    "    confusion_matrix <- table(Y_hat,Y)\n",
    "    confusion_matrix\n",
    "    \n",
    "    #3.4 Retain the evaluation score and discard the model\n",
    "    accuracy_vec[i] = (confusion_matrix[1,1]+confusion_matrix[2,2])/sum(confusion_matrix)\n",
    "    misclassification_rate = 1 - accuracy_vec[i]\n",
    "    print(paste(\"[INFO] - Misclassification rate -\",i,\"fold:\",misclassification_rate))\n",
    "}\n",
    "\n",
    "#4. Summarize the accuracy of the model using the sample of model evaluation scores\n",
    "print(paste(\"[INFO] - Mean misclassification rate:\",1-mean(accuracy_vec[i])))"
   ]
  },
  {
   "cell_type": "markdown",
   "metadata": {},
   "source": [
    "### Using RandomForest package"
   ]
  },
  {
   "cell_type": "code",
   "execution_count": 26,
   "metadata": {},
   "outputs": [
    {
     "name": "stderr",
     "output_type": "stream",
     "text": [
      "Warning message:\n",
      "\"package 'randomForest' was built under R version 4.0.4\"\n",
      "randomForest 4.6-14\n",
      "\n",
      "Type rfNews() to see new features/changes/bug fixes.\n",
      "\n",
      "\n",
      "Attaching package: 'randomForest'\n",
      "\n",
      "\n",
      "The following object is masked from 'package:ggplot2':\n",
      "\n",
      "    margin\n",
      "\n",
      "\n"
     ]
    },
    {
     "data": {
      "image/png": "[encoded data removed]",
      "text/plain": [
       "Plot with title \"Number of trees influence\""
      ]
     },
     "metadata": {
      "image/png": {
       "height": 420,
       "width": 420
      }
     },
     "output_type": "display_data"
    }
   ],
   "source": [
    "library(\"randomForest\")\n",
    "n_trees <- 20\n",
    "accuracy_vec <- array(0,n_trees)\n",
    "\n",
    "spam_idx <- sample(1:nrow(spam))\n",
    "half_split <- floor(nrow(spam)/2)\n",
    "target_variable <- ncol(spam)\n",
    "\n",
    "for (i in 1:n_trees){ #print(i)\n",
    "    #3.1 Take the first half of the dataset as a training data set\n",
    "    train_data <- spam[spam_idx[1:half_split],]\n",
    "\n",
    "    #3.2 Take the second half of the dataset as a hold out or test data set\n",
    "    test_data <- spam[spam_idx[(half_split+1):nrow(spam)],]\n",
    "    \n",
    "    model <- randomForest(x=train_data[,-c(target_variable)],\n",
    "                          y=as.factor(train_data[,c(target_variable)]),\n",
    "                          xtest=test_data[,-c(target_variable)],\n",
    "                          ytest=as.factor(test_data[,c(target_variable)]),\n",
    "                          ntree=i)\n",
    "    \n",
    "    accuracy_vec[i] = (model$test$confusion[1,1]+model$test$confusion[2,2])/sum(model$test$confusion)\n",
    "    }\n",
    "\n",
    "plot(accuracy_vec,main = \"Number of trees influence\",xlab = \"Nbr of trees\",ylab = \"Classification rate\") "
   ]
  },
  {
   "cell_type": "markdown",
   "metadata": {},
   "source": [
    "## Exercise 4 - Ensemble learning : Boosting (Ada Boost)\n",
    "\n",
    "Boosting is an additional generic ensemble technique which attempts to boost the accuracy of any given learning algorithm.\n",
    "The focus of boosting methods is to produce a series of weak learners in order to produce a powerful combination. \n",
    "A weak learner is a learner that has accuracy only slightly better than chance.\n",
    "In boosting, the training set used for each member of the series is chosen based on the performance of the earlier classifier(s) in the series. \n",
    "Examples that are incorrectly predicted by previous classifiers in the series are chosen more often than examples that were correctly predicted.\n",
    "Thus Boosting attempts to produce new classifiers that are better able to predict examples for which the current ensemble’s performance is poor. \n",
    "Unlike Bagging (employed in Random Forests), the resampling of the training set is dependent on the performance of the earlier classifiers, which prevents a parallel implementation of the ensembling procedure.\n",
    "\n",
    "For this exercise you need to:\n",
    "- Implement a boosting ensemble of 15 decision trees using Ada Boost (cf. 11.3.1)\n",
    "- The initial sampling probability for each sample $i$ is $w_i = \\frac{1}{N}$ (with $1 \\leq i \\leq N$, $N$ being the number of samples in train set). \n",
    "- After the first tree, $w_i$ is adjusted according to the classification performances:\n",
    "    \\begin{equation} w_i = w_i \\begin{cases} e^{-\\alpha_j} & \\text{if sample $i$ correctly classified} \\\\ e^{\\alpha_j} & \\text{if sample $i$ incorrectly classified} \\end{cases} \\end{equation}\n",
    "    \\begin{equation} \\alpha_j = \\log(\\frac{1-ER_j}{ER_j}) \\end{equation}\n",
    "    \\begin{equation} ER_j = \\frac{\\sum_{i=1}^{N} w_{i} I\\left(y_{i} \\neq h_{j}\\left(x_{i}\\right)\\right)}{\\sum_{i=1}^{N} w_{i}} \\end{equation}\n",
    "      \n",
    "- The prediction of the boosting ensemble is defined as a linear combination (weighted by $\\alpha_j$) of the outputs of the different trees:\n",
    "    \\begin{equation} h_{boo} = sign\\left( \\sum_{j=1}^{m} = \\alpha_j*h_j(x)\\right) \\end{equation}\n",
    "\n",
    "    \n",
    "\n",
    "Here is an implementation helper (multiple variants exist) :\n",
    "\n",
    "- The number of trees is a compromise between training time and performance. \n",
    "- The trees are usually depth-forced : add *control=tree.control(Ntrain,mincut=10)* as a parameter to *tree()*.\n",
    "- For this exercice, we will use the *tree* package. It is therefore easier to recode the spam labels as -1/+1."
   ]
  },
  {
   "cell_type": "code",
   "execution_count": 27,
   "metadata": {},
   "outputs": [],
   "source": [
    "nsample <- nrow(spam)\n",
    "data(spam)"
   ]
  },
  {
   "cell_type": "markdown",
   "metadata": {},
   "source": [
    "Now compare, in terms of misclassifcation, a regular tree against a boosted 15-trees model. You can re-use the code of the ''very simple partition'' as for the first tree we designed."
   ]
  },
  {
   "cell_type": "code",
   "execution_count": 28,
   "metadata": {},
   "outputs": [
    {
     "name": "stdout",
     "output_type": "stream",
     "text": [
      "[1] \"[INFO] - Training set size: 2300 - Testing set size 2301\"\n"
     ]
    },
    {
     "name": "stderr",
     "output_type": "stream",
     "text": [
      "Warning message in Y_pred_boosting + alpha_vec[j] * predict(tree_model, test_data):\n",
      "\"longer object length is not a multiple of shorter object length\"\n"
     ]
    },
    {
     "name": "stdout",
     "output_type": "stream",
     "text": [
      "[1] \"[INFO] - Training set size: 2300 - Testing set size 2301\"\n",
      "[1] \"[INFO] - Training set size: 2300 - Testing set size 2301\"\n",
      "[1] \"[INFO] - Training set size: 2300 - Testing set size 2301\"\n",
      "[1] \"[INFO] - Training set size: 2300 - Testing set size 2301\"\n",
      "[1] \"[INFO] - Training set size: 2300 - Testing set size 2301\"\n",
      "[1] \"[INFO] - Training set size: 2300 - Testing set size 2301\"\n",
      "[1] \"[INFO] - Training set size: 2300 - Testing set size 2301\"\n",
      "[1] \"[INFO] - Training set size: 2300 - Testing set size 2301\"\n",
      "[1] \"[INFO] - Training set size: 2300 - Testing set size 2301\"\n",
      "[1] \"[INFO] - Training set size: 2300 - Testing set size 2301\"\n",
      "[1] \"[INFO] - Training set size: 2300 - Testing set size 2301\"\n",
      "[1] \"[INFO] - Training set size: 2300 - Testing set size 2301\"\n",
      "[1] \"[INFO] - Training set size: 2300 - Testing set size 2301\"\n",
      "[1] \"[INFO] - Training set size: 2300 - Testing set size 2301\"\n",
      "[1] \"[INFO] - Misclassification rate - Single tree: 0.0947414167753151\"\n",
      "[1] \"[INFO] - Misclassification rate - Boosted tree: 0.0525858322468492\"\n"
     ]
    }
   ],
   "source": [
    "library(tree)\n",
    "\n",
    "# Parameters of the algorithm\n",
    "n_trees <- 15\n",
    "N <- nrow(spam)\n",
    "\n",
    "alpha_vec <- array(NA,T)\n",
    "misclassification_vec <- array(NA,T)\n",
    "\n",
    "# Rescaling target variable\n",
    "data(spam)\n",
    "spam$type <- ifelse(spam$type == \"nonspam\",-1,1) # Data in {-1,+1}\n",
    "target_variable <- ncol(spam)\n",
    "\n",
    "\n",
    "# 50/50 data split\n",
    "spam_idx <- sample(1:N)\n",
    "half_split <- floor(N/2)\n",
    "train_data <- spam[spam_idx[1:half_split],]\n",
    "test_data <- spam[spam_idx[(half_split+1):nrow(spam)],]\n",
    "\n",
    "\n",
    "# Prediction - Single tree\n",
    "tree_model <-tree(type ~ ., train_data,\n",
    "                  control=tree.control(half_split,mincut=10))\n",
    "Y_pred_tree <- sign(predict(tree_model,test_data))\n",
    "\n",
    "# Boosting\n",
    "Y_pred_boosting <- rep(0,length(test_data))\n",
    "w <- array(1/half_split,half_split)\n",
    "\n",
    "set.seed(555)\n",
    "\n",
    "# For each boosting iteration\n",
    "for(j in 1:n_trees){\n",
    "    \n",
    "    #1. Sample from the training set\n",
    "    selected_samples <- sample(1:half_split,prob=w,replace=TRUE)\n",
    "    \n",
    "    print(paste(\"[INFO] - Training set size:\",dim(train_data)[1],\"- Testing set size\",dim(test_data)[1]))\n",
    "    \n",
    "    #2. Fit a model on the training set and evaluate it on the training set\n",
    "    tree_model <-tree(type ~ ., train_data[selected_samples,],\n",
    "                  control=tree.control(half_split,mincut=10))\n",
    "    Y_pred_train <- sign(predict(tree_model,train_data))\n",
    "    \n",
    "    #3. Compute misclassification on training set\n",
    "    misclassification_vec[j] <- sum(w*as.integer(train_data$type != sign(Y_pred_train)))/sum(w)\n",
    "    \n",
    "    #4. Computation of alpha and updating of resampling weight\n",
    "    alpha_vec[j] <- log((1-misclassification_vec[j])/misclassification_vec[j])\n",
    "    w <- w * exp(alpha_vec[j]*as.integer(train_data$type != sign(Y_pred_train)))\n",
    "    \n",
    "    #5. Normalize the weights in order to represent a true distribution\n",
    "    w <- w/sum(w)\n",
    "    \n",
    "    #6. Compute the predictions on the testing set and weight them by alpha\n",
    "    Y_pred_boosting<-Y_pred_boosting+alpha_vec[j]*predict(tree_model,test_data)\n",
    "\n",
    "\n",
    "}\n",
    "\n",
    "# Misclassification error comparation\n",
    "misclassification_error_base <- sum(as.integer(test_data$type != sign(Y_pred_tree)))/length(Y_pred_tree)\n",
    "misclassification_error_boosting <- sum(as.integer(test_data$type != sign(Y_pred_boosting)))/length(Y_pred_boosting)\n",
    "\n",
    "print(paste(\"[INFO] - Misclassification rate - Single tree:\",misclassification_error_base))\n",
    "print(paste(\"[INFO] - Misclassification rate - Boosted tree:\",misclassification_error_boosting))\n"
   ]
  }
 ],
 "metadata": {
  "anaconda-cloud": {},
  "kernelspec": {
   "display_name": "R",
   "language": "R",
   "name": "ir"
  },
  "language_info": {
   "codemirror_mode": "r",
   "file_extension": ".r",
   "mimetype": "text/x-r-source",
   "name": "R",
   "pygments_lexer": "r",
   "version": "4.0.3"
  },
  "latex_envs": {
   "LaTeX_envs_menu_present": true,
   "autoclose": false,
   "autocomplete": true,
   "bibliofile": "biblio.bib",
   "cite_by": "apalike",
   "current_citInitial": 1,
   "eqLabelWithNumbers": true,
   "eqNumInitial": 1,
   "hotkeys": {
    "equation": "Ctrl-E",
    "itemize": "Ctrl-I"
   },
   "labels_anchors": false,
   "latex_user_defs": false,
   "report_style_numbering": false,
   "user_envs_cfg": false
  }
 },
 "nbformat": 4,
 "nbformat_minor": 4
}
